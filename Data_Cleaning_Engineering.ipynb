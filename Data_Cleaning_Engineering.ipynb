{
  "nbformat": 4,
  "nbformat_minor": 0,
  "metadata": {
    "colab": {
      "provenance": [],
      "authorship_tag": "ABX9TyMUKK13IWeOnbG/c0VOKBtO",
      "include_colab_link": true
    },
    "kernelspec": {
      "name": "python3",
      "display_name": "Python 3"
    },
    "language_info": {
      "name": "python"
    }
  },
  "cells": [
    {
      "cell_type": "markdown",
      "metadata": {
        "id": "view-in-github",
        "colab_type": "text"
      },
      "source": [
        "<a href=\"https://colab.research.google.com/github/joelmutinda/dsc-phase-1-project/blob/master/Data_Cleaning_Engineering.ipynb\" target=\"_parent\"><img src=\"https://colab.research.google.com/assets/colab-badge.svg\" alt=\"Open In Colab\"/></a>"
      ]
    },
    {
      "cell_type": "markdown",
      "source": [
        "#FOOD SECURITY ANALYSIS TOOL FOR KARAMOJA SUB-COUNTY#\n",
        "\n",
        "\n",
        "BY JOEL MUTINDA\n"
      ],
      "metadata": {
        "id": "MTatvlYrMKZG"
      }
    },
    {
      "cell_type": "markdown",
      "source": [
        " PROBLEM STATEMENT\n",
        "\n",
        " Karamoja is the most food-insecure region of Uganda. One of the main reasons is the low productivity level of the crops due to intense droughts as well as pest and disease outbreaks. Karamoja (Links to an external site.)Links to an external site.\n",
        "\n",
        "In Karamoja, several NGOs provide technical support as well as farm inputs to the farmers experiencing extremely low yield. Though, they lack visibility into the overall state of the region and often need to rely on some very local sources of information to prioritize their activities.\n",
        "Dalberg Data Insights (DDI) has been requested to develop a new food security monitoring tool to support the decision making of one of those NGOs active in Karamoja.\n",
        "\n",
        "To do so, Dalberg Data Insights developed a methodology to remotely measure the yield of the two main staple crops of the region (i.e. sorghum and maize) based on satellite images. The agri-tech team just ran the model for the 2017 crop season."
      ],
      "metadata": {
        "id": "0dT7U6A5MWDH"
      }
    },
    {
      "cell_type": "markdown",
      "source": [
        "Statement Description\n",
        "\n",
        "As a Data Analyst, the agri-tech team is asking you to develop an interactive visualization tool of the results for this first crop season. This visualization tool that you will develop will be used as a first mockup of the Food Security Monitoring tool that DDI will develop for the NGO.\n",
        "Based on your experience, the team expects you to come up with a first draft within the coming 3 working days. They give you carte blanche in terms of structure and functionalities but they know that the client wants:\n",
        "At least a map in the dashboard\n",
        "The possibility of visualizing the results by district or sub-county (two administrative levels used by the NGO)"
      ],
      "metadata": {
        "id": "v7BtlB86M8Wh"
      }
    },
    {
      "cell_type": "markdown",
      "source": [
        "Loading the zip file"
      ],
      "metadata": {
        "id": "W_hUnh5cQdz_"
      }
    },
    {
      "source": [
        "import pandas as pd\n",
        "import zipfile #Removed the extra space\n",
        "\n",
        "# Open the zip file\n",
        "with zipfile.ZipFile('DATA.zip') as z:\n",
        "    # Get a list of files in the zip\n",
        "    files = z.namelist()\n",
        "    # Filter for CSV files (adjust if your file has a different extension)\n",
        "    csv_files = [f for f in files if f.endswith('.csv')]"
      ],
      "cell_type": "code",
      "metadata": {
        "id": "nEKSQ18NMHM9"
      },
      "execution_count": 1,
      "outputs": []
    },
    {
      "source": [
        "import pandas as pd\n",
        "import zipfile\n",
        "\n",
        "# Open the zip file\n",
        "with zipfile.ZipFile('DATA.zip') as z:\n",
        "    # Get a list of files in the zip\n",
        "    files = z.namelist()\n",
        "    # Filter for CSV files (adjust if your file has a different extension)\n",
        "    csv_files = [f for f in files if f.endswith('.csv')]\n",
        "\n",
        "    #Read the csv file within the with statement\n",
        "    df = pd.read_csv(z.open(csv_files[0]))\n",
        "\n",
        "# Now you can work with the DataFrame 'df' outside the with block\n",
        "print(df.head())"
      ],
      "cell_type": "code",
      "metadata": {
        "colab": {
          "base_uri": "https://localhost:8080/"
        },
        "id": "ABPF5lhkPPre",
        "outputId": "3b122751-0713-4b2d-cb7a-fd92967fb557"
      },
      "execution_count": 2,
      "outputs": [
        {
          "output_type": "stream",
          "name": "stdout",
          "text": [
            "   OBJECTID       SUBCOUNTY_NAME DISTRICT_NAME    POP        Area Karamoja  \\\n",
            "0       263              KACHERI        KOTIDO  17244  1067176155        Y   \n",
            "1       264               KOTIDO        KOTIDO  52771   597575188        Y   \n",
            "2       265  KOTIDO TOWN COUNCIL        KOTIDO  27389    23972401        Y   \n",
            "3       266         NAKAPERIMORU        KOTIDO  38775   419111591        Y   \n",
            "4       267           PANYANGARA        KOTIDO  65704   880955930        Y   \n",
            "\n",
            "   S_Yield_Ha   M_Yield_Ha  Crop_Area_Ha     S_Area_Ha   M_Area_Ha  \\\n",
            "0  354.207411  1137.467019   7023.533691   6434.342449  528.124229   \n",
            "1  367.890523  1162.996687  13587.990760  12455.592640  824.767081   \n",
            "2  369.314177  1167.005832   1656.531855   1520.322052    8.561644   \n",
            "3  283.324569   852.366578   7087.823334   6761.488901   45.721712   \n",
            "4  373.836926  1283.859882  10398.249390  10111.198130  172.611914   \n",
            "\n",
            "     S_Prod_Tot     M_Prod_Tot  \n",
            "0  2.279092e+06  600723.892900  \n",
            "1  4.582294e+06  959201.382500  \n",
            "2  5.614765e+05    9991.488268  \n",
            "3  1.915696e+06   38971.659080  \n",
            "4  3.779939e+06  221609.511400  \n"
          ]
        }
      ]
    },
    {
      "source": [
        "import pandas as pd\n",
        "import zipfile\n",
        "\n",
        "# Open the zip file\n",
        "with zipfile.ZipFile('DATA.zip') as z:\n",
        "    # Get a list of files in the zip\n",
        "    files = z.namelist()\n",
        "    # Filter for CSV files (adjust if your file has a different extension)\n",
        "    csv_files = [f for f in files if f.endswith('.csv')]\n",
        "\n",
        "    #Read the csv file within the with statement\n",
        "    df = pd.read_csv(z.open(csv_files[0]))\n",
        "\n",
        "# Now you can work with the DataFrame 'df' outside the with block\n",
        "print(df.shape) # Removed the parentheses since df.shape is an attribute"
      ],
      "cell_type": "code",
      "metadata": {
        "colab": {
          "base_uri": "https://localhost:8080/"
        },
        "id": "Xl4KuEuwPw8B",
        "outputId": "edf58950-fd7a-4c99-b3c8-c2f053bc0e50"
      },
      "execution_count": 3,
      "outputs": [
        {
          "output_type": "stream",
          "name": "stdout",
          "text": [
            "(52, 13)\n"
          ]
        }
      ]
    },
    {
      "source": [
        "import pandas as pd\n",
        "import zipfile\n",
        "\n",
        "def extract_all_csv_from_zip(zip_path):\n",
        "    \"\"\"\n",
        "    Extracts all CSV files from a ZIP archive and returns them as a dictionary of DataFrames.\n",
        "\n",
        "    Args:\n",
        "        zip_path (str): Path to the ZIP file.\n",
        "\n",
        "    Returns:\n",
        "        dict: A dictionary where keys are file names and values are DataFrames containing the data.\n",
        "    \"\"\"\n",
        "    dataframes = {}\n",
        "\n",
        "    # Open the zip file\n",
        "    with zipfile.ZipFile(zip_path, 'r') as z:\n",
        "        # Get a list of all files in the zip\n",
        "        files = z.namelist()\n",
        "        # Filter for CSV files\n",
        "        csv_files = [f for f in files if f.endswith('.csv')]\n",
        "\n",
        "        # Read each CSV file into a DataFrame and store in the dictionary\n",
        "        for csv_file in csv_files:\n",
        "            # Use an encoding that can handle the file. Try 'latin-1' first, if that doesn't work try others like 'iso-8859-1'.\n",
        "            df = pd.read_csv(z.open(csv_file), encoding='latin-1')\n",
        "            dataframes[csv_file] = df\n",
        "\n",
        "    return dataframes\n",
        "\n",
        "# Example usage\n",
        "zip_path = 'DATA.zip'\n",
        "dataframes_dict = extract_all_csv_from_zip(zip_path)\n",
        "\n",
        "# Print the first few rows of each DataFrame\n",
        "for file_name, df in dataframes_dict.items():\n",
        "    print(f\"\\nData from {file_name}:\")\n",
        "    print(df.head())"
      ],
      "cell_type": "code",
      "metadata": {
        "colab": {
          "base_uri": "https://localhost:8080/"
        },
        "id": "n9Na52U0THYG",
        "outputId": "c0c7a4e5-522c-44e0-961e-a21c910af264"
      },
      "execution_count": 4,
      "outputs": [
        {
          "output_type": "stream",
          "name": "stdout",
          "text": [
            "\n",
            "Data from DATA/TABLES/Uganda_Karamoja_Subcounty_Crop_Yield_Population.csv:\n",
            "   OBJECTID       SUBCOUNTY_NAME DISTRICT_NAME    POP        Area Karamoja  \\\n",
            "0       263              KACHERI        KOTIDO  17244  1067176155        Y   \n",
            "1       264               KOTIDO        KOTIDO  52771   597575188        Y   \n",
            "2       265  KOTIDO TOWN COUNCIL        KOTIDO  27389    23972401        Y   \n",
            "3       266         NAKAPERIMORU        KOTIDO  38775   419111591        Y   \n",
            "4       267           PANYANGARA        KOTIDO  65704   880955930        Y   \n",
            "\n",
            "   S_Yield_Ha   M_Yield_Ha  Crop_Area_Ha     S_Area_Ha   M_Area_Ha  \\\n",
            "0  354.207411  1137.467019   7023.533691   6434.342449  528.124229   \n",
            "1  367.890523  1162.996687  13587.990760  12455.592640  824.767081   \n",
            "2  369.314177  1167.005832   1656.531855   1520.322052    8.561644   \n",
            "3  283.324569   852.366578   7087.823334   6761.488901   45.721712   \n",
            "4  373.836926  1283.859882  10398.249390  10111.198130  172.611914   \n",
            "\n",
            "     S_Prod_Tot     M_Prod_Tot  \n",
            "0  2.279092e+06  600723.892900  \n",
            "1  4.582294e+06  959201.382500  \n",
            "2  5.614765e+05    9991.488268  \n",
            "3  1.915696e+06   38971.659080  \n",
            "4  3.779939e+06  221609.511400  \n",
            "\n",
            "Data from __MACOSX/DATA/TABLES/._Uganda_Karamoja_Subcounty_Crop_Yield_Population.csv:\n",
            "Empty DataFrame\n",
            "Columns: [Unnamed: 0]\n",
            "Index: []\n",
            "\n",
            "Data from DATA/TABLES/Uganda_Karamoja_District_Crop_Yield_Population.csv:\n",
            "   OBJECTID     NAME     POP        Area  S_Yield_Ha  M_Yield_Ha  \\\n",
            "0        92     ABIM   90385  2771977106         449        1040   \n",
            "1        96   AMUDAT  101790  1643582836         205        1297   \n",
            "2        20  KAABONG  627057  7373606003         279         945   \n",
            "3        85   KOTIDO  243157  3641539808         331        1148   \n",
            "4         5   MOROTO  127811  3570160948         128         355   \n",
            "\n",
            "   Crop_Area_Ha     S_Area_Ha    M_Area_Ha  S_Prod_Tot  M_Prod_Tot  \n",
            "0   5470.068394   3277.295971  1848.621855     1471506     1922567  \n",
            "1   5765.443719   2973.423860  2733.661014      609552     3545558  \n",
            "2  28121.672530  20544.194960  7394.416334     5731830     6987723  \n",
            "3  53032.649450  50247.443900  1751.372284    16631904     2010575  \n",
            "4   5954.814048   4741.748776  1190.050606      606944      422468  \n",
            "\n",
            "Data from __MACOSX/DATA/TABLES/._Uganda_Karamoja_District_Crop_Yield_Population.csv:\n",
            "Empty DataFrame\n",
            "Columns: [Unnamed: 0]\n",
            "Index: []\n"
          ]
        }
      ]
    },
    {
      "cell_type": "markdown",
      "source": [
        "#PERFOMING DATA ENGINEERING THAT INCLUDES DATA CLEANING#"
      ],
      "metadata": {
        "id": "QbJ9oP6reQbT"
      }
    },
    {
      "cell_type": "markdown",
      "source": [
        "Python Code: Data Extraction and Cleaning"
      ],
      "metadata": {
        "id": "F2cW-6Y2QYMr"
      }
    },
    {
      "cell_type": "code",
      "source": [
        "import pandas as pd\n",
        "import zipfile\n",
        "\n",
        "def extract_csv_from_zip(zip_path):\n",
        "    \"\"\"\n",
        "    Extracts the first CSV file from a ZIP archive and returns it as a DataFrame.\n",
        "\n",
        "    Args:\n",
        "        zip_path (str): Path to the ZIP file.\n",
        "\n",
        "    Returns:\n",
        "        pd.DataFrame: DataFrame containing the data from the first CSV file in the ZIP archive.\n",
        "    \"\"\"\n",
        "    with zipfile.ZipFile(zip_path, 'r') as z:\n",
        "        # Get a list of all files in the zip\n",
        "        files = z.namelist()\n",
        "\n",
        "        # Fi\n"
      ],
      "metadata": {
        "id": "5uqkGhYLQL6Z"
      },
      "execution_count": 5,
      "outputs": []
    },
    {
      "source": [
        "import pandas as pd\n",
        "import zipfile\n",
        "\n",
        "# Open the zip file\n",
        "with zipfile.ZipFile('DATA.zip') as z:\n",
        "    # Get a list of files in the zip\n",
        "    files = z.namelist()\n",
        "\n",
        "    # Filter for CSV files\n",
        "    csv_files = [f for f in files if f.endswith('.csv')]\n",
        "\n",
        "    # Initialize a dictionary to hold DataFrames\n",
        "    dataframes = {}\n",
        "\n",
        "    # Loop through CSV files and read each into a DataFrame\n",
        "    for file in csv_files:\n",
        "        # Use the encoding parameter to specify the correct encoding\n",
        "        dataframes[file] = pd.read_csv(z.open(file), encoding='latin-1') # Try 'latin-1' or 'cp1252' if 'latin-1' doesn't work\n",
        "\n",
        "# Now 'dataframes' contains a DataFrame for each CSV file\n",
        "for filename, df in dataframes.items():\n",
        "    print(f\"{filename}: {df.shape}\")"
      ],
      "cell_type": "code",
      "metadata": {
        "colab": {
          "base_uri": "https://localhost:8080/"
        },
        "id": "e3IW1X2eQ2o1",
        "outputId": "7a913719-25a7-4cfc-873c-b6b591c72d9d"
      },
      "execution_count": 6,
      "outputs": [
        {
          "output_type": "stream",
          "name": "stdout",
          "text": [
            "DATA/TABLES/Uganda_Karamoja_Subcounty_Crop_Yield_Population.csv: (52, 13)\n",
            "__MACOSX/DATA/TABLES/._Uganda_Karamoja_Subcounty_Crop_Yield_Population.csv: (0, 1)\n",
            "DATA/TABLES/Uganda_Karamoja_District_Crop_Yield_Population.csv: (7, 11)\n",
            "__MACOSX/DATA/TABLES/._Uganda_Karamoja_District_Crop_Yield_Population.csv: (0, 1)\n"
          ]
        }
      ]
    },
    {
      "cell_type": "markdown",
      "source": [
        "CHECKING MISSING VALUES"
      ],
      "metadata": {
        "id": "HJckVKvxRcJ-"
      }
    },
    {
      "cell_type": "code",
      "source": [
        "# Check for missing values in each column\n",
        "missing_values = df.isnull().sum()\n",
        "print(\"Missing values in each column:\")\n",
        "print(missing_values)\n",
        "\n",
        "# Example of handling missing values (optional)\n",
        "# Filling missing values with a specific value (e.g., 0)\n",
        "df_filled = df.fillna(0)\n",
        "\n",
        "# Dropping rows with any missing values\n",
        "df_cleaned = df.dropna()\n",
        "\n",
        "# Continue with cleaned data\n",
        "print(df_cleaned.head())\n"
      ],
      "metadata": {
        "colab": {
          "base_uri": "https://localhost:8080/"
        },
        "id": "z1aKAm6hR2Sk",
        "outputId": "0361f49b-30b7-4fdc-8051-6fec1a312594"
      },
      "execution_count": 7,
      "outputs": [
        {
          "output_type": "stream",
          "name": "stdout",
          "text": [
            "Missing values in each column:\n",
            "Unnamed: 0    0\n",
            "dtype: int64\n",
            "Empty DataFrame\n",
            "Columns: [Unnamed: 0]\n",
            "Index: []\n"
          ]
        }
      ]
    },
    {
      "cell_type": "markdown",
      "source": [
        "CHECKING FOR DUPLICATES\n"
      ],
      "metadata": {
        "id": "r9hEwxhCRgpU"
      }
    },
    {
      "cell_type": "code",
      "source": [
        "import pandas as pd\n",
        "import zipfile\n",
        "\n",
        "# Open the zip file\n",
        "with zipfile.ZipFile('DATA.zip') as z:\n",
        "    # Get a list of files in the zip\n",
        "    files = z.namelist()\n",
        "    # Filter for CSV files (adjust if your file has a different extension)\n",
        "    csv_files = [f for f in files if f.endswith('.csv')]\n",
        "\n",
        "    # Read the CSV file within the with statement\n",
        "    df = pd.read_csv(z.open(csv_files[0]))\n",
        "\n",
        "# Now you can work with the DataFrame 'df' outside the with block\n",
        "print(\"First 5 rows of the DataFrame:\")\n",
        "print(df.head())\n",
        "\n",
        "# Check for duplicates\n",
        "duplicates = df.duplicated()\n",
        "\n",
        "print(\"\\nNumber of duplicate rows:\")\n",
        "print(duplicates.sum())\n",
        "\n",
        "if duplicates.sum() > 0:\n",
        "    print(\"\\nDuplicate rows:\")\n",
        "    print(df[duplicates])\n",
        "else:\n",
        "    print(\"\\nNo duplicate rows found.\")\n"
      ],
      "metadata": {
        "colab": {
          "base_uri": "https://localhost:8080/"
        },
        "id": "3AUVMHPSRkEp",
        "outputId": "4b991353-7e65-4432-bdb2-e110384b9f52"
      },
      "execution_count": 8,
      "outputs": [
        {
          "output_type": "stream",
          "name": "stdout",
          "text": [
            "First 5 rows of the DataFrame:\n",
            "   OBJECTID       SUBCOUNTY_NAME DISTRICT_NAME    POP        Area Karamoja  \\\n",
            "0       263              KACHERI        KOTIDO  17244  1067176155        Y   \n",
            "1       264               KOTIDO        KOTIDO  52771   597575188        Y   \n",
            "2       265  KOTIDO TOWN COUNCIL        KOTIDO  27389    23972401        Y   \n",
            "3       266         NAKAPERIMORU        KOTIDO  38775   419111591        Y   \n",
            "4       267           PANYANGARA        KOTIDO  65704   880955930        Y   \n",
            "\n",
            "   S_Yield_Ha   M_Yield_Ha  Crop_Area_Ha     S_Area_Ha   M_Area_Ha  \\\n",
            "0  354.207411  1137.467019   7023.533691   6434.342449  528.124229   \n",
            "1  367.890523  1162.996687  13587.990760  12455.592640  824.767081   \n",
            "2  369.314177  1167.005832   1656.531855   1520.322052    8.561644   \n",
            "3  283.324569   852.366578   7087.823334   6761.488901   45.721712   \n",
            "4  373.836926  1283.859882  10398.249390  10111.198130  172.611914   \n",
            "\n",
            "     S_Prod_Tot     M_Prod_Tot  \n",
            "0  2.279092e+06  600723.892900  \n",
            "1  4.582294e+06  959201.382500  \n",
            "2  5.614765e+05    9991.488268  \n",
            "3  1.915696e+06   38971.659080  \n",
            "4  3.779939e+06  221609.511400  \n",
            "\n",
            "Number of duplicate rows:\n",
            "0\n",
            "\n",
            "No duplicate rows found.\n"
          ]
        }
      ]
    },
    {
      "cell_type": "markdown",
      "source": [
        "CHECKING FOR MISSING VALUES REMAINING"
      ],
      "metadata": {
        "id": "1ofN1YPBfvOE"
      }
    },
    {
      "cell_type": "code",
      "source": [
        "import pandas as pd\n",
        "import zipfile\n",
        "\n",
        "# Open the zip file\n",
        "with zipfile.ZipFile('DATA.zip') as z:\n",
        "    # Get a list of files in the zip\n",
        "    files = z.namelist()\n",
        "    # Filter for CSV files\n",
        "    csv_files = [f for f in files if f.endswith('.csv')]\n",
        "\n",
        "    if not csv_files:\n",
        "        raise FileNotFoundError(\"No CSV files found in the zip archive.\")\n",
        "\n",
        "    # Read the first CSV file\n",
        "    with z.open(csv_files[0]) as f:\n",
        "        df = pd.read_csv(f)\n",
        "\n",
        "# Basic data cleaning checks\n",
        "print(\"First few rows of the DataFrame:\")\n",
        "print(df.head())\n",
        "\n",
        "print(\"\\nDataFrame info:\")\n",
        "print(df.info())\n",
        "\n",
        "print(\"\\nChecking for missing values:\")\n",
        "print(df.isnull().sum())\n"
      ],
      "metadata": {
        "colab": {
          "base_uri": "https://localhost:8080/"
        },
        "id": "m1yoiu0HXKbc",
        "outputId": "ffeba1c6-5caa-4fd9-b6bc-e5725b280db7"
      },
      "execution_count": 9,
      "outputs": [
        {
          "output_type": "stream",
          "name": "stdout",
          "text": [
            "First few rows of the DataFrame:\n",
            "   OBJECTID       SUBCOUNTY_NAME DISTRICT_NAME    POP        Area Karamoja  \\\n",
            "0       263              KACHERI        KOTIDO  17244  1067176155        Y   \n",
            "1       264               KOTIDO        KOTIDO  52771   597575188        Y   \n",
            "2       265  KOTIDO TOWN COUNCIL        KOTIDO  27389    23972401        Y   \n",
            "3       266         NAKAPERIMORU        KOTIDO  38775   419111591        Y   \n",
            "4       267           PANYANGARA        KOTIDO  65704   880955930        Y   \n",
            "\n",
            "   S_Yield_Ha   M_Yield_Ha  Crop_Area_Ha     S_Area_Ha   M_Area_Ha  \\\n",
            "0  354.207411  1137.467019   7023.533691   6434.342449  528.124229   \n",
            "1  367.890523  1162.996687  13587.990760  12455.592640  824.767081   \n",
            "2  369.314177  1167.005832   1656.531855   1520.322052    8.561644   \n",
            "3  283.324569   852.366578   7087.823334   6761.488901   45.721712   \n",
            "4  373.836926  1283.859882  10398.249390  10111.198130  172.611914   \n",
            "\n",
            "     S_Prod_Tot     M_Prod_Tot  \n",
            "0  2.279092e+06  600723.892900  \n",
            "1  4.582294e+06  959201.382500  \n",
            "2  5.614765e+05    9991.488268  \n",
            "3  1.915696e+06   38971.659080  \n",
            "4  3.779939e+06  221609.511400  \n",
            "\n",
            "DataFrame info:\n",
            "<class 'pandas.core.frame.DataFrame'>\n",
            "RangeIndex: 52 entries, 0 to 51\n",
            "Data columns (total 13 columns):\n",
            " #   Column          Non-Null Count  Dtype  \n",
            "---  ------          --------------  -----  \n",
            " 0   OBJECTID        52 non-null     int64  \n",
            " 1   SUBCOUNTY_NAME  52 non-null     object \n",
            " 2   DISTRICT_NAME   52 non-null     object \n",
            " 3   POP             52 non-null     int64  \n",
            " 4   Area            52 non-null     int64  \n",
            " 5   Karamoja        52 non-null     object \n",
            " 6   S_Yield_Ha      52 non-null     float64\n",
            " 7   M_Yield_Ha      52 non-null     float64\n",
            " 8   Crop_Area_Ha    52 non-null     float64\n",
            " 9   S_Area_Ha       52 non-null     float64\n",
            " 10  M_Area_Ha       52 non-null     float64\n",
            " 11  S_Prod_Tot      52 non-null     float64\n",
            " 12  M_Prod_Tot      52 non-null     float64\n",
            "dtypes: float64(7), int64(3), object(3)\n",
            "memory usage: 5.4+ KB\n",
            "None\n",
            "\n",
            "Checking for missing values:\n",
            "OBJECTID          0\n",
            "SUBCOUNTY_NAME    0\n",
            "DISTRICT_NAME     0\n",
            "POP               0\n",
            "Area              0\n",
            "Karamoja          0\n",
            "S_Yield_Ha        0\n",
            "M_Yield_Ha        0\n",
            "Crop_Area_Ha      0\n",
            "S_Area_Ha         0\n",
            "M_Area_Ha         0\n",
            "S_Prod_Tot        0\n",
            "M_Prod_Tot        0\n",
            "dtype: int64\n"
          ]
        }
      ]
    },
    {
      "cell_type": "markdown",
      "source": [
        "CLEANING DATA"
      ],
      "metadata": {
        "id": "qBdlObcYf1EG"
      }
    },
    {
      "cell_type": "code",
      "source": [
        "import pandas as pd\n",
        "import zipfile\n",
        "\n",
        "# Open the zip file\n",
        "with zipfile.ZipFile('DATA.zip') as z:\n",
        "    # Get a list of files in the zip\n",
        "    files = z.namelist()\n",
        "    # Filter for CSV files\n",
        "    csv_files = [f for f in files if f.endswith('.csv')]\n",
        "\n",
        "    if not csv_files:\n",
        "        raise FileNotFoundError(\"No CSV files found in the zip archive.\")\n",
        "\n",
        "    # Read the first CSV file\n",
        "    with z.open(csv_files[0]) as f:\n",
        "        df = pd.read_csv(f)\n",
        "\n",
        "# Display initial information\n",
        "print(\"First few rows of the DataFrame:\")\n",
        "print(df.head())\n",
        "\n",
        "print(\"\\nDataFrame info:\")\n",
        "print(df.info())\n",
        "\n",
        "print(\"\\nChecking for missing values:\")\n",
        "print(df.isnull().sum())\n",
        "\n",
        "# Data Cleaning Steps\n",
        "\n",
        "# 1. Handle missing values\n",
        "# Example: Fill missing values with a placeholder or method\n",
        "df.fillna(method='ffill', inplace=True)  # Forward fill\n",
        "\n",
        "# Alternatively, you can drop rows or columns with missing values\n",
        "# df.dropna(inplace=True)  # Drop rows with any missing values\n",
        "# df.dropna(axis=1, inplace=True)  # Drop columns with any missing values\n",
        "\n",
        "# 2. Remove duplicate rows\n",
        "df.drop_duplicates(inplace=True)\n",
        "\n",
        "# 3. Convert data types if needed\n",
        "# Example: Convert a column to numeric\n",
        "# df['column_name'] = pd.to_numeric(df['column_name'], errors='coerce')\n",
        "\n",
        "# 4. Handle incorrect data types\n",
        "# Example: Convert a column to a datetime format\n",
        "# df['date_column'] = pd.to_datetime(df['date_column'], errors='coerce')\n",
        "\n",
        "# Display cleaned DataFrame information\n",
        "print(\"\\nDataFrame info after cleaning:\")\n",
        "print(df.info())\n",
        "\n",
        "print(\"\\nFirst few rows of the cleaned DataFrame:\")\n",
        "print(df.head())\n",
        "\n",
        "# Optional: Save the cleaned DataFrame to a new CSV file\n",
        "df.to_csv('cleaned_data.csv', index=False)\n"
      ],
      "metadata": {
        "colab": {
          "base_uri": "https://localhost:8080/"
        },
        "id": "eJ5PH6g4XcOf",
        "outputId": "9f1262a4-58d5-4072-8dce-77d856eeee99"
      },
      "execution_count": 10,
      "outputs": [
        {
          "output_type": "stream",
          "name": "stdout",
          "text": [
            "First few rows of the DataFrame:\n",
            "   OBJECTID       SUBCOUNTY_NAME DISTRICT_NAME    POP        Area Karamoja  \\\n",
            "0       263              KACHERI        KOTIDO  17244  1067176155        Y   \n",
            "1       264               KOTIDO        KOTIDO  52771   597575188        Y   \n",
            "2       265  KOTIDO TOWN COUNCIL        KOTIDO  27389    23972401        Y   \n",
            "3       266         NAKAPERIMORU        KOTIDO  38775   419111591        Y   \n",
            "4       267           PANYANGARA        KOTIDO  65704   880955930        Y   \n",
            "\n",
            "   S_Yield_Ha   M_Yield_Ha  Crop_Area_Ha     S_Area_Ha   M_Area_Ha  \\\n",
            "0  354.207411  1137.467019   7023.533691   6434.342449  528.124229   \n",
            "1  367.890523  1162.996687  13587.990760  12455.592640  824.767081   \n",
            "2  369.314177  1167.005832   1656.531855   1520.322052    8.561644   \n",
            "3  283.324569   852.366578   7087.823334   6761.488901   45.721712   \n",
            "4  373.836926  1283.859882  10398.249390  10111.198130  172.611914   \n",
            "\n",
            "     S_Prod_Tot     M_Prod_Tot  \n",
            "0  2.279092e+06  600723.892900  \n",
            "1  4.582294e+06  959201.382500  \n",
            "2  5.614765e+05    9991.488268  \n",
            "3  1.915696e+06   38971.659080  \n",
            "4  3.779939e+06  221609.511400  \n",
            "\n",
            "DataFrame info:\n",
            "<class 'pandas.core.frame.DataFrame'>\n",
            "RangeIndex: 52 entries, 0 to 51\n",
            "Data columns (total 13 columns):\n",
            " #   Column          Non-Null Count  Dtype  \n",
            "---  ------          --------------  -----  \n",
            " 0   OBJECTID        52 non-null     int64  \n",
            " 1   SUBCOUNTY_NAME  52 non-null     object \n",
            " 2   DISTRICT_NAME   52 non-null     object \n",
            " 3   POP             52 non-null     int64  \n",
            " 4   Area            52 non-null     int64  \n",
            " 5   Karamoja        52 non-null     object \n",
            " 6   S_Yield_Ha      52 non-null     float64\n",
            " 7   M_Yield_Ha      52 non-null     float64\n",
            " 8   Crop_Area_Ha    52 non-null     float64\n",
            " 9   S_Area_Ha       52 non-null     float64\n",
            " 10  M_Area_Ha       52 non-null     float64\n",
            " 11  S_Prod_Tot      52 non-null     float64\n",
            " 12  M_Prod_Tot      52 non-null     float64\n",
            "dtypes: float64(7), int64(3), object(3)\n",
            "memory usage: 5.4+ KB\n",
            "None\n",
            "\n",
            "Checking for missing values:\n",
            "OBJECTID          0\n",
            "SUBCOUNTY_NAME    0\n",
            "DISTRICT_NAME     0\n",
            "POP               0\n",
            "Area              0\n",
            "Karamoja          0\n",
            "S_Yield_Ha        0\n",
            "M_Yield_Ha        0\n",
            "Crop_Area_Ha      0\n",
            "S_Area_Ha         0\n",
            "M_Area_Ha         0\n",
            "S_Prod_Tot        0\n",
            "M_Prod_Tot        0\n",
            "dtype: int64\n",
            "\n",
            "DataFrame info after cleaning:\n",
            "<class 'pandas.core.frame.DataFrame'>\n",
            "RangeIndex: 52 entries, 0 to 51\n",
            "Data columns (total 13 columns):\n",
            " #   Column          Non-Null Count  Dtype  \n",
            "---  ------          --------------  -----  \n",
            " 0   OBJECTID        52 non-null     int64  \n",
            " 1   SUBCOUNTY_NAME  52 non-null     object \n",
            " 2   DISTRICT_NAME   52 non-null     object \n",
            " 3   POP             52 non-null     int64  \n",
            " 4   Area            52 non-null     int64  \n",
            " 5   Karamoja        52 non-null     object \n",
            " 6   S_Yield_Ha      52 non-null     float64\n",
            " 7   M_Yield_Ha      52 non-null     float64\n",
            " 8   Crop_Area_Ha    52 non-null     float64\n",
            " 9   S_Area_Ha       52 non-null     float64\n",
            " 10  M_Area_Ha       52 non-null     float64\n",
            " 11  S_Prod_Tot      52 non-null     float64\n",
            " 12  M_Prod_Tot      52 non-null     float64\n",
            "dtypes: float64(7), int64(3), object(3)\n",
            "memory usage: 5.4+ KB\n",
            "None\n",
            "\n",
            "First few rows of the cleaned DataFrame:\n",
            "   OBJECTID       SUBCOUNTY_NAME DISTRICT_NAME    POP        Area Karamoja  \\\n",
            "0       263              KACHERI        KOTIDO  17244  1067176155        Y   \n",
            "1       264               KOTIDO        KOTIDO  52771   597575188        Y   \n",
            "2       265  KOTIDO TOWN COUNCIL        KOTIDO  27389    23972401        Y   \n",
            "3       266         NAKAPERIMORU        KOTIDO  38775   419111591        Y   \n",
            "4       267           PANYANGARA        KOTIDO  65704   880955930        Y   \n",
            "\n",
            "   S_Yield_Ha   M_Yield_Ha  Crop_Area_Ha     S_Area_Ha   M_Area_Ha  \\\n",
            "0  354.207411  1137.467019   7023.533691   6434.342449  528.124229   \n",
            "1  367.890523  1162.996687  13587.990760  12455.592640  824.767081   \n",
            "2  369.314177  1167.005832   1656.531855   1520.322052    8.561644   \n",
            "3  283.324569   852.366578   7087.823334   6761.488901   45.721712   \n",
            "4  373.836926  1283.859882  10398.249390  10111.198130  172.611914   \n",
            "\n",
            "     S_Prod_Tot     M_Prod_Tot  \n",
            "0  2.279092e+06  600723.892900  \n",
            "1  4.582294e+06  959201.382500  \n",
            "2  5.614765e+05    9991.488268  \n",
            "3  1.915696e+06   38971.659080  \n",
            "4  3.779939e+06  221609.511400  \n"
          ]
        },
        {
          "output_type": "stream",
          "name": "stderr",
          "text": [
            "<ipython-input-10-9ccdbdffbc1f>:32: FutureWarning: DataFrame.fillna with 'method' is deprecated and will raise in a future version. Use obj.ffill() or obj.bfill() instead.\n",
            "  df.fillna(method='ffill', inplace=True)  # Forward fill\n"
          ]
        }
      ]
    },
    {
      "cell_type": "markdown",
      "source": [
        "CLEANED DATA WITH SAVING"
      ],
      "metadata": {
        "id": "IK8Kg_hxf7w0"
      }
    },
    {
      "cell_type": "code",
      "source": [
        "import pandas as pd\n",
        "import zipfile\n",
        "\n",
        "# Open the zip file\n",
        "with zipfile.ZipFile('DATA.zip') as z:\n",
        "    # Get a list of files in the zip\n",
        "    files = z.namelist()\n",
        "    # Filter for CSV files\n",
        "    csv_files = [f for f in files if f.endswith('.csv')]\n",
        "\n",
        "    if not csv_files:\n",
        "        raise FileNotFoundError(\"No CSV files found in the zip archive.\")\n",
        "\n",
        "    # Read the first CSV file\n",
        "    with z.open(csv_files[0]) as f:\n",
        "        df = pd.read_csv(f)\n",
        "\n",
        "# Display initial information\n",
        "print(\"First few rows of the DataFrame:\")\n",
        "print(df.head())\n",
        "\n",
        "print(\"\\nDataFrame info:\")\n",
        "print(df.info())\n",
        "\n",
        "print(\"\\nChecking for missing values:\")\n",
        "print(df.isnull().sum())\n",
        "\n",
        "# Data Cleaning Steps\n",
        "\n",
        "# 1. Handle missing values\n",
        "# Example: Fill missing values with a placeholder or method\n",
        "df.fillna(method='ffill', inplace=True)  # Forward fill\n",
        "\n",
        "# Alternatively, you can drop rows or columns with missing values\n",
        "# df.dropna(inplace=True)  # Drop rows with any missing values\n",
        "# df.dropna(axis=1, inplace=True)  # Drop columns with any missing values\n",
        "\n",
        "# 2. Remove duplicate rows\n",
        "df.drop_duplicates(inplace=True)\n",
        "\n",
        "# 3. Convert data types if needed\n",
        "# Example: Convert a column to numeric\n",
        "# df['column_name'] = pd.to_numeric(df['column_name'], errors='coerce')\n",
        "\n",
        "# 4. Handle incorrect data types\n",
        "# Example: Convert a column to a datetime format\n",
        "# df['date_column'] = pd.to_datetime(df['date_column'], errors='coerce')\n",
        "\n",
        "# Display cleaned DataFrame information\n",
        "print(\"\\nDataFrame info after cleaning:\")\n",
        "print(df.info())\n",
        "\n",
        "print(\"\\nFirst few rows of the cleaned DataFrame:\")\n",
        "print(df.head())\n",
        "\n",
        "# Save the cleaned DataFrame to a new CSV file\n",
        "df.to_csv('cleaned_data.csv', index=False)\n",
        "print(\"\\nCleaned data has been saved to 'cleaned_data.csv'.\")\n"
      ],
      "metadata": {
        "colab": {
          "base_uri": "https://localhost:8080/"
        },
        "id": "pJk-oVw8X9D8",
        "outputId": "e18a1e37-4506-4dc3-97f9-234741933a1e"
      },
      "execution_count": 11,
      "outputs": [
        {
          "output_type": "stream",
          "name": "stdout",
          "text": [
            "First few rows of the DataFrame:\n",
            "   OBJECTID       SUBCOUNTY_NAME DISTRICT_NAME    POP        Area Karamoja  \\\n",
            "0       263              KACHERI        KOTIDO  17244  1067176155        Y   \n",
            "1       264               KOTIDO        KOTIDO  52771   597575188        Y   \n",
            "2       265  KOTIDO TOWN COUNCIL        KOTIDO  27389    23972401        Y   \n",
            "3       266         NAKAPERIMORU        KOTIDO  38775   419111591        Y   \n",
            "4       267           PANYANGARA        KOTIDO  65704   880955930        Y   \n",
            "\n",
            "   S_Yield_Ha   M_Yield_Ha  Crop_Area_Ha     S_Area_Ha   M_Area_Ha  \\\n",
            "0  354.207411  1137.467019   7023.533691   6434.342449  528.124229   \n",
            "1  367.890523  1162.996687  13587.990760  12455.592640  824.767081   \n",
            "2  369.314177  1167.005832   1656.531855   1520.322052    8.561644   \n",
            "3  283.324569   852.366578   7087.823334   6761.488901   45.721712   \n",
            "4  373.836926  1283.859882  10398.249390  10111.198130  172.611914   \n",
            "\n",
            "     S_Prod_Tot     M_Prod_Tot  \n",
            "0  2.279092e+06  600723.892900  \n",
            "1  4.582294e+06  959201.382500  \n",
            "2  5.614765e+05    9991.488268  \n",
            "3  1.915696e+06   38971.659080  \n",
            "4  3.779939e+06  221609.511400  \n",
            "\n",
            "DataFrame info:\n",
            "<class 'pandas.core.frame.DataFrame'>\n",
            "RangeIndex: 52 entries, 0 to 51\n",
            "Data columns (total 13 columns):\n",
            " #   Column          Non-Null Count  Dtype  \n",
            "---  ------          --------------  -----  \n",
            " 0   OBJECTID        52 non-null     int64  \n",
            " 1   SUBCOUNTY_NAME  52 non-null     object \n",
            " 2   DISTRICT_NAME   52 non-null     object \n",
            " 3   POP             52 non-null     int64  \n",
            " 4   Area            52 non-null     int64  \n",
            " 5   Karamoja        52 non-null     object \n",
            " 6   S_Yield_Ha      52 non-null     float64\n",
            " 7   M_Yield_Ha      52 non-null     float64\n",
            " 8   Crop_Area_Ha    52 non-null     float64\n",
            " 9   S_Area_Ha       52 non-null     float64\n",
            " 10  M_Area_Ha       52 non-null     float64\n",
            " 11  S_Prod_Tot      52 non-null     float64\n",
            " 12  M_Prod_Tot      52 non-null     float64\n",
            "dtypes: float64(7), int64(3), object(3)\n",
            "memory usage: 5.4+ KB\n",
            "None\n",
            "\n",
            "Checking for missing values:\n",
            "OBJECTID          0\n",
            "SUBCOUNTY_NAME    0\n",
            "DISTRICT_NAME     0\n",
            "POP               0\n",
            "Area              0\n",
            "Karamoja          0\n",
            "S_Yield_Ha        0\n",
            "M_Yield_Ha        0\n",
            "Crop_Area_Ha      0\n",
            "S_Area_Ha         0\n",
            "M_Area_Ha         0\n",
            "S_Prod_Tot        0\n",
            "M_Prod_Tot        0\n",
            "dtype: int64\n",
            "\n",
            "DataFrame info after cleaning:\n",
            "<class 'pandas.core.frame.DataFrame'>\n",
            "RangeIndex: 52 entries, 0 to 51\n",
            "Data columns (total 13 columns):\n",
            " #   Column          Non-Null Count  Dtype  \n",
            "---  ------          --------------  -----  \n",
            " 0   OBJECTID        52 non-null     int64  \n",
            " 1   SUBCOUNTY_NAME  52 non-null     object \n",
            " 2   DISTRICT_NAME   52 non-null     object \n",
            " 3   POP             52 non-null     int64  \n",
            " 4   Area            52 non-null     int64  \n",
            " 5   Karamoja        52 non-null     object \n",
            " 6   S_Yield_Ha      52 non-null     float64\n",
            " 7   M_Yield_Ha      52 non-null     float64\n",
            " 8   Crop_Area_Ha    52 non-null     float64\n",
            " 9   S_Area_Ha       52 non-null     float64\n",
            " 10  M_Area_Ha       52 non-null     float64\n",
            " 11  S_Prod_Tot      52 non-null     float64\n",
            " 12  M_Prod_Tot      52 non-null     float64\n",
            "dtypes: float64(7), int64(3), object(3)\n",
            "memory usage: 5.4+ KB\n",
            "None\n",
            "\n",
            "First few rows of the cleaned DataFrame:\n",
            "   OBJECTID       SUBCOUNTY_NAME DISTRICT_NAME    POP        Area Karamoja  \\\n",
            "0       263              KACHERI        KOTIDO  17244  1067176155        Y   \n",
            "1       264               KOTIDO        KOTIDO  52771   597575188        Y   \n",
            "2       265  KOTIDO TOWN COUNCIL        KOTIDO  27389    23972401        Y   \n",
            "3       266         NAKAPERIMORU        KOTIDO  38775   419111591        Y   \n",
            "4       267           PANYANGARA        KOTIDO  65704   880955930        Y   \n",
            "\n",
            "   S_Yield_Ha   M_Yield_Ha  Crop_Area_Ha     S_Area_Ha   M_Area_Ha  \\\n",
            "0  354.207411  1137.467019   7023.533691   6434.342449  528.124229   \n",
            "1  367.890523  1162.996687  13587.990760  12455.592640  824.767081   \n",
            "2  369.314177  1167.005832   1656.531855   1520.322052    8.561644   \n",
            "3  283.324569   852.366578   7087.823334   6761.488901   45.721712   \n",
            "4  373.836926  1283.859882  10398.249390  10111.198130  172.611914   \n",
            "\n",
            "     S_Prod_Tot     M_Prod_Tot  \n",
            "0  2.279092e+06  600723.892900  \n",
            "1  4.582294e+06  959201.382500  \n",
            "2  5.614765e+05    9991.488268  \n",
            "3  1.915696e+06   38971.659080  \n",
            "4  3.779939e+06  221609.511400  \n",
            "\n",
            "Cleaned data has been saved to 'cleaned_data.csv'.\n"
          ]
        },
        {
          "output_type": "stream",
          "name": "stderr",
          "text": [
            "<ipython-input-11-f84011360c13>:32: FutureWarning: DataFrame.fillna with 'method' is deprecated and will raise in a future version. Use obj.ffill() or obj.bfill() instead.\n",
            "  df.fillna(method='ffill', inplace=True)  # Forward fill\n"
          ]
        }
      ]
    },
    {
      "cell_type": "markdown",
      "source": [
        "#RESEARCH QUESTIONS AND THEIR OBJECTIVES ON FOOD SECURITY IN KARAMOJA"
      ],
      "metadata": {
        "id": "Qt7VwqkjdthC"
      }
    },
    {
      "cell_type": "markdown",
      "source": [
        "1. Research Question:\n",
        "How does the average yield of sorghum and maize compare to their total productivity across different subcounties?\n",
        "\n",
        "Objective:\n",
        "\n",
        "To evaluate the relationship between the average yield (S_Yield_Ha for sorghum and M_Yield_Ha for maize) and total productivity (S_Prod_Tot for sorghum and M_Prod_Tot for maize) across subcounties.\n",
        "To identify patterns or discrepancies in yield versus productivity, providing insights into areas where productivity may be disproportionately high or low relative to yield.\n",
        "\n",
        "\n",
        "2. Research Question:\n",
        "How do changes in crop area relate to variations in average yield for sorghum and maize across different subcounties?\n",
        "\n",
        "Objective:\n",
        "\n",
        "To analyze the impact of total crop area (S_Area_Ha for sorghum and M_Area_Ha for maize) on average yields (S_Yield_Ha and M_Yield_Ha).\n",
        "To determine if larger crop areas correspond to higher or lower yields and assess the efficiency of land use for sorghum and maize.\n",
        "\n",
        "\n",
        "3. Research Question:\n",
        "What is the comparative productivity of sorghum versus maize in different subcounties, and how does it relate to the crop area?\n",
        "\n",
        "Objective:\n",
        "\n",
        "To compare total productivity for sorghum (S_Prod_Tot) and maize (M_Prod_Tot) within subcounties.\n",
        "To understand how crop area (S_Area_Ha and M_Area_Ha) influences productivity levels, and identify regions where one crop is significantly more productive than the other.\n",
        "\n",
        "\n",
        "4. Research Question:\n",
        "How does the total population of a subcounty correlate with the total crop area dedicated to sorghum and maize?\n",
        "\n",
        "Objective:\n",
        "\n",
        "To explore the relationship between total population (POP) and total crop area (Crop_Area_Ha) for both sorghum (S_Area_Ha) and maize (M_Area_Ha).\n",
        "To determine if higher population densities correspond with larger or smaller crop areas, and assess how population dynamics might influence agricultural land use."
      ],
      "metadata": {
        "id": "CqxWHJlfdoHF"
      }
    },
    {
      "cell_type": "markdown",
      "source": [
        "#VISUAL REPRESENTATION IN THE TABLEAU"
      ],
      "metadata": {
        "id": "uNsfhW9Bg1OY"
      }
    },
    {
      "cell_type": "markdown",
      "source": [
        "To effectively address the research questions and create visually appealing and insightful visualizations in Tableau, consider using the following types:\n",
        "\n",
        "1. Comparison of Average Yield vs. Total Productivity\n",
        "Visualization\n",
        "2. Changes in Crop Area vs. Average Yield\n",
        "Visualizations:\n",
        "3. Productivity of Sorghum vs Maize\n",
        "Visualizations:\n",
        "\n",
        "4. Population vs. Crop Area\n",
        "Visualizations:\n",
        "\n"
      ],
      "metadata": {
        "id": "YIyJz-uRgtUF"
      }
    },
    {
      "cell_type": "markdown",
      "source": [
        "#RECOMMENDATIONS"
      ],
      "metadata": {
        "id": "ZmF5asruiDSv"
      }
    },
    {
      "cell_type": "markdown",
      "source": [
        "Utilize the satellite-based yield monitoring tool to validate yield predictions, refine measurement accuracy, and assess correlations with environmental stressors. Leverage these insights to enhance decision-making and optimize resource allocation, ultimately improving food security efforts in Karamoja."
      ],
      "metadata": {
        "id": "uLsmXsGuiB0A"
      }
    },
    {
      "cell_type": "markdown",
      "source": [
        "#CONCLUSION"
      ],
      "metadata": {
        "id": "xzsWxiqqh1cB"
      }
    },
    {
      "cell_type": "markdown",
      "source": [
        "The satellite-based yield monitoring tool for Karamoja effectively identifies yield patterns and productivity levels. By comparing satellite data with actual yields, analyzing accuracy factors, and correlating yields with environmental stressors, the tool provides valuable insights for NGOs. This enhances decision-making and resource allocation, contributing to improved food security in the region.\n"
      ],
      "metadata": {
        "id": "11iggYAchLUW"
      }
    }
  ]
}