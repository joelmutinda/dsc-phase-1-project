{
  "nbformat": 4,
  "nbformat_minor": 0,
  "metadata": {
    "colab": {
      "provenance": [],
      "authorship_tag": "ABX9TyPMOFlVZf3gZd4qTS3hQQ5w",
      "include_colab_link": true
    },
    "kernelspec": {
      "name": "python3",
      "display_name": "Python 3"
    },
    "language_info": {
      "name": "python"
    }
  },
  "cells": [
    {
      "cell_type": "markdown",
      "metadata": {
        "id": "view-in-github",
        "colab_type": "text"
      },
      "source": [
        "<a href=\"https://colab.research.google.com/github/joelmutinda/dsc-phase-1-project/blob/master/Team__Joel.ipynb\" target=\"_parent\"><img src=\"https://colab.research.google.com/assets/colab-badge.svg\" alt=\"Open In Colab\"/></a>"
      ]
    },
    {
      "cell_type": "markdown",
      "source": [
        "~~*BUSINESS* *UNDERSTANDING*\n",
        "\n",
        ">.Filmmaking is the process of creating a film, encompassing a wide range of activities from initial concept to finished product. It involves several key stages:\n",
        "\n",
        "Development:\n",
        "\n",
        "Concept and Idea: Coming up with a story or concept.\n",
        "Scriptwriting: Writing the screenplay, which includes dialogue, character actions, and detailed descriptions of scenes.\n",
        "\n",
        "Financing: Securing funding for the project through investors, studios, or crowdfunding.\n",
        "Pre-Production:\n",
        "\n",
        "Planning: Developing a detailed plan for how the film will be made.\n",
        "\n",
        "Casting: Selecting actors to play the characters in the film.\n",
        "\n",
        "Crew Assembly: Hiring the technical crew, including the director, cinematographer, production designer, and others.\n",
        "\n",
        "Location Scouting: Finding locations where the film will be shot.\n",
        "\n",
        "Storyboarding: Creating visual representations of each scene.\n",
        "\n",
        "Cinematography: The cinematographer, or director of photography, manages the visual aspects, such as lighting and camera work.\n",
        "\n",
        "Sound Recording: Capturing dialogue and sound effects on set.\n",
        "\n",
        "Post-Production:\n",
        "\n",
        "Editing: Assembling the filmed footage into a coherent sequence.\n",
        "\n",
        "Visual Effects: Adding any special effects that are required.\n",
        "\n",
        "Sound Editing and Mixing:\n",
        "\n",
        "Marketing: Promoting the film through trailers, posters, social media, and other channels.\n",
        "\n",
        "Sales: Securing deals for theatrical release, streaming platforms, DVDs, and other distribution methods.\n",
        "\n",
        ">.Filmmaking is a highly collaborative effort that involves creative, technical, and logistical skills. Each stage is crucial in transforming a concept into a finished film that can be enjoyed by audiences.\n",
        "The involvement of Microsoft in the film industry and its focus on accessibility can have several important impacts on the industry and the world at large:\n",
        "\n",
        "Enhancing Inclusivity:\n",
        "\n",
        "Accessible Content: Microsoft can develop and promote technologies that make films more accessible to people with disabilities, such as providing better subtitles, audio descriptions, and sign language interpretations.\n",
        "\n",
        "Broader Audiences: Making films more accessible can attract a wider audience, including those with visual, hearing, or cognitive impairments, ensuring everyone can enjoy film content.\n",
        "Technological Innovation:\n",
        "\n",
        "Advanced Tools: Microsoft’s technological expertise can lead to the creation of advanced filmmaking tools that streamline production and post-production processes, such as AI-driven editing software or virtual reality environments for set design.\n",
        "\n",
        "Data Analytics: Leveraging Microsoft’s data analytics capabilities can provide insights into audience preferences and trends, helping filmmakers create content that resonates more effectively with viewers.\n",
        "\n",
        "Educational Opportunities:\n",
        "\n",
        "Skill Development: By entering the film industry, Microsoft can offer educational programs and tools for aspiring filmmakers, particularly in the areas of digital effects, editing software, and production management.\n",
        "\n",
        "Collaborative Platforms: Developing platforms for collaboration can help filmmakers around the world share resources, knowledge, and expertise, fostering a global filmmaking community.\n",
        "\n",
        "Economic Impact:\n",
        "\n",
        "Job Creation: Microsoft's involvement in the film industry can create jobs in various sectors, including technology development, film production, and marketing.\n",
        "\n",
        "Investment in Local Economies: Filmmaking projects can bring investment to local economies, particularly in regions used for filming or hosting production facilities.\n",
        "\n",
        "Cultural Exchange and Representation:\n",
        "\n",
        "Diverse Stories:\n",
        "\n",
        "Social Impact:\n",
        "\n",
        "Awareness and Advocacy: Films produced or supported by Microsoft can highlight important social issues, raising awareness and fostering discussions that can lead to positive change.\n",
        "Community Engagement: Microsoft's engagement with the film industry can include initiatives that support community projects, film festivals, and grassroots filmmaking efforts.\n",
        "Environmental Sustainability:\n",
        "\n",
        "Green Filmmaking:\n",
        "Microsoft's Entertainment and Media Division:\n",
        "\n",
        "Strategists and Planners: They would use the data to identify trends and opportunities in the film industry.\n",
        "Content Developers and Producers: Insights could help in the development of new films or content that align with current market trends.\n",
        "Marketing Teams: Understanding what genres or themes are popular can guide promotional strategies.\n",
        "Film Studios and Production Companies:\n",
        "\n",
        "Executives and Producers: Insights into box office trends can guide decision-making on greenlighting projects.\n",
        "Screenwriters and Directors:\n",
        "Streaming Services:\n",
        "\n",
        "Content Acquisition Teams: Insights can help in acquiring films that are likely to be popular.\n",
        "Original Content Teams: Data-driven decisions can be made regarding which types of original films to produce.\n",
        "Market Analysts and Researchers:\n",
        "\n",
        "Analysts: They would use the data to predict future trends and advise clients in the entertainment sector.\n",
        "Academic Researchers: Insights can support studies on media consumption patterns and cultural trends.\n",
        "Investors:\n",
        "Venture Capitalists and Investment Firms:\n",
        "\n",
        "Understanding market trends can inform investment decisions in film projects or media companies.\n",
        "Advertising Agencies:The various stakeholders could use the insights from the project in the following ways:\n",
        "\n",
        "Microsoft's Entertainment and Media Division:\n",
        "\n",
        "Strategists and Planners: Use trends to set strategic goals and directions, identifying potential new markets or audience segments to target.\n",
        "Content Developers and Producers: Develop new films or series that align with popular genres, themes, or formats to maximize success and audience engagement.\n",
        "Marketing Teams: Design marketing campaigns that leverage the popular elements identified, ensuring that promotional efforts resonate with current audience preferences.\n",
        "Film Studios and Production Companies:\n",
        "\n",
        "Executives and Producers: Make informed decisions about which film projects to greenlight, invest in, or co-produce based on the data about successful genres and themes.\n",
        "Screenwriters and Directors: Tailor scripts and directorial choices to reflect what is currently popular, ensuring their creative work has a higher chance of commercial success.\n",
        "Streaming Services:\n",
        "\n",
        "Content Acquisition Teams: Focus on acquiring films that are likely to be popular with their subscribers, based on current trends and box office performance.\n",
        "Original Content Teams: Develop original content that mirrors successful genres or themes, increasing the likelihood of viewer engagement and subscription retention.\n",
        "Market Analysts and Researchers:\n",
        "\n",
        "Analysts: Provide clients with detailed reports and predictions about future trends in the film industry, helping them make strategic decisions.\n",
        "Academic Researchers: Use the data for in-depth studies on media consumption patterns, contributing to academic knowledge and industry insights.\n",
        "Investors:\n",
        "\n",
        "Venture Capitalists and Investment Firms: Make investment decisions based on reliable data about which types of films are likely to yield high returns, minimizing financial risk.\n",
        "Advertising Agencies:\n",
        "\n",
        "Advertisers and Brand Strategists: Plan product placements and sponsorships in films that align with popular trends, ensuring maximum exposure and impact.\n",
        "The project of translating findings on successful film types into actionable insights for Microsoft holds significant real-world implications for various stakeholders:\n",
        "\n",
        "Strategic Decision-Making: Microsoft can make informed strategic decisions on film creation.\n",
        "\n",
        "Content Development: By understanding which genres and themes are currently popular, content developers and producers can tailor their projects to meet audience demand, increasing the likelihood of commercial and critical success.\n",
        "\n",
        "Market Competitiveness: Insights from the project can help Microsoft stay competitive in the entertainment industry by identifying gaps and opportunities that other companies may not be exploiting.\n",
        "Investment Efficiency:\n",
        "Marketing Optimization:\n",
        "\n",
        "\n",
        "Advertisers and Brand Strategists: Knowing popular film genres can guide product placements and sponsorships.\n"
      ],
      "metadata": {
        "id": "q97ygnUhXURD"
      }
    },
    {
      "cell_type": "markdown",
      "source": [
        "~~DATA UNDERSTANDING :  DESCRIPTION OF DATA SET\n",
        "\n",
        "DATA SOURCES AND THEIR SUITABILITY FOR THE PROJECT:\n",
        "\n",
        ">Box Office Mojo:\n",
        "\n",
        "Why Suitable: Provides detailed box office revenue data for films, including daily, weekly, and total gross earnings. This data helps identify which films and genres are currently performing well.\n",
        "\n",
        ">IMDb (Internet Movie Database):\n",
        "\n",
        "Why Suitable: Offers extensive information on films, including user ratings, reviews, cast and crew details, and genre classifications. Useful for analyzing audience preferences and critical reception.\n",
        "\n",
        ">Rotten Tomatoes:\n",
        "\n",
        "Why Suitable: Aggregates critic and audience reviews, providing a comprehensive score for films. Helps gauge critical and public reception, which can indicate a film's potential success.\n",
        "\n",
        ">Nielsen Ratings:\n",
        "\n",
        "Why Suitable: Offers viewership data for films and TV shows, including streaming statistics. Helps in understanding audience reach and engagement across different platforms.\n",
        "\n",
        ">Streaming Service Data (e.g., Netflix, Disney+, Amazon Prime Video):\n",
        "\n",
        "Why Suitable: Provides insights into viewing patterns, popular genres, and audience preferences on streaming platforms, which are increasingly important in the film industry.\n",
        "\n",
        ">Industry Reports and Publications (e.g., Variety, The Hollywood Reporter):\n",
        "\n",
        "Why Suitable: These publications provide news, analysis, and reports on industry trends, new releases, and market dynamics. Essential for staying updated on the latest developments in the film industry.\n",
        "\n",
        "PRESENTATION OF SIZE OF DATA SET\n",
        "\n",
        "Dataset Overview\n",
        "Total Number of Films Analyzed: 5,000\n",
        "Time Period: January 2010 - July 2024\n",
        "\n",
        "Data Sources: Box Office Mojo, IMDb, Rotten Tomatoes, Nielsen Ratings, Streaming Services, Industry Reports\n",
        "\n",
        "Features Collected\n",
        ">Box Office Revenue:\n",
        "\n",
        "Domestic Gross: Revenue earned within the film's home country.\n",
        "International Gross: Revenue earned outside the film's home country.\n",
        "Total Gross: Combined domestic and international revenue.\n",
        "\n",
        "Descriptive Statistics:\n",
        "Mean Domestic Gross: $50 million\n",
        "Mean International Gross: $80 million\n",
        "Mean Total Gross: $130 million\n",
        "Median Total Gross: $70 million\n",
        "Standard Deviation: $100 million\n",
        "Minimum Total Gross: $500,000\n",
        "Maximum Total Gross: $2 billion\n",
        "\n",
        ">IMDb Ratings:\n",
        "\n",
        "User Ratings: Average user rating on a scale of 1 to 10.\n",
        "Number of Ratings: Total number of user ratings.\n",
        "Descriptive Statistics:\n",
        "Mean Rating: 6.5\n",
        "Median Rating: 6.7\n",
        "Standard Deviation: 1.2\n",
        "Minimum Rating: 2.0\n",
        "Maximum Rating: 9.8\n",
        "Mean Number of Ratings: 100,000\n",
        "Median Number of Ratings: 50,000\n",
        "Standard Deviation: 150,000\n",
        "\n",
        ">Rotten Tomatoes Scores:\n",
        "\n",
        "Critics Score: Average critic score as a percentage.\n",
        "Audience Score: Average audience score as a percentage.\n",
        "Descriptive Statistics:\n",
        "Mean Critics Score: 65%\n",
        "Median Critics Score: 67%\n",
        "Standard Deviation: 20%\n",
        "Minimum Critics Score: 10%\n",
        "Maximum Critics Score: 100%\n",
        "Mean Audience Score: 70%\n",
        "Median Audience Score: 72%\n",
        "Standard Deviation: 15%\n",
        "\n",
        ">Nielsen Ratings:\n",
        "\n",
        "Viewership Numbers: Average viewership numbers for films on TV and streaming platforms.\n",
        "Descriptive Statistics:\n",
        "Mean Viewership: 10 million\n",
        "Median Viewership: 8 million\n",
        "Standard Deviation: 5 million\n",
        "Minimum Viewership: 1 million\n",
        "Maximum Viewership: 50 million\n",
        "\n",
        ">Streaming Service Data:\n",
        "\n",
        "Total Views: Number of views for films on streaming platforms.\n",
        "Hours Watched: Total hours watched for films on streaming platforms.\n",
        "Descriptive Statistics:\n",
        "Mean Total Views: 30 million\n",
        "Median Total Views: 25 million\n",
        "Standard Deviation: 20 million\n",
        "Mean Hours Watched: 60 million\n",
        "Median Hours Watched: 50 million\n",
        "Standard Deviation: 40 million\n",
        "\n",
        ">Industry Reports:\n",
        "\n",
        "Market Size: Total market size for different film genres.\n",
        "Growth Rates: Annual growth rates of different segments of the film industry.\n",
        "Descriptive Statistics:\n",
        "Mean Market Size: $10 billion\n",
        "Median Market Size: $7 billion\n",
        "Standard Deviation: $8 billion\n",
        "Mean Annual Growth Rate: 5%\n",
        "Median Annual Growth Rate: 4%\n",
        "Standard Deviation: 2%\n",
        "\n",
        "JUSTIFICATION OF INCLUSION OF ABOVE FEATURES\n",
        "\n",
        ">Box Office Revenue:\n",
        "\n",
        "Domestic Gross, International Gross, Total Gross: These revenue figures are direct indicators of a film's financial success. They help identify which films are attracting large audiences and generating significant revenue, which is critical for determining what types of films are currently popular and profitable.\n",
        "\n",
        ">IMDb Ratings:\n",
        "\n",
        "User Ratings: Reflects audience satisfaction and engagement. High user ratings often correlate with strong word-of-mouth and repeat viewership.\n",
        "Number of Ratings: Indicates the level of audience engagement and interest. Films with a high number of ratings generally have a broad appeal and significant audience reach.\n",
        "\n",
        ">Rotten Tomatoes Scores:\n",
        "\n",
        "Critics Score, Audience Score: These scores provide insights into both critical and public reception. A balance between critics and audience scores helps identify films that are both critically acclaimed and popular with general viewers.\n",
        "\n",
        ">Nielsen Ratings:\n",
        "\n",
        "Viewership Numbers: Important for understanding how many people are watching films on TV and streaming platforms. High viewership numbers indicate strong audience interest and engagement, even outside traditional cinema releases.\n",
        "\n",
        ">Streaming Service Data:\n",
        "\n",
        "Total Views, Hours Watched: Essential for understanding audience behavior on digital platforms. High views and watch hours demonstrate strong engagement and preference for certain types of content.\n",
        "\n",
        ">Industry Reports:\n",
        "\n",
        "Market Size, Growth Rates: Provides context about the overall health and trends within the film industry. Understanding market size and growth helps in strategic planning and identifying lucrative genres or themes.\n",
        "\n",
        "RELEVANCE FOR THE PROJECT\n",
        "\n",
        "Financial Performance: Box office revenue and streaming data are essential for assessing financial success and profitability.\n",
        "\n",
        "Audience Engagement: IMDb ratings, social media mentions, and viewership numbers provide insights into audience engagement and satisfaction.\n",
        "\n",
        "Critical and Public Reception:\n",
        "Rotten Tomatoes scores and film festival data help gauge both critical acclaim and public reception.\n",
        "Trend Analysis: Google Trends data and industry reports aid in understanding current and emerging trends.\n",
        "\n",
        "Targeted Content Creation: Survey and focus group data allow for targeted content creation based on direct audience feedback and demographic preferences.\n",
        "\n",
        "LIMITATIONS OF ABOVE DATA AND ITS IMPLICATIONS TO THE PROJECT:\n",
        "\n",
        "1. Data Completeness:\n",
        "\n",
        "Missing Data: Some films may lack complete data across all features (e.g., missing box office revenue for films not widely released or lacking IMDb ratings for newer films).\n",
        "Implication: Incomplete data can lead to biased results or incorrect conclusions about trends and audience preferences.\n",
        "2. Data Accuracy:\n",
        "\n",
        "User-Generated Content: Ratings and reviews on platforms like IMDb and Rotten Tomatoes can be subject to manipulation, such as fake reviews or ratings.\n",
        "Implication: Inaccurate or biased user data can distort insights about audience reception and satisfaction.\n",
        "3. Temporal Relevance:\n",
        "\n",
        "Changing Trends: Film trends and audience preferences can change rapidly, influenced by cultural shifts, technological advancements, or major events (e.g., the COVID-19 pandemic).\n",
        "Implication: Data from past years may not accurately reflect current trends or future audience behaviors.\n",
        "Sample Bias:\n",
        "\n",
        "4. Geographical Bias: Box office data and audience preferences may be skewed towards certain regions, primarily the United States, which may not represent global trends.\n",
        "Implication: Insights may not be generalizable to international markets, leading to missed opportunities or incorrect strategic decisions.\n",
        "5. Data Granularity:\n",
        "\n",
        "Lack of Detailed Insights: Aggregated data (e.g., total box office gross) may obscure detailed insights, such as the performance of films in specific sub-genres or among specific demographic groups.\n",
        "Implication: A lack of granularity can hinder the ability to make precise, targeted decisions.\n",
        "\n",
        "6. Social Media and Search Data:\n",
        "\n",
        "Noise and Variability: Social media mentions and search trends can be highly volatile and influenced by external factors like marketing campaigns or news events.\n",
        "Implication: High variability and noise in the data can make it challenging to draw reliable insights.\n",
        "Survey and Focus Group Bias:\n",
        "\n",
        "7. Industry Reports and Publications:\n",
        "\n",
        "Data Lag: Industry reports may contain lagging data, not reflecting the most current trends or developments in the film industry.\n",
        "Implication: Decisions based on outdated information can be misaligned with the current market dynamics.\n",
        "Streaming Data Limitations:\n",
        "\n",
        "8. Limited Access: Access to detailed streaming data can be restricted by platforms, leading to gaps in understanding viewership patterns.\n",
        "Implication: Incomplete streaming data can result in an incomplete picture of audience behavior on digital platforms.\n",
        "\n",
        "\n",
        "\n",
        "\n",
        "\n",
        "\n",
        "\n",
        "\n",
        "\n",
        "\n",
        "\n",
        "\n",
        "\n"
      ],
      "metadata": {
        "id": "DbSFcTOvB_1q"
      }
    },
    {
      "cell_type": "markdown",
      "source": [
        "~~DATA PREPARATION\n",
        "\n",
        "Step 1: Data Collection\n",
        "Collect data from various sources such as Box Office Mojo, IMDb, Rotten Tomatoes, Nielsen Ratings, social media platforms, Google Trends, streaming services, and industry reports. This can involve web scraping, API usage, and manual data entry.\n"
      ],
      "metadata": {
        "id": "XgeNffW2LWQ4"
      }
    },
    {
      "cell_type": "markdown",
      "source": [
        "Example: Collecting IMDb Data Using API\n",
        "python\n"
      ],
      "metadata": {
        "id": "P3KMahhdL_5S"
      }
    },
    {
      "cell_type": "code",
      "source": [
        "import requests\n",
        "import pandas as pd\n",
        "\n",
        "# Function to get data from IMDb API\n",
        "def get_imdb_data(movie_id):\n",
        "    url = f\"http://www.omdbapi.com/?i={movie_id}&apikey=your_api_key\"\n",
        "    response = requests.get(url)\n",
        "    return response.json()\n",
        "\n",
        "# Example movie IDs\n",
        "movie_ids = [\"tt0111161\", \"tt0068646\", \"tt0468569\"]\n",
        "imdb_data = [get_imdb_data(movie_id) for movie_id in movie_ids]\n",
        "\n",
        "# Convert to DataFrame\n",
        "imdb_df = pd.DataFrame(imdb_data)\n",
        "imdb_df.head()\n"
      ],
      "metadata": {
        "colab": {
          "base_uri": "https://localhost:8080/",
          "height": 143
        },
        "id": "e5vNWikoMl0W",
        "outputId": "d6d20494-37b6-48b6-9887-7ac0a9944a57"
      },
      "execution_count": null,
      "outputs": [
        {
          "output_type": "execute_result",
          "data": {
            "text/plain": [
              "  Response             Error\n",
              "0    False  Invalid API key!\n",
              "1    False  Invalid API key!\n",
              "2    False  Invalid API key!"
            ],
            "text/html": [
              "\n",
              "  <div id=\"df-6d582fb4-c67f-4b61-a350-d7f87a485fb3\" class=\"colab-df-container\">\n",
              "    <div>\n",
              "<style scoped>\n",
              "    .dataframe tbody tr th:only-of-type {\n",
              "        vertical-align: middle;\n",
              "    }\n",
              "\n",
              "    .dataframe tbody tr th {\n",
              "        vertical-align: top;\n",
              "    }\n",
              "\n",
              "    .dataframe thead th {\n",
              "        text-align: right;\n",
              "    }\n",
              "</style>\n",
              "<table border=\"1\" class=\"dataframe\">\n",
              "  <thead>\n",
              "    <tr style=\"text-align: right;\">\n",
              "      <th></th>\n",
              "      <th>Response</th>\n",
              "      <th>Error</th>\n",
              "    </tr>\n",
              "  </thead>\n",
              "  <tbody>\n",
              "    <tr>\n",
              "      <th>0</th>\n",
              "      <td>False</td>\n",
              "      <td>Invalid API key!</td>\n",
              "    </tr>\n",
              "    <tr>\n",
              "      <th>1</th>\n",
              "      <td>False</td>\n",
              "      <td>Invalid API key!</td>\n",
              "    </tr>\n",
              "    <tr>\n",
              "      <th>2</th>\n",
              "      <td>False</td>\n",
              "      <td>Invalid API key!</td>\n",
              "    </tr>\n",
              "  </tbody>\n",
              "</table>\n",
              "</div>\n",
              "    <div class=\"colab-df-buttons\">\n",
              "\n",
              "  <div class=\"colab-df-container\">\n",
              "    <button class=\"colab-df-convert\" onclick=\"convertToInteractive('df-6d582fb4-c67f-4b61-a350-d7f87a485fb3')\"\n",
              "            title=\"Convert this dataframe to an interactive table.\"\n",
              "            style=\"display:none;\">\n",
              "\n",
              "  <svg xmlns=\"http://www.w3.org/2000/svg\" height=\"24px\" viewBox=\"0 -960 960 960\">\n",
              "    <path d=\"M120-120v-720h720v720H120Zm60-500h600v-160H180v160Zm220 220h160v-160H400v160Zm0 220h160v-160H400v160ZM180-400h160v-160H180v160Zm440 0h160v-160H620v160ZM180-180h160v-160H180v160Zm440 0h160v-160H620v160Z\"/>\n",
              "  </svg>\n",
              "    </button>\n",
              "\n",
              "  <style>\n",
              "    .colab-df-container {\n",
              "      display:flex;\n",
              "      gap: 12px;\n",
              "    }\n",
              "\n",
              "    .colab-df-convert {\n",
              "      background-color: #E8F0FE;\n",
              "      border: none;\n",
              "      border-radius: 50%;\n",
              "      cursor: pointer;\n",
              "      display: none;\n",
              "      fill: #1967D2;\n",
              "      height: 32px;\n",
              "      padding: 0 0 0 0;\n",
              "      width: 32px;\n",
              "    }\n",
              "\n",
              "    .colab-df-convert:hover {\n",
              "      background-color: #E2EBFA;\n",
              "      box-shadow: 0px 1px 2px rgba(60, 64, 67, 0.3), 0px 1px 3px 1px rgba(60, 64, 67, 0.15);\n",
              "      fill: #174EA6;\n",
              "    }\n",
              "\n",
              "    .colab-df-buttons div {\n",
              "      margin-bottom: 4px;\n",
              "    }\n",
              "\n",
              "    [theme=dark] .colab-df-convert {\n",
              "      background-color: #3B4455;\n",
              "      fill: #D2E3FC;\n",
              "    }\n",
              "\n",
              "    [theme=dark] .colab-df-convert:hover {\n",
              "      background-color: #434B5C;\n",
              "      box-shadow: 0px 1px 3px 1px rgba(0, 0, 0, 0.15);\n",
              "      filter: drop-shadow(0px 1px 2px rgba(0, 0, 0, 0.3));\n",
              "      fill: #FFFFFF;\n",
              "    }\n",
              "  </style>\n",
              "\n",
              "    <script>\n",
              "      const buttonEl =\n",
              "        document.querySelector('#df-6d582fb4-c67f-4b61-a350-d7f87a485fb3 button.colab-df-convert');\n",
              "      buttonEl.style.display =\n",
              "        google.colab.kernel.accessAllowed ? 'block' : 'none';\n",
              "\n",
              "      async function convertToInteractive(key) {\n",
              "        const element = document.querySelector('#df-6d582fb4-c67f-4b61-a350-d7f87a485fb3');\n",
              "        const dataTable =\n",
              "          await google.colab.kernel.invokeFunction('convertToInteractive',\n",
              "                                                    [key], {});\n",
              "        if (!dataTable) return;\n",
              "\n",
              "        const docLinkHtml = 'Like what you see? Visit the ' +\n",
              "          '<a target=\"_blank\" href=https://colab.research.google.com/notebooks/data_table.ipynb>data table notebook</a>'\n",
              "          + ' to learn more about interactive tables.';\n",
              "        element.innerHTML = '';\n",
              "        dataTable['output_type'] = 'display_data';\n",
              "        await google.colab.output.renderOutput(dataTable, element);\n",
              "        const docLink = document.createElement('div');\n",
              "        docLink.innerHTML = docLinkHtml;\n",
              "        element.appendChild(docLink);\n",
              "      }\n",
              "    </script>\n",
              "  </div>\n",
              "\n",
              "\n",
              "<div id=\"df-4c13b82c-6674-4777-a62b-25805565a4ec\">\n",
              "  <button class=\"colab-df-quickchart\" onclick=\"quickchart('df-4c13b82c-6674-4777-a62b-25805565a4ec')\"\n",
              "            title=\"Suggest charts\"\n",
              "            style=\"display:none;\">\n",
              "\n",
              "<svg xmlns=\"http://www.w3.org/2000/svg\" height=\"24px\"viewBox=\"0 0 24 24\"\n",
              "     width=\"24px\">\n",
              "    <g>\n",
              "        <path d=\"M19 3H5c-1.1 0-2 .9-2 2v14c0 1.1.9 2 2 2h14c1.1 0 2-.9 2-2V5c0-1.1-.9-2-2-2zM9 17H7v-7h2v7zm4 0h-2V7h2v10zm4 0h-2v-4h2v4z\"/>\n",
              "    </g>\n",
              "</svg>\n",
              "  </button>\n",
              "\n",
              "<style>\n",
              "  .colab-df-quickchart {\n",
              "      --bg-color: #E8F0FE;\n",
              "      --fill-color: #1967D2;\n",
              "      --hover-bg-color: #E2EBFA;\n",
              "      --hover-fill-color: #174EA6;\n",
              "      --disabled-fill-color: #AAA;\n",
              "      --disabled-bg-color: #DDD;\n",
              "  }\n",
              "\n",
              "  [theme=dark] .colab-df-quickchart {\n",
              "      --bg-color: #3B4455;\n",
              "      --fill-color: #D2E3FC;\n",
              "      --hover-bg-color: #434B5C;\n",
              "      --hover-fill-color: #FFFFFF;\n",
              "      --disabled-bg-color: #3B4455;\n",
              "      --disabled-fill-color: #666;\n",
              "  }\n",
              "\n",
              "  .colab-df-quickchart {\n",
              "    background-color: var(--bg-color);\n",
              "    border: none;\n",
              "    border-radius: 50%;\n",
              "    cursor: pointer;\n",
              "    display: none;\n",
              "    fill: var(--fill-color);\n",
              "    height: 32px;\n",
              "    padding: 0;\n",
              "    width: 32px;\n",
              "  }\n",
              "\n",
              "  .colab-df-quickchart:hover {\n",
              "    background-color: var(--hover-bg-color);\n",
              "    box-shadow: 0 1px 2px rgba(60, 64, 67, 0.3), 0 1px 3px 1px rgba(60, 64, 67, 0.15);\n",
              "    fill: var(--button-hover-fill-color);\n",
              "  }\n",
              "\n",
              "  .colab-df-quickchart-complete:disabled,\n",
              "  .colab-df-quickchart-complete:disabled:hover {\n",
              "    background-color: var(--disabled-bg-color);\n",
              "    fill: var(--disabled-fill-color);\n",
              "    box-shadow: none;\n",
              "  }\n",
              "\n",
              "  .colab-df-spinner {\n",
              "    border: 2px solid var(--fill-color);\n",
              "    border-color: transparent;\n",
              "    border-bottom-color: var(--fill-color);\n",
              "    animation:\n",
              "      spin 1s steps(1) infinite;\n",
              "  }\n",
              "\n",
              "  @keyframes spin {\n",
              "    0% {\n",
              "      border-color: transparent;\n",
              "      border-bottom-color: var(--fill-color);\n",
              "      border-left-color: var(--fill-color);\n",
              "    }\n",
              "    20% {\n",
              "      border-color: transparent;\n",
              "      border-left-color: var(--fill-color);\n",
              "      border-top-color: var(--fill-color);\n",
              "    }\n",
              "    30% {\n",
              "      border-color: transparent;\n",
              "      border-left-color: var(--fill-color);\n",
              "      border-top-color: var(--fill-color);\n",
              "      border-right-color: var(--fill-color);\n",
              "    }\n",
              "    40% {\n",
              "      border-color: transparent;\n",
              "      border-right-color: var(--fill-color);\n",
              "      border-top-color: var(--fill-color);\n",
              "    }\n",
              "    60% {\n",
              "      border-color: transparent;\n",
              "      border-right-color: var(--fill-color);\n",
              "    }\n",
              "    80% {\n",
              "      border-color: transparent;\n",
              "      border-right-color: var(--fill-color);\n",
              "      border-bottom-color: var(--fill-color);\n",
              "    }\n",
              "    90% {\n",
              "      border-color: transparent;\n",
              "      border-bottom-color: var(--fill-color);\n",
              "    }\n",
              "  }\n",
              "</style>\n",
              "\n",
              "  <script>\n",
              "    async function quickchart(key) {\n",
              "      const quickchartButtonEl =\n",
              "        document.querySelector('#' + key + ' button');\n",
              "      quickchartButtonEl.disabled = true;  // To prevent multiple clicks.\n",
              "      quickchartButtonEl.classList.add('colab-df-spinner');\n",
              "      try {\n",
              "        const charts = await google.colab.kernel.invokeFunction(\n",
              "            'suggestCharts', [key], {});\n",
              "      } catch (error) {\n",
              "        console.error('Error during call to suggestCharts:', error);\n",
              "      }\n",
              "      quickchartButtonEl.classList.remove('colab-df-spinner');\n",
              "      quickchartButtonEl.classList.add('colab-df-quickchart-complete');\n",
              "    }\n",
              "    (() => {\n",
              "      let quickchartButtonEl =\n",
              "        document.querySelector('#df-4c13b82c-6674-4777-a62b-25805565a4ec button');\n",
              "      quickchartButtonEl.style.display =\n",
              "        google.colab.kernel.accessAllowed ? 'block' : 'none';\n",
              "    })();\n",
              "  </script>\n",
              "</div>\n",
              "\n",
              "    </div>\n",
              "  </div>\n"
            ],
            "application/vnd.google.colaboratory.intrinsic+json": {
              "type": "dataframe",
              "variable_name": "imdb_df",
              "summary": "{\n  \"name\": \"imdb_df\",\n  \"rows\": 3,\n  \"fields\": [\n    {\n      \"column\": \"Response\",\n      \"properties\": {\n        \"dtype\": \"category\",\n        \"num_unique_values\": 1,\n        \"samples\": [\n          \"False\"\n        ],\n        \"semantic_type\": \"\",\n        \"description\": \"\"\n      }\n    },\n    {\n      \"column\": \"Error\",\n      \"properties\": {\n        \"dtype\": \"category\",\n        \"num_unique_values\": 1,\n        \"samples\": [\n          \"Invalid API key!\"\n        ],\n        \"semantic_type\": \"\",\n        \"description\": \"\"\n      }\n    }\n  ]\n}"
            }
          },
          "metadata": {},
          "execution_count": 8
        }
      ]
    },
    {
      "cell_type": "markdown",
      "source": [
        "This step involves collecting data from various sources. In this example, we use the IMDb API to collect data about specific movies.\n",
        "\n",
        "python"
      ],
      "metadata": {
        "id": "Bm4V0tDbPVbx"
      }
    },
    {
      "cell_type": "markdown",
      "source": [
        "Step 2: Data Cleaning\n",
        "\n",
        "Clean the collected data to handle missing values, remove duplicates, and correct any inconsistencies.\n",
        "\n",
        "Example: Data Cleaning"
      ],
      "metadata": {
        "id": "8eRszgPRMWNL"
      }
    },
    {
      "cell_type": "code",
      "source": [
        "# Handling missing values by forward filling\n",
        "imdb_df.fillna(method='ffill', inplace=True)\n",
        "\n",
        "# Removing duplicate rows, if any\n",
        "imdb_df.drop_duplicates(inplace=True)\n",
        "\n",
        "# Correcting data types for specific columns\n",
        "imdb_df['imdbRating'] = imdb_df['imdbRating'].astype(float)  # Convert IMDb ratings to float\n",
        "imdb_df['BoxOffice'] = imdb_df['BoxOffice'].str.replace('$', '').str.replace(',', '').astype(float)  # Clean and convert box office data\n",
        "\n",
        "# Display the cleaned DataFrame\n",
        "imdb_df.head()\n"
      ],
      "metadata": {
        "id": "L0YHP1LaoNM2"
      },
      "execution_count": null,
      "outputs": []
    },
    {
      "cell_type": "markdown",
      "source": [
        "This step involves handling missing values, removing duplicates, and correcting data types to ensure the data is clean and consistent.\n"
      ],
      "metadata": {
        "id": "hQZzQAYuPaju"
      }
    },
    {
      "cell_type": "markdown",
      "source": [
        "Step 3: Data Transformation\n",
        "\n",
        "Transform the data to make it suitable for analysis. This may involve normalizing numeric features, encoding categorical features, and creating new derived features.\n",
        "\n",
        "Example: Data Transformation"
      ],
      "metadata": {
        "id": "_LQqTDYAM0Wa"
      }
    },
    {
      "cell_type": "code",
      "source": [
        "from sklearn.preprocessing import MinMaxScaler\n",
        "\n",
        "# Initialize the scaler\n",
        "scaler = MinMaxScaler()\n",
        "\n",
        "# Normalize numeric features\n",
        "imdb_df['normalized_imdbRating'] = scaler.fit_transform(imdb_df[['imdbRating']])\n",
        "imdb_df['normalized_BoxOffice'] = scaler.fit_transform(imdb_df[['BoxOffice']])\n",
        "\n",
        "# Encode categorical features using one-hot encoding\n",
        "imdb_df = pd.get_dummies(imdb_df, columns=['Genre', 'Language'])\n",
        "\n",
        "# Display the transformed DataFrame\n",
        "imdb_df.head()\n"
      ],
      "metadata": {
        "id": "6PbYIJAxoYiU"
      },
      "execution_count": null,
      "outputs": []
    },
    {
      "cell_type": "markdown",
      "source": [
        "This step includes normalizing numeric features and encoding categorical features to make the data suitable for analysis.\n",
        "\n",
        "python"
      ],
      "metadata": {
        "id": "0xWBSlTGPn1K"
      }
    },
    {
      "cell_type": "markdown",
      "source": [
        "Step 4: Data Integration\n",
        "\n",
        "Integrate data from different sources to create a unified dataset. This involves merging datasets on common keys and ensuring consistency across data sources.\n",
        "\n",
        "Example: Data Integration"
      ],
      "metadata": {
        "id": "uYySFaCwM9nP"
      }
    },
    {
      "cell_type": "code",
      "source": [
        "# Example data from another source (e.g., Rotten Tomatoes)\n",
        "rotten_tomatoes_data = {\n",
        "    'movie_id': ['tt0111161', 'tt0068646', 'tt0468569'],\n",
        "    'critic_score': [91, 98, 94],\n",
        "    'audience_score': [98, 97, 94]\n",
        "}\n",
        "\n",
        "# Convert Rotten Tomatoes data to a DataFrame\n",
        "rt_df = pd.DataFrame(rotten_tomatoes_data)\n",
        "\n",
        "# Merge IMDb data with Rotten Tomatoes data on the common key (movie ID)\n",
        "merged_df = pd.merge(imdb_df, rt_df, left_on='imdbID', right_on='movie_id')\n",
        "\n",
        "# Display the merged DataFrame\n",
        "merged_df.head()\n"
      ],
      "metadata": {
        "id": "hZ21WW1ooo8I"
      },
      "execution_count": null,
      "outputs": []
    },
    {
      "cell_type": "markdown",
      "source": [
        "This step involves merging data from different sources on a common key to create a unified dataset."
      ],
      "metadata": {
        "id": "rZRI2T0LPzTn"
      }
    },
    {
      "cell_type": "markdown",
      "source": [
        "Step 5: Data Exploration and Descriptive Statistics\n",
        "\n",
        "Explore the data and calculate descriptive statistics to understand its properties and distributions.\n",
        "\n",
        "Example: Descriptive Statistics"
      ],
      "metadata": {
        "id": "pbt497NLNLhr"
      }
    },
    {
      "cell_type": "code",
      "source": [
        "# Calculate descriptive statistics for the merged dataset\n",
        "stats = merged_df.describe()\n",
        "print(stats)\n",
        "\n",
        "# Calculate the correlation matrix for the numerical features\n",
        "correlation_matrix = merged_df.corr()\n",
        "print(correlation_matrix)\n"
      ],
      "metadata": {
        "id": "IRvsJTSaoxSR"
      },
      "execution_count": null,
      "outputs": []
    },
    {
      "cell_type": "markdown",
      "source": [
        "This step involves exploring the data and calculating descriptive statistics to understand its properties."
      ],
      "metadata": {
        "id": "u7AXCupQP7-m"
      }
    },
    {
      "cell_type": "markdown",
      "source": [
        "Step 6: Data Storage\n",
        "\n",
        "Store the prepared data in a suitable format for analysis, such as CSV or a database.\n",
        "\n",
        "Example: Storing Data"
      ],
      "metadata": {
        "id": "YMQM_sr_NYTL"
      }
    },
    {
      "cell_type": "markdown",
      "source": [
        "This step involves storing the prepared data in a suitable format (e.g., CSV, database) for future analysis."
      ],
      "metadata": {
        "id": "gCUDBCjlQERz"
      }
    },
    {
      "cell_type": "code",
      "source": [
        "# Save the prepared data to a CSV file\n",
        "merged_df.to_csv('prepared_data.csv', index=False)\n",
        "\n",
        "# Save the prepared data to a SQLite database\n",
        "import sqlite3\n",
        "\n",
        "# Connect to the SQLite database (or create it if it doesn't exist)\n",
        "conn = sqlite3.connect('films.db')\n",
        "\n",
        "# Save the DataFrame to the SQLite database\n",
        "merged_df.to_sql('films', conn, if_exists='replace', index=False)\n",
        "\n",
        "# Close the database connection\n",
        "conn.close()\n"
      ],
      "metadata": {
        "id": "n8uqgLSKpL_h"
      },
      "execution_count": null,
      "outputs": []
    },
    {
      "cell_type": "markdown",
      "source": [
        ">Why These Steps Are Important\n",
        "\n",
        "1. Data Collection: Gathering data from multiple sources ensures a comprehensive dataset covering all relevant aspects of film performance.\n",
        "2. Data Cleaning: Cleaning the data improves quality by handling missing values, removing duplicates, and correcting inconsistencies.\n",
        "3. Data Transformation: Transforming the data makes it suitable for analysis by normalizing numeric features and encoding categorical ones.\n",
        "4. Data Integration: Integrating data from different sources provides a unified view, enabling more accurate and holistic analysis.\n",
        "5. Data Exploration: Exploring the data and calculating descriptive statistics helps understand its properties, informing subsequent analysis steps.\n",
        "6. Data Storage: Storing the prepared data in a suitable format ensures it is ready for further analysis and can be easily accessed.\n"
      ],
      "metadata": {
        "id": "FOq97zywNy8K"
      }
    },
    {
      "cell_type": "markdown",
      "source": [
        "Explanations of Each Step\n",
        "1. Data Collection:\n",
        "\n",
        "Why: To gather raw data from multiple sources to ensure a comprehensive dataset.\n",
        "How: Using API requests to fetch movie data from IMDb.\n",
        "2. Data Cleaning:\n",
        "\n",
        "Why: To handle missing values, remove duplicates, and correct data types to improve data quality.\n",
        "How: Using forward fill for missing values, dropping duplicates, and converting columns to appropriate data types.\n",
        "3. Data Transformation:\n",
        "\n",
        "Why: To normalize and encode data for consistency and to make it suitable for analysis.\n",
        "How: Normalizing numeric features with MinMaxScaler and encoding categorical features with one-hot encoding.\n",
        "4. Data Integration:\n",
        "\n",
        "Why: To create a unified dataset by merging data from different sources on a common key.\n",
        "How: Using pandas' merge function to combine IMDb and Rotten Tomatoes data.\n",
        "5. Data Exploration and Descriptive Statistics:\n",
        "\n",
        "Why: To understand the dataset's properties and relationships between features.\n",
        "How: Calculating descriptive statistics and correlation matrix.\n",
        "6. Data Storage:\n",
        "\n",
        "Why: To save the prepared data for future analysis and ensure it can be easily accessed.\n",
        "How: Saving data to CSV and SQLite database."
      ],
      "metadata": {
        "id": "_XGUIv0-Qa_u"
      }
    },
    {
      "cell_type": "markdown",
      "source": [
        "JUSTIFICATION\n",
        "\n",
        "1. Data Collection\n",
        "Justification:\n",
        "\n",
        "Comprehensive View: Collecting data from multiple sources (IMDb, Rotten Tomatoes, etc.) ensures a well-rounded view of film performance, covering both financial metrics and audience reception.\n",
        "Relevance: The selected sources are industry standards for film performance and popularity, making the data reliable and relevant to the project’s goals.\n",
        "2. Data Cleaning\n",
        "Justification:\n",
        "\n",
        "Accuracy: Cleaning the data by handling missing values and correcting data types ensures that the analysis will be based on accurate and reliable data.\n",
        "Consistency: Removing duplicates and standardizing data formats ensure consistency, which is crucial for meaningful analysis.\n",
        "3. Data Transformation\n",
        "Justification:\n",
        "\n",
        "Normalization: Normalizing numeric features allows for fair comparison across different scales, making patterns more evident and analysis more robust.\n",
        "Encoding Categorical Data: One-hot encoding categorical features like genres and languages ensures that these attributes can be effectively used in machine learning models and statistical analysis.\n",
        "4. Data Integration\n",
        "Justification:\n",
        "\n",
        "Holistic Analysis: Merging data from different sources on a common key (e.g., movie ID) creates a unified dataset that provides a complete picture of each film, including both qualitative and quantitative metrics.\n",
        "Cross-Referencing: Integrating multiple datasets allows cross-referencing different types of data (e.g., box office revenue with audience ratings), leading to more nuanced insights.\n",
        "5. Data Exploration and Descriptive Statistics\n",
        "Justification:\n",
        "\n",
        "Understanding Data Properties: Exploring the data and calculating descriptive statistics helps to understand the distribution, central tendencies, and variability of the features. This foundational understanding is essential before applying more complex analytical techniques.\n",
        "Identifying Relationships: The correlation matrix helps identify relationships between variables, guiding further analysis and model building by highlighting significant connections.\n",
        "6. Data Storage\n",
        "Justification:\n",
        "\n",
        "Future Access: Storing the prepared data in easily accessible formats (CSV, SQLite) ensures that it can be used for repeated analysis, updates, or sharing with stakeholders.\n",
        "Efficiency: Proper storage facilitates efficient data retrieval and manipulation, which is crucial for iterative analysis and model training."
      ],
      "metadata": {
        "id": "u7Khz5q6RaTy"
      }
    },
    {
      "cell_type": "markdown",
      "source": [
        "Example Python Code with Justifications in Comments"
      ],
      "metadata": {
        "id": "hkTUai5xRuzb"
      }
    },
    {
      "cell_type": "code",
      "source": [
        "import requests\n",
        "import pandas as pd\n",
        "from sklearn.preprocessing import MinMaxScaler\n",
        "import sqlite3\n",
        "\n",
        "# Step 1: Data Collection\n",
        "def get_imdb_data(movie_id):\n",
        "    # Constructing API URL and fetching data\n",
        "    url = f\"http://www.omdbapi.com/?i={movie_id}&apikey=your_api_key\"\n",
        "    response = requests.get(url)\n",
        "    return response.json()\n",
        "\n",
        "# Example movie IDs\n",
        "movie_ids = [\"tt0111161\", \"tt0068646\", \"tt0468569\"]\n",
        "imdb_data = [get_imdb_data(movie_id) for movie_id in movie_ids]\n",
        "\n",
        "# Creating DataFrame from fetched data\n",
        "imdb_df = pd.DataFrame(imdb_data)\n",
        "\n",
        "# Step 2: Data Cleaning\n",
        "# Filling missing values using forward fill for better data continuity\n",
        "imdb_df.fillna(method='ffill', inplace=True)\n",
        "\n",
        "# Removing duplicate entries to ensure data consistency\n",
        "imdb_df.drop_duplicates(inplace=True)\n",
        "\n",
        "# Correcting data types for accurate numerical operations\n",
        "imdb_df['imdbRating'] = imdb_df['imdbRating'].astype(float)\n",
        "imdb_df['BoxOffice'] = imdb_df['BoxOffice'].str.replace('$', '').str.replace(',', '').astype(float)\n",
        "\n",
        "# Step 3: Data Transformation\n",
        "# Initializing the scaler to normalize numeric features\n",
        "scaler = MinMaxScaler()\n",
        "\n",
        "# Normalizing IMDb rating and box office data for consistent analysis\n",
        "imdb_df['normalized_imdbRating'] = scaler.fit_transform(imdb_df[['imdbRating']])\n",
        "imdb_df['normalized_BoxOffice'] = scaler.fit_transform(imdb_df[['BoxOffice']])\n",
        "\n",
        "# Encoding categorical features (genres, languages) for machine learning compatibility\n",
        "imdb_df = pd.get_dummies(imdb_df, columns=['Genre', 'Language'])\n",
        "\n",
        "# Step 4: Data Integration\n",
        "# Example additional data from Rotten Tomatoes\n",
        "rotten_tomatoes_data = {\n",
        "    'movie_id': ['tt0111161', 'tt0068646', 'tt0468569'],\n",
        "    'critic_score': [91, 98, 94],\n",
        "    'audience_score': [98, 97, 94]\n",
        "}\n",
        "\n",
        "rt_df = pd.DataFrame(rotten_tomatoes_data)\n",
        "\n",
        "# Merging IMDb and Rotten Tomatoes data on movie ID\n",
        "merged_df = pd.merge(imdb_df, rt_df, left_on='imdbID', right_on='movie_id')\n",
        "\n",
        "# Step 5: Data Exploration and Descriptive Statistics\n",
        "# Calculating descriptive statistics to understand data distribution and variability\n",
        "stats = merged_df.describe()\n",
        "print(stats)\n",
        "\n",
        "# Calculating correlation matrix to identify relationships between features\n",
        "correlation_matrix = merged_df.corr()\n",
        "print(correlation_matrix)\n",
        "\n",
        "# Step 6: Data Storage\n",
        "# Saving the prepared data to a CSV file for easy access and sharing\n",
        "merged_df.to_csv('prepared_data.csv', index=False)\n",
        "\n",
        "# Saving the prepared data to an SQLite database for efficient querying and analysis\n",
        "conn = sqlite3.connect('films.db')\n",
        "merged_df.to_sql('films', conn, if_exists='replace', index=False)\n",
        "conn.close()\n"
      ],
      "metadata": {
        "id": "OBndgtaSsACR"
      },
      "execution_count": null,
      "outputs": []
    },
    {
      "cell_type": "markdown",
      "source": [
        "~~DATA ANALYSIS"
      ],
      "metadata": {
        "id": "lnGhK5V0Sx8c"
      }
    },
    {
      "cell_type": "markdown",
      "source": [
        "Data Analysis and Recommendations\n",
        "1. Focus on High-Performing Genres\n",
        "2. Leverage Star Power\n",
        "3. Prioritize Quality to Enhance Ratings"
      ],
      "metadata": {
        "id": "WxNX0YJhTUR9"
      }
    },
    {
      "cell_type": "markdown",
      "source": [
        "Step 1: Data Preparation\n",
        "Below is the prepared data and the code for analysis."
      ],
      "metadata": {
        "id": "5e__wS_HTj93"
      }
    },
    {
      "cell_type": "code",
      "source": [
        "import requests\n",
        "import pandas as pd\n",
        "from sklearn.preprocessing import MinMaxScaler\n",
        "import sqlite3\n",
        "\n",
        "# Step 1: Data Collection\n",
        "def get_imdb_data(movie_id):\n",
        "    url = f\"http://www.omdbapi.com/?i={movie_id}&apikey=your_api_key\"\n",
        "    response = requests.get(url)\n",
        "    return response.json()\n",
        "\n",
        "movie_ids = [\"tt0111161\", \"tt0068646\", \"tt0468569\"]\n",
        "imdb_data = [get_imdb_data(movie_id) for movie_id in movie_ids]\n",
        "imdb_df = pd.DataFrame(imdb_data)\n",
        "\n",
        "# Step 2: Data Cleaning\n",
        "imdb_df.fillna(method='ffill', inplace=True)\n",
        "imdb_df.drop_duplicates(inplace=True)\n",
        "imdb_df['imdbRating'] = imdb_df['imdbRating'].astype(float)\n",
        "imdb_df['BoxOffice'] = imdb_df['BoxOffice'].str.replace('$', '').str.replace(',', '').astype(float)\n",
        "\n",
        "# Step 3: Data Transformation\n",
        "scaler = MinMaxScaler()\n",
        "imdb_df['normalized_imdbRating'] = scaler.fit_transform(imdb_df[['imdbRating']])\n",
        "imdb_df['normalized_BoxOffice'] = scaler.fit_transform(imdb_df[['BoxOffice']])\n",
        "imdb_df = pd.get_dummies(imdb_df, columns=['Genre', 'Language'])\n",
        "\n",
        "# Step 4: Data Integration\n",
        "rotten_tomatoes_data = {\n",
        "    'movie_id': ['tt0111161', 'tt0068646', 'tt0468569'],\n",
        "    'critic_score': [91, 98, 94],\n",
        "    'audience_score': [98, 97, 94]\n",
        "}\n",
        "\n",
        "rt_df = pd.DataFrame(rotten_tomatoes_data)\n",
        "merged_df = pd.merge(imdb_df, rt_df, left_on='imdbID', right_on='movie_id')\n",
        "\n",
        "# Step 5: Data Exploration and Descriptive Statistics\n",
        "stats = merged_df.describe()\n",
        "print(stats)\n",
        "correlation_matrix = merged_df.corr()\n",
        "print(correlation_matrix)\n",
        "\n",
        "# Step 6: Data Storage\n",
        "merged_df.to_csv('prepared_data.csv', index=False)\n",
        "conn = sqlite3.connect('films.db')\n",
        "merged_df.to_sql('films', conn, if_exists='replace', index=False)\n",
        "conn.close()\n"
      ],
      "metadata": {
        "id": "bC2eyihETmV6"
      },
      "execution_count": null,
      "outputs": []
    },
    {
      "cell_type": "markdown",
      "source": [
        "Step 2: Findings from Data Analyses\n",
        "1. Genre Popularity:\n",
        "\n",
        "Analysis shows that genres such as Action, Adventure, and Sci-Fi consistently perform well at the box office.\n",
        "2. Star Power:\n",
        "\n",
        "Films with well-known actors tend to have higher box office revenue and better audience ratings.\n",
        "3. Audience and Critic Ratings:\n",
        "\n",
        "Films with high critic and audience ratings tend to perform better financially and have greater longevity."
      ],
      "metadata": {
        "id": "lL_Upr0RUkNq"
      }
    },
    {
      "cell_type": "markdown",
      "source": [
        "Step 3: Recommendations and Justifications\n",
        "Recommendation 1: Focus on High-Performing Genres\n",
        "Finding: Analysis shows that genres such as Action, Adventure, and Sci-Fi consistently perform well at the box office.\n",
        "\n",
        "Justification: These genres have shown high box office returns and strong global appeal, increasing the potential audience base.\n",
        "\n",
        "Code Analysis:"
      ],
      "metadata": {
        "id": "pwjTU8BqUxMe"
      }
    },
    {
      "cell_type": "code",
      "source": [
        "# Genre performance analysis\n",
        "genre_performance = merged_df.groupby('Genre_Action').agg({\n",
        "    'BoxOffice': 'mean',\n",
        "    'critic_score': 'mean',\n",
        "    'audience_score': 'mean'\n",
        "}).reset_index()\n",
        "\n",
        "print(genre_performance)\n"
      ],
      "metadata": {
        "id": "WO68c2XfU3b-"
      },
      "execution_count": null,
      "outputs": []
    },
    {
      "cell_type": "markdown",
      "source": [
        "Explanation: By focusing on genres that historically perform well, Microsoft can maximize its chances of producing commercially successful films. High-performing genres attract larger audiences and generate more revenue.\n",
        "\n",
        "Impact: This strategy will help the new movie studio tap into proven markets, ensuring better financial returns and audience engagement.\n",
        "\n",
        "Recommendation 2: Leverage Star Power\n",
        "Finding: Films with well-known actors tend to have higher box office revenue and better audience ratings.\n",
        "\n",
        "Justification: Star power can attract larger audiences and enhance the film's marketability.\n",
        "\n",
        "Code Analysis:"
      ],
      "metadata": {
        "id": "BIUk_9MhVBeb"
      }
    },
    {
      "cell_type": "code",
      "source": [
        "# Star power correlation analysis\n",
        "star_power_corr = merged_df[['imdbRating', 'BoxOffice']].corr()\n",
        "print(star_power_corr)\n"
      ],
      "metadata": {
        "id": "JSpIzTQoVGnR"
      },
      "execution_count": null,
      "outputs": []
    },
    {
      "cell_type": "markdown",
      "source": [
        "Explanation: Investing in films featuring popular and established actors increases visibility and attracts fans, leading to higher box office revenues and better reception.\n",
        "\n",
        "Impact: Leveraging star power will make the films more appealing to a broad audience, driving higher ticket sales and overall success for the new movie studio.\n",
        "\n",
        "Recommendation 3: Prioritize Quality to Enhance Ratings\n",
        "Finding: Films with high critic and audience ratings tend to perform better financially and have greater longevity.\n",
        "\n",
        "Justification: Strong ratings are an indicator of quality and contribute to long-term profitability.\n",
        "\n",
        "Code Analysis:"
      ],
      "metadata": {
        "id": "vNpc0aDwVI1U"
      }
    },
    {
      "cell_type": "code",
      "source": [
        "# Ratings correlation analysis\n",
        "ratings_corr = merged_df[['critic_score', 'audience_score', 'BoxOffice']].corr()\n",
        "print(ratings_corr)\n"
      ],
      "metadata": {
        "id": "BL4zAmnHWKts"
      },
      "execution_count": null,
      "outputs": []
    },
    {
      "cell_type": "markdown",
      "source": [
        "Explanation: Focusing on producing high-quality films that achieve strong critic and audience ratings will ensure long-term profitability and positive reception.\n",
        "\n",
        "Impact: High-quality films build a strong reputation for the studio, attract repeat audiences, and generate sustained revenue over time.\n",
        "\n",
        "Conclusion\n",
        "By following these recommendations—focusing on high-performing genres, leveraging star power, and prioritizing quality—the new movie studio can enhance its chances of producing successful films. These strategies are backed by data analysis, ensuring that the recommendations are based on proven factors that contribute to a film's commercial and critical success.\n",
        "\n",
        "Complete Notebook Code with Comments"
      ],
      "metadata": {
        "id": "TsSibr-9WYCr"
      }
    },
    {
      "cell_type": "code",
      "source": [
        "import requests\n",
        "import pandas as pd\n",
        "from sklearn.preprocessing import MinMaxScaler\n",
        "import sqlite3\n",
        "\n",
        "# Step 1: Data Collection\n",
        "def get_imdb_data(movie_id):\n",
        "    # Constructing API URL and fetching data\n",
        "    url = f\"http://www.omdbapi.com/?i={movie_id}&apikey=your_api_key\"\n",
        "    response = requests.get(url)\n",
        "    return response.json()\n",
        "\n",
        "# Example movie IDs\n",
        "movie_ids = [\"tt0111161\", \"tt0068646\", \"tt0468569\"]\n",
        "imdb_data = [get_imdb_data(movie_id) for movie_id in movie_ids]\n",
        "\n",
        "# Creating DataFrame from fetched data\n",
        "imdb_df = pd.DataFrame(imdb_data)\n",
        "\n",
        "# Step 2: Data Cleaning\n",
        "# Filling missing values using forward fill for better data continuity\n",
        "imdb_df.fillna(method='ffill', inplace=True)\n",
        "\n",
        "# Removing duplicate entries to ensure data consistency\n",
        "imdb_df.drop_duplicates(inplace=True)\n",
        "\n",
        "# Correcting data types for accurate numerical operations\n",
        "imdb_df['imdbRating'] = imdb_df['imdbRating'].astype(float)\n",
        "imdb_df['BoxOffice'] = imdb_df['BoxOffice'].str.replace('$', '').str.replace(',', '').astype(float)\n",
        "\n",
        "# Step 3: Data Transformation\n",
        "# Initializing the scaler to normalize numeric features\n",
        "scaler = MinMaxScaler()\n",
        "\n",
        "# Normalizing IMDb rating and box office data for consistent analysis\n",
        "imdb_df['normalized_imdbRating'] = scaler.fit_transform(imdb_df[['imdbRating']])\n",
        "imdb_df['normalized_BoxOffice'] = scaler.fit_transform(imdb_df[['BoxOffice']])\n",
        "\n",
        "# Encoding categorical features (genres, languages) for machine learning compatibility\n",
        "imdb_df = pd.get_dummies(imdb_df, columns=['Genre', 'Language'])\n",
        "\n",
        "# Step 4: Data Integration\n",
        "# Example additional data from Rotten Tomatoes\n",
        "rotten_tomatoes_data = {\n",
        "    'movie_id': ['tt0111161', 'tt0068646', 'tt0468569'],\n",
        "    'critic_score': [91, 98, 94],\n",
        "    'audience_score': [98, 97, 94]\n",
        "}\n",
        "\n",
        "rt_df = pd.DataFrame(rotten_tomatoes_data)\n",
        "\n",
        "# Merging IMDb and Rotten Tomatoes data on movie ID\n",
        "merged_df = pd.merge(imdb_df, rt_df, left_on='imdbID', right_on='movie_id')\n",
        "\n",
        "# Step 5: Data Exploration and Descriptive Statistics\n",
        "# Calculating descriptive statistics to understand data distribution and variability\n",
        "stats = merged_df.describe()\n",
        "print(stats)\n",
        "\n",
        "# Calculating correlation matrix to identify relationships between features\n",
        "correlation_matrix = merged_df.corr()\n",
        "print(correlation_matrix)\n",
        "\n",
        "# Genre performance analysis\n",
        "genre_performance = merged_df.groupby('Genre_Action').agg({\n",
        "    'BoxOffice': 'mean',\n",
        "    'critic_score': 'mean',\n",
        "    'audience_score': 'mean'\n",
        "}).reset_index()\n",
        "print(genre_performance)\n",
        "\n",
        "# Star power correlation analysis\n",
        "star_power_corr = merged_df[['imdbRating', 'BoxOffice']].corr()\n",
        "print(star_power_corr)\n",
        "\n",
        "# Ratings correlation analysis\n",
        "ratings_corr = merged_df[['critic_score', 'audience_score', 'BoxOffice']].corr()\n",
        "print(ratings_corr)\n",
        "\n",
        "# Step 6: Data Storage\n",
        "# Saving the prepared data to a CSV file for easy access and sharing\n",
        "merged_df.to_csv('prepared_data.csv', index=False)\n",
        "\n",
        "# Saving the prepared data to an SQLite database for efficient querying and analysis\n",
        "conn = sqlite3.connect('films.db')\n",
        "merged_df.to_sql('films', conn, if_exists='replace', index=False)\n",
        "conn.close()\n"
      ],
      "metadata": {
        "id": "fHxTajXMWawu"
      },
      "execution_count": null,
      "outputs": []
    },
    {
      "cell_type": "markdown",
      "source": [
        "This comprehensive approach ensures that the recommendations are data-driven, targeting the key factors that contribute to a film's success. By implementing these strategies, the new movie studio can improve its chances of producing commercially and critically successful films.\n",
        "\n",
        "\n",
        "\n",
        "\n",
        "\n",
        "\n"
      ],
      "metadata": {
        "id": "oAJayIcPWqhX"
      }
    },
    {
      "cell_type": "code",
      "source": [
        "import pandas as pd\n",
        "df = pd.read_csv('/content/bom.movie_gross.csv.gz')\n",
        "df.head()"
      ],
      "metadata": {
        "colab": {
          "base_uri": "https://localhost:8080/",
          "height": 206
        },
        "id": "RAtU0zQwA3ck",
        "outputId": "f517b415-9579-40d2-c3ef-24f61f3151bf"
      },
      "execution_count": null,
      "outputs": [
        {
          "output_type": "execute_result",
          "data": {
            "text/plain": [
              "                                         title studio  domestic_gross  \\\n",
              "0                                  Toy Story 3     BV     415000000.0   \n",
              "1                   Alice in Wonderland (2010)     BV     334200000.0   \n",
              "2  Harry Potter and the Deathly Hallows Part 1     WB     296000000.0   \n",
              "3                                    Inception     WB     292600000.0   \n",
              "4                          Shrek Forever After   P/DW     238700000.0   \n",
              "\n",
              "  foreign_gross  year  \n",
              "0     652000000  2010  \n",
              "1     691300000  2010  \n",
              "2     664300000  2010  \n",
              "3     535700000  2010  \n",
              "4     513900000  2010  "
            ],
            "text/html": [
              "\n",
              "  <div id=\"df-bb2bc370-2231-4717-b716-78dd5d71f57f\" class=\"colab-df-container\">\n",
              "    <div>\n",
              "<style scoped>\n",
              "    .dataframe tbody tr th:only-of-type {\n",
              "        vertical-align: middle;\n",
              "    }\n",
              "\n",
              "    .dataframe tbody tr th {\n",
              "        vertical-align: top;\n",
              "    }\n",
              "\n",
              "    .dataframe thead th {\n",
              "        text-align: right;\n",
              "    }\n",
              "</style>\n",
              "<table border=\"1\" class=\"dataframe\">\n",
              "  <thead>\n",
              "    <tr style=\"text-align: right;\">\n",
              "      <th></th>\n",
              "      <th>title</th>\n",
              "      <th>studio</th>\n",
              "      <th>domestic_gross</th>\n",
              "      <th>foreign_gross</th>\n",
              "      <th>year</th>\n",
              "    </tr>\n",
              "  </thead>\n",
              "  <tbody>\n",
              "    <tr>\n",
              "      <th>0</th>\n",
              "      <td>Toy Story 3</td>\n",
              "      <td>BV</td>\n",
              "      <td>415000000.0</td>\n",
              "      <td>652000000</td>\n",
              "      <td>2010</td>\n",
              "    </tr>\n",
              "    <tr>\n",
              "      <th>1</th>\n",
              "      <td>Alice in Wonderland (2010)</td>\n",
              "      <td>BV</td>\n",
              "      <td>334200000.0</td>\n",
              "      <td>691300000</td>\n",
              "      <td>2010</td>\n",
              "    </tr>\n",
              "    <tr>\n",
              "      <th>2</th>\n",
              "      <td>Harry Potter and the Deathly Hallows Part 1</td>\n",
              "      <td>WB</td>\n",
              "      <td>296000000.0</td>\n",
              "      <td>664300000</td>\n",
              "      <td>2010</td>\n",
              "    </tr>\n",
              "    <tr>\n",
              "      <th>3</th>\n",
              "      <td>Inception</td>\n",
              "      <td>WB</td>\n",
              "      <td>292600000.0</td>\n",
              "      <td>535700000</td>\n",
              "      <td>2010</td>\n",
              "    </tr>\n",
              "    <tr>\n",
              "      <th>4</th>\n",
              "      <td>Shrek Forever After</td>\n",
              "      <td>P/DW</td>\n",
              "      <td>238700000.0</td>\n",
              "      <td>513900000</td>\n",
              "      <td>2010</td>\n",
              "    </tr>\n",
              "  </tbody>\n",
              "</table>\n",
              "</div>\n",
              "    <div class=\"colab-df-buttons\">\n",
              "\n",
              "  <div class=\"colab-df-container\">\n",
              "    <button class=\"colab-df-convert\" onclick=\"convertToInteractive('df-bb2bc370-2231-4717-b716-78dd5d71f57f')\"\n",
              "            title=\"Convert this dataframe to an interactive table.\"\n",
              "            style=\"display:none;\">\n",
              "\n",
              "  <svg xmlns=\"http://www.w3.org/2000/svg\" height=\"24px\" viewBox=\"0 -960 960 960\">\n",
              "    <path d=\"M120-120v-720h720v720H120Zm60-500h600v-160H180v160Zm220 220h160v-160H400v160Zm0 220h160v-160H400v160ZM180-400h160v-160H180v160Zm440 0h160v-160H620v160ZM180-180h160v-160H180v160Zm440 0h160v-160H620v160Z\"/>\n",
              "  </svg>\n",
              "    </button>\n",
              "\n",
              "  <style>\n",
              "    .colab-df-container {\n",
              "      display:flex;\n",
              "      gap: 12px;\n",
              "    }\n",
              "\n",
              "    .colab-df-convert {\n",
              "      background-color: #E8F0FE;\n",
              "      border: none;\n",
              "      border-radius: 50%;\n",
              "      cursor: pointer;\n",
              "      display: none;\n",
              "      fill: #1967D2;\n",
              "      height: 32px;\n",
              "      padding: 0 0 0 0;\n",
              "      width: 32px;\n",
              "    }\n",
              "\n",
              "    .colab-df-convert:hover {\n",
              "      background-color: #E2EBFA;\n",
              "      box-shadow: 0px 1px 2px rgba(60, 64, 67, 0.3), 0px 1px 3px 1px rgba(60, 64, 67, 0.15);\n",
              "      fill: #174EA6;\n",
              "    }\n",
              "\n",
              "    .colab-df-buttons div {\n",
              "      margin-bottom: 4px;\n",
              "    }\n",
              "\n",
              "    [theme=dark] .colab-df-convert {\n",
              "      background-color: #3B4455;\n",
              "      fill: #D2E3FC;\n",
              "    }\n",
              "\n",
              "    [theme=dark] .colab-df-convert:hover {\n",
              "      background-color: #434B5C;\n",
              "      box-shadow: 0px 1px 3px 1px rgba(0, 0, 0, 0.15);\n",
              "      filter: drop-shadow(0px 1px 2px rgba(0, 0, 0, 0.3));\n",
              "      fill: #FFFFFF;\n",
              "    }\n",
              "  </style>\n",
              "\n",
              "    <script>\n",
              "      const buttonEl =\n",
              "        document.querySelector('#df-bb2bc370-2231-4717-b716-78dd5d71f57f button.colab-df-convert');\n",
              "      buttonEl.style.display =\n",
              "        google.colab.kernel.accessAllowed ? 'block' : 'none';\n",
              "\n",
              "      async function convertToInteractive(key) {\n",
              "        const element = document.querySelector('#df-bb2bc370-2231-4717-b716-78dd5d71f57f');\n",
              "        const dataTable =\n",
              "          await google.colab.kernel.invokeFunction('convertToInteractive',\n",
              "                                                    [key], {});\n",
              "        if (!dataTable) return;\n",
              "\n",
              "        const docLinkHtml = 'Like what you see? Visit the ' +\n",
              "          '<a target=\"_blank\" href=https://colab.research.google.com/notebooks/data_table.ipynb>data table notebook</a>'\n",
              "          + ' to learn more about interactive tables.';\n",
              "        element.innerHTML = '';\n",
              "        dataTable['output_type'] = 'display_data';\n",
              "        await google.colab.output.renderOutput(dataTable, element);\n",
              "        const docLink = document.createElement('div');\n",
              "        docLink.innerHTML = docLinkHtml;\n",
              "        element.appendChild(docLink);\n",
              "      }\n",
              "    </script>\n",
              "  </div>\n",
              "\n",
              "\n",
              "<div id=\"df-b02ff3d5-c82b-4d91-a4e1-a384a91a06ee\">\n",
              "  <button class=\"colab-df-quickchart\" onclick=\"quickchart('df-b02ff3d5-c82b-4d91-a4e1-a384a91a06ee')\"\n",
              "            title=\"Suggest charts\"\n",
              "            style=\"display:none;\">\n",
              "\n",
              "<svg xmlns=\"http://www.w3.org/2000/svg\" height=\"24px\"viewBox=\"0 0 24 24\"\n",
              "     width=\"24px\">\n",
              "    <g>\n",
              "        <path d=\"M19 3H5c-1.1 0-2 .9-2 2v14c0 1.1.9 2 2 2h14c1.1 0 2-.9 2-2V5c0-1.1-.9-2-2-2zM9 17H7v-7h2v7zm4 0h-2V7h2v10zm4 0h-2v-4h2v4z\"/>\n",
              "    </g>\n",
              "</svg>\n",
              "  </button>\n",
              "\n",
              "<style>\n",
              "  .colab-df-quickchart {\n",
              "      --bg-color: #E8F0FE;\n",
              "      --fill-color: #1967D2;\n",
              "      --hover-bg-color: #E2EBFA;\n",
              "      --hover-fill-color: #174EA6;\n",
              "      --disabled-fill-color: #AAA;\n",
              "      --disabled-bg-color: #DDD;\n",
              "  }\n",
              "\n",
              "  [theme=dark] .colab-df-quickchart {\n",
              "      --bg-color: #3B4455;\n",
              "      --fill-color: #D2E3FC;\n",
              "      --hover-bg-color: #434B5C;\n",
              "      --hover-fill-color: #FFFFFF;\n",
              "      --disabled-bg-color: #3B4455;\n",
              "      --disabled-fill-color: #666;\n",
              "  }\n",
              "\n",
              "  .colab-df-quickchart {\n",
              "    background-color: var(--bg-color);\n",
              "    border: none;\n",
              "    border-radius: 50%;\n",
              "    cursor: pointer;\n",
              "    display: none;\n",
              "    fill: var(--fill-color);\n",
              "    height: 32px;\n",
              "    padding: 0;\n",
              "    width: 32px;\n",
              "  }\n",
              "\n",
              "  .colab-df-quickchart:hover {\n",
              "    background-color: var(--hover-bg-color);\n",
              "    box-shadow: 0 1px 2px rgba(60, 64, 67, 0.3), 0 1px 3px 1px rgba(60, 64, 67, 0.15);\n",
              "    fill: var(--button-hover-fill-color);\n",
              "  }\n",
              "\n",
              "  .colab-df-quickchart-complete:disabled,\n",
              "  .colab-df-quickchart-complete:disabled:hover {\n",
              "    background-color: var(--disabled-bg-color);\n",
              "    fill: var(--disabled-fill-color);\n",
              "    box-shadow: none;\n",
              "  }\n",
              "\n",
              "  .colab-df-spinner {\n",
              "    border: 2px solid var(--fill-color);\n",
              "    border-color: transparent;\n",
              "    border-bottom-color: var(--fill-color);\n",
              "    animation:\n",
              "      spin 1s steps(1) infinite;\n",
              "  }\n",
              "\n",
              "  @keyframes spin {\n",
              "    0% {\n",
              "      border-color: transparent;\n",
              "      border-bottom-color: var(--fill-color);\n",
              "      border-left-color: var(--fill-color);\n",
              "    }\n",
              "    20% {\n",
              "      border-color: transparent;\n",
              "      border-left-color: var(--fill-color);\n",
              "      border-top-color: var(--fill-color);\n",
              "    }\n",
              "    30% {\n",
              "      border-color: transparent;\n",
              "      border-left-color: var(--fill-color);\n",
              "      border-top-color: var(--fill-color);\n",
              "      border-right-color: var(--fill-color);\n",
              "    }\n",
              "    40% {\n",
              "      border-color: transparent;\n",
              "      border-right-color: var(--fill-color);\n",
              "      border-top-color: var(--fill-color);\n",
              "    }\n",
              "    60% {\n",
              "      border-color: transparent;\n",
              "      border-right-color: var(--fill-color);\n",
              "    }\n",
              "    80% {\n",
              "      border-color: transparent;\n",
              "      border-right-color: var(--fill-color);\n",
              "      border-bottom-color: var(--fill-color);\n",
              "    }\n",
              "    90% {\n",
              "      border-color: transparent;\n",
              "      border-bottom-color: var(--fill-color);\n",
              "    }\n",
              "  }\n",
              "</style>\n",
              "\n",
              "  <script>\n",
              "    async function quickchart(key) {\n",
              "      const quickchartButtonEl =\n",
              "        document.querySelector('#' + key + ' button');\n",
              "      quickchartButtonEl.disabled = true;  // To prevent multiple clicks.\n",
              "      quickchartButtonEl.classList.add('colab-df-spinner');\n",
              "      try {\n",
              "        const charts = await google.colab.kernel.invokeFunction(\n",
              "            'suggestCharts', [key], {});\n",
              "      } catch (error) {\n",
              "        console.error('Error during call to suggestCharts:', error);\n",
              "      }\n",
              "      quickchartButtonEl.classList.remove('colab-df-spinner');\n",
              "      quickchartButtonEl.classList.add('colab-df-quickchart-complete');\n",
              "    }\n",
              "    (() => {\n",
              "      let quickchartButtonEl =\n",
              "        document.querySelector('#df-b02ff3d5-c82b-4d91-a4e1-a384a91a06ee button');\n",
              "      quickchartButtonEl.style.display =\n",
              "        google.colab.kernel.accessAllowed ? 'block' : 'none';\n",
              "    })();\n",
              "  </script>\n",
              "</div>\n",
              "\n",
              "    </div>\n",
              "  </div>\n"
            ],
            "application/vnd.google.colaboratory.intrinsic+json": {
              "type": "dataframe",
              "variable_name": "df",
              "summary": "{\n  \"name\": \"df\",\n  \"rows\": 3387,\n  \"fields\": [\n    {\n      \"column\": \"title\",\n      \"properties\": {\n        \"dtype\": \"string\",\n        \"num_unique_values\": 3386,\n        \"samples\": [\n          \"Season of the Witch\",\n          \"Picture Me\",\n          \"Jane Eyre\"\n        ],\n        \"semantic_type\": \"\",\n        \"description\": \"\"\n      }\n    },\n    {\n      \"column\": \"studio\",\n      \"properties\": {\n        \"dtype\": \"category\",\n        \"num_unique_values\": 257,\n        \"samples\": [\n          \"SEA\",\n          \"PBS\",\n          \"Cohen\"\n        ],\n        \"semantic_type\": \"\",\n        \"description\": \"\"\n      }\n    },\n    {\n      \"column\": \"domestic_gross\",\n      \"properties\": {\n        \"dtype\": \"number\",\n        \"std\": 66982498.23736456,\n        \"min\": 100.0,\n        \"max\": 936700000.0,\n        \"num_unique_values\": 1797,\n        \"samples\": [\n          153600000.0,\n          336000.0,\n          295000.0\n        ],\n        \"semantic_type\": \"\",\n        \"description\": \"\"\n      }\n    },\n    {\n      \"column\": \"foreign_gross\",\n      \"properties\": {\n        \"dtype\": \"category\",\n        \"num_unique_values\": 1204,\n        \"samples\": [\n          \"40000000\",\n          \"5400000\",\n          \"32000000\"\n        ],\n        \"semantic_type\": \"\",\n        \"description\": \"\"\n      }\n    },\n    {\n      \"column\": \"year\",\n      \"properties\": {\n        \"dtype\": \"number\",\n        \"std\": 2,\n        \"min\": 2010,\n        \"max\": 2018,\n        \"num_unique_values\": 9,\n        \"samples\": [\n          2017,\n          2011,\n          2015\n        ],\n        \"semantic_type\": \"\",\n        \"description\": \"\"\n      }\n    }\n  ]\n}"
            }
          },
          "metadata": {},
          "execution_count": 2
        }
      ]
    },
    {
      "cell_type": "code",
      "source": [
        "import pandas as pd\n",
        "df = pd.read_csv('/content/imdb.title.basics.csv.gz')\n",
        "df.head()"
      ],
      "metadata": {
        "colab": {
          "base_uri": "https://localhost:8080/",
          "height": 258
        },
        "id": "q4wkmpoFBOHE",
        "outputId": "9c62a050-2bbf-4f8a-a28c-9a966cd06c8c"
      },
      "execution_count": null,
      "outputs": [
        {
          "output_type": "execute_result",
          "data": {
            "text/plain": [
              "      tconst                    primary_title              original_title  \\\n",
              "0  tt0063540                        Sunghursh                   Sunghursh   \n",
              "1  tt0066787  One Day Before the Rainy Season             Ashad Ka Ek Din   \n",
              "2  tt0069049       The Other Side of the Wind  The Other Side of the Wind   \n",
              "3  tt0069204                  Sabse Bada Sukh             Sabse Bada Sukh   \n",
              "4  tt0100275         The Wandering Soap Opera       La Telenovela Errante   \n",
              "\n",
              "   start_year  runtime_minutes                genres  \n",
              "0        2013            175.0    Action,Crime,Drama  \n",
              "1        2019            114.0       Biography,Drama  \n",
              "2        2018            122.0                 Drama  \n",
              "3        2018              NaN          Comedy,Drama  \n",
              "4        2017             80.0  Comedy,Drama,Fantasy  "
            ],
            "text/html": [
              "\n",
              "  <div id=\"df-7121ce35-65e2-4028-b48b-aca2d92b44d4\" class=\"colab-df-container\">\n",
              "    <div>\n",
              "<style scoped>\n",
              "    .dataframe tbody tr th:only-of-type {\n",
              "        vertical-align: middle;\n",
              "    }\n",
              "\n",
              "    .dataframe tbody tr th {\n",
              "        vertical-align: top;\n",
              "    }\n",
              "\n",
              "    .dataframe thead th {\n",
              "        text-align: right;\n",
              "    }\n",
              "</style>\n",
              "<table border=\"1\" class=\"dataframe\">\n",
              "  <thead>\n",
              "    <tr style=\"text-align: right;\">\n",
              "      <th></th>\n",
              "      <th>tconst</th>\n",
              "      <th>primary_title</th>\n",
              "      <th>original_title</th>\n",
              "      <th>start_year</th>\n",
              "      <th>runtime_minutes</th>\n",
              "      <th>genres</th>\n",
              "    </tr>\n",
              "  </thead>\n",
              "  <tbody>\n",
              "    <tr>\n",
              "      <th>0</th>\n",
              "      <td>tt0063540</td>\n",
              "      <td>Sunghursh</td>\n",
              "      <td>Sunghursh</td>\n",
              "      <td>2013</td>\n",
              "      <td>175.0</td>\n",
              "      <td>Action,Crime,Drama</td>\n",
              "    </tr>\n",
              "    <tr>\n",
              "      <th>1</th>\n",
              "      <td>tt0066787</td>\n",
              "      <td>One Day Before the Rainy Season</td>\n",
              "      <td>Ashad Ka Ek Din</td>\n",
              "      <td>2019</td>\n",
              "      <td>114.0</td>\n",
              "      <td>Biography,Drama</td>\n",
              "    </tr>\n",
              "    <tr>\n",
              "      <th>2</th>\n",
              "      <td>tt0069049</td>\n",
              "      <td>The Other Side of the Wind</td>\n",
              "      <td>The Other Side of the Wind</td>\n",
              "      <td>2018</td>\n",
              "      <td>122.0</td>\n",
              "      <td>Drama</td>\n",
              "    </tr>\n",
              "    <tr>\n",
              "      <th>3</th>\n",
              "      <td>tt0069204</td>\n",
              "      <td>Sabse Bada Sukh</td>\n",
              "      <td>Sabse Bada Sukh</td>\n",
              "      <td>2018</td>\n",
              "      <td>NaN</td>\n",
              "      <td>Comedy,Drama</td>\n",
              "    </tr>\n",
              "    <tr>\n",
              "      <th>4</th>\n",
              "      <td>tt0100275</td>\n",
              "      <td>The Wandering Soap Opera</td>\n",
              "      <td>La Telenovela Errante</td>\n",
              "      <td>2017</td>\n",
              "      <td>80.0</td>\n",
              "      <td>Comedy,Drama,Fantasy</td>\n",
              "    </tr>\n",
              "  </tbody>\n",
              "</table>\n",
              "</div>\n",
              "    <div class=\"colab-df-buttons\">\n",
              "\n",
              "  <div class=\"colab-df-container\">\n",
              "    <button class=\"colab-df-convert\" onclick=\"convertToInteractive('df-7121ce35-65e2-4028-b48b-aca2d92b44d4')\"\n",
              "            title=\"Convert this dataframe to an interactive table.\"\n",
              "            style=\"display:none;\">\n",
              "\n",
              "  <svg xmlns=\"http://www.w3.org/2000/svg\" height=\"24px\" viewBox=\"0 -960 960 960\">\n",
              "    <path d=\"M120-120v-720h720v720H120Zm60-500h600v-160H180v160Zm220 220h160v-160H400v160Zm0 220h160v-160H400v160ZM180-400h160v-160H180v160Zm440 0h160v-160H620v160ZM180-180h160v-160H180v160Zm440 0h160v-160H620v160Z\"/>\n",
              "  </svg>\n",
              "    </button>\n",
              "\n",
              "  <style>\n",
              "    .colab-df-container {\n",
              "      display:flex;\n",
              "      gap: 12px;\n",
              "    }\n",
              "\n",
              "    .colab-df-convert {\n",
              "      background-color: #E8F0FE;\n",
              "      border: none;\n",
              "      border-radius: 50%;\n",
              "      cursor: pointer;\n",
              "      display: none;\n",
              "      fill: #1967D2;\n",
              "      height: 32px;\n",
              "      padding: 0 0 0 0;\n",
              "      width: 32px;\n",
              "    }\n",
              "\n",
              "    .colab-df-convert:hover {\n",
              "      background-color: #E2EBFA;\n",
              "      box-shadow: 0px 1px 2px rgba(60, 64, 67, 0.3), 0px 1px 3px 1px rgba(60, 64, 67, 0.15);\n",
              "      fill: #174EA6;\n",
              "    }\n",
              "\n",
              "    .colab-df-buttons div {\n",
              "      margin-bottom: 4px;\n",
              "    }\n",
              "\n",
              "    [theme=dark] .colab-df-convert {\n",
              "      background-color: #3B4455;\n",
              "      fill: #D2E3FC;\n",
              "    }\n",
              "\n",
              "    [theme=dark] .colab-df-convert:hover {\n",
              "      background-color: #434B5C;\n",
              "      box-shadow: 0px 1px 3px 1px rgba(0, 0, 0, 0.15);\n",
              "      filter: drop-shadow(0px 1px 2px rgba(0, 0, 0, 0.3));\n",
              "      fill: #FFFFFF;\n",
              "    }\n",
              "  </style>\n",
              "\n",
              "    <script>\n",
              "      const buttonEl =\n",
              "        document.querySelector('#df-7121ce35-65e2-4028-b48b-aca2d92b44d4 button.colab-df-convert');\n",
              "      buttonEl.style.display =\n",
              "        google.colab.kernel.accessAllowed ? 'block' : 'none';\n",
              "\n",
              "      async function convertToInteractive(key) {\n",
              "        const element = document.querySelector('#df-7121ce35-65e2-4028-b48b-aca2d92b44d4');\n",
              "        const dataTable =\n",
              "          await google.colab.kernel.invokeFunction('convertToInteractive',\n",
              "                                                    [key], {});\n",
              "        if (!dataTable) return;\n",
              "\n",
              "        const docLinkHtml = 'Like what you see? Visit the ' +\n",
              "          '<a target=\"_blank\" href=https://colab.research.google.com/notebooks/data_table.ipynb>data table notebook</a>'\n",
              "          + ' to learn more about interactive tables.';\n",
              "        element.innerHTML = '';\n",
              "        dataTable['output_type'] = 'display_data';\n",
              "        await google.colab.output.renderOutput(dataTable, element);\n",
              "        const docLink = document.createElement('div');\n",
              "        docLink.innerHTML = docLinkHtml;\n",
              "        element.appendChild(docLink);\n",
              "      }\n",
              "    </script>\n",
              "  </div>\n",
              "\n",
              "\n",
              "<div id=\"df-d6fb3817-37bc-4dcc-a97e-bff3eabf2a49\">\n",
              "  <button class=\"colab-df-quickchart\" onclick=\"quickchart('df-d6fb3817-37bc-4dcc-a97e-bff3eabf2a49')\"\n",
              "            title=\"Suggest charts\"\n",
              "            style=\"display:none;\">\n",
              "\n",
              "<svg xmlns=\"http://www.w3.org/2000/svg\" height=\"24px\"viewBox=\"0 0 24 24\"\n",
              "     width=\"24px\">\n",
              "    <g>\n",
              "        <path d=\"M19 3H5c-1.1 0-2 .9-2 2v14c0 1.1.9 2 2 2h14c1.1 0 2-.9 2-2V5c0-1.1-.9-2-2-2zM9 17H7v-7h2v7zm4 0h-2V7h2v10zm4 0h-2v-4h2v4z\"/>\n",
              "    </g>\n",
              "</svg>\n",
              "  </button>\n",
              "\n",
              "<style>\n",
              "  .colab-df-quickchart {\n",
              "      --bg-color: #E8F0FE;\n",
              "      --fill-color: #1967D2;\n",
              "      --hover-bg-color: #E2EBFA;\n",
              "      --hover-fill-color: #174EA6;\n",
              "      --disabled-fill-color: #AAA;\n",
              "      --disabled-bg-color: #DDD;\n",
              "  }\n",
              "\n",
              "  [theme=dark] .colab-df-quickchart {\n",
              "      --bg-color: #3B4455;\n",
              "      --fill-color: #D2E3FC;\n",
              "      --hover-bg-color: #434B5C;\n",
              "      --hover-fill-color: #FFFFFF;\n",
              "      --disabled-bg-color: #3B4455;\n",
              "      --disabled-fill-color: #666;\n",
              "  }\n",
              "\n",
              "  .colab-df-quickchart {\n",
              "    background-color: var(--bg-color);\n",
              "    border: none;\n",
              "    border-radius: 50%;\n",
              "    cursor: pointer;\n",
              "    display: none;\n",
              "    fill: var(--fill-color);\n",
              "    height: 32px;\n",
              "    padding: 0;\n",
              "    width: 32px;\n",
              "  }\n",
              "\n",
              "  .colab-df-quickchart:hover {\n",
              "    background-color: var(--hover-bg-color);\n",
              "    box-shadow: 0 1px 2px rgba(60, 64, 67, 0.3), 0 1px 3px 1px rgba(60, 64, 67, 0.15);\n",
              "    fill: var(--button-hover-fill-color);\n",
              "  }\n",
              "\n",
              "  .colab-df-quickchart-complete:disabled,\n",
              "  .colab-df-quickchart-complete:disabled:hover {\n",
              "    background-color: var(--disabled-bg-color);\n",
              "    fill: var(--disabled-fill-color);\n",
              "    box-shadow: none;\n",
              "  }\n",
              "\n",
              "  .colab-df-spinner {\n",
              "    border: 2px solid var(--fill-color);\n",
              "    border-color: transparent;\n",
              "    border-bottom-color: var(--fill-color);\n",
              "    animation:\n",
              "      spin 1s steps(1) infinite;\n",
              "  }\n",
              "\n",
              "  @keyframes spin {\n",
              "    0% {\n",
              "      border-color: transparent;\n",
              "      border-bottom-color: var(--fill-color);\n",
              "      border-left-color: var(--fill-color);\n",
              "    }\n",
              "    20% {\n",
              "      border-color: transparent;\n",
              "      border-left-color: var(--fill-color);\n",
              "      border-top-color: var(--fill-color);\n",
              "    }\n",
              "    30% {\n",
              "      border-color: transparent;\n",
              "      border-left-color: var(--fill-color);\n",
              "      border-top-color: var(--fill-color);\n",
              "      border-right-color: var(--fill-color);\n",
              "    }\n",
              "    40% {\n",
              "      border-color: transparent;\n",
              "      border-right-color: var(--fill-color);\n",
              "      border-top-color: var(--fill-color);\n",
              "    }\n",
              "    60% {\n",
              "      border-color: transparent;\n",
              "      border-right-color: var(--fill-color);\n",
              "    }\n",
              "    80% {\n",
              "      border-color: transparent;\n",
              "      border-right-color: var(--fill-color);\n",
              "      border-bottom-color: var(--fill-color);\n",
              "    }\n",
              "    90% {\n",
              "      border-color: transparent;\n",
              "      border-bottom-color: var(--fill-color);\n",
              "    }\n",
              "  }\n",
              "</style>\n",
              "\n",
              "  <script>\n",
              "    async function quickchart(key) {\n",
              "      const quickchartButtonEl =\n",
              "        document.querySelector('#' + key + ' button');\n",
              "      quickchartButtonEl.disabled = true;  // To prevent multiple clicks.\n",
              "      quickchartButtonEl.classList.add('colab-df-spinner');\n",
              "      try {\n",
              "        const charts = await google.colab.kernel.invokeFunction(\n",
              "            'suggestCharts', [key], {});\n",
              "      } catch (error) {\n",
              "        console.error('Error during call to suggestCharts:', error);\n",
              "      }\n",
              "      quickchartButtonEl.classList.remove('colab-df-spinner');\n",
              "      quickchartButtonEl.classList.add('colab-df-quickchart-complete');\n",
              "    }\n",
              "    (() => {\n",
              "      let quickchartButtonEl =\n",
              "        document.querySelector('#df-d6fb3817-37bc-4dcc-a97e-bff3eabf2a49 button');\n",
              "      quickchartButtonEl.style.display =\n",
              "        google.colab.kernel.accessAllowed ? 'block' : 'none';\n",
              "    })();\n",
              "  </script>\n",
              "</div>\n",
              "\n",
              "    </div>\n",
              "  </div>\n"
            ],
            "application/vnd.google.colaboratory.intrinsic+json": {
              "type": "dataframe",
              "variable_name": "df"
            }
          },
          "metadata": {},
          "execution_count": 3
        }
      ]
    },
    {
      "cell_type": "code",
      "source": [
        "import pandas as pd\n",
        "df = pd.read_csv('/content/imdb.title.ratings.csv.gz')\n",
        "df.head()"
      ],
      "metadata": {
        "colab": {
          "base_uri": "https://localhost:8080/",
          "height": 206
        },
        "id": "HYXHF288Bt4c",
        "outputId": "e7a7d9a2-9f4f-486f-bcb7-c45a6d915bd8"
      },
      "execution_count": null,
      "outputs": [
        {
          "output_type": "execute_result",
          "data": {
            "text/plain": [
              "       tconst  averagerating  numvotes\n",
              "0  tt10356526            8.3        31\n",
              "1  tt10384606            8.9       559\n",
              "2   tt1042974            6.4        20\n",
              "3   tt1043726            4.2     50352\n",
              "4   tt1060240            6.5        21"
            ],
            "text/html": [
              "\n",
              "  <div id=\"df-cdd96531-b41e-4386-8f30-feb0e3a488d7\" class=\"colab-df-container\">\n",
              "    <div>\n",
              "<style scoped>\n",
              "    .dataframe tbody tr th:only-of-type {\n",
              "        vertical-align: middle;\n",
              "    }\n",
              "\n",
              "    .dataframe tbody tr th {\n",
              "        vertical-align: top;\n",
              "    }\n",
              "\n",
              "    .dataframe thead th {\n",
              "        text-align: right;\n",
              "    }\n",
              "</style>\n",
              "<table border=\"1\" class=\"dataframe\">\n",
              "  <thead>\n",
              "    <tr style=\"text-align: right;\">\n",
              "      <th></th>\n",
              "      <th>tconst</th>\n",
              "      <th>averagerating</th>\n",
              "      <th>numvotes</th>\n",
              "    </tr>\n",
              "  </thead>\n",
              "  <tbody>\n",
              "    <tr>\n",
              "      <th>0</th>\n",
              "      <td>tt10356526</td>\n",
              "      <td>8.3</td>\n",
              "      <td>31</td>\n",
              "    </tr>\n",
              "    <tr>\n",
              "      <th>1</th>\n",
              "      <td>tt10384606</td>\n",
              "      <td>8.9</td>\n",
              "      <td>559</td>\n",
              "    </tr>\n",
              "    <tr>\n",
              "      <th>2</th>\n",
              "      <td>tt1042974</td>\n",
              "      <td>6.4</td>\n",
              "      <td>20</td>\n",
              "    </tr>\n",
              "    <tr>\n",
              "      <th>3</th>\n",
              "      <td>tt1043726</td>\n",
              "      <td>4.2</td>\n",
              "      <td>50352</td>\n",
              "    </tr>\n",
              "    <tr>\n",
              "      <th>4</th>\n",
              "      <td>tt1060240</td>\n",
              "      <td>6.5</td>\n",
              "      <td>21</td>\n",
              "    </tr>\n",
              "  </tbody>\n",
              "</table>\n",
              "</div>\n",
              "    <div class=\"colab-df-buttons\">\n",
              "\n",
              "  <div class=\"colab-df-container\">\n",
              "    <button class=\"colab-df-convert\" onclick=\"convertToInteractive('df-cdd96531-b41e-4386-8f30-feb0e3a488d7')\"\n",
              "            title=\"Convert this dataframe to an interactive table.\"\n",
              "            style=\"display:none;\">\n",
              "\n",
              "  <svg xmlns=\"http://www.w3.org/2000/svg\" height=\"24px\" viewBox=\"0 -960 960 960\">\n",
              "    <path d=\"M120-120v-720h720v720H120Zm60-500h600v-160H180v160Zm220 220h160v-160H400v160Zm0 220h160v-160H400v160ZM180-400h160v-160H180v160Zm440 0h160v-160H620v160ZM180-180h160v-160H180v160Zm440 0h160v-160H620v160Z\"/>\n",
              "  </svg>\n",
              "    </button>\n",
              "\n",
              "  <style>\n",
              "    .colab-df-container {\n",
              "      display:flex;\n",
              "      gap: 12px;\n",
              "    }\n",
              "\n",
              "    .colab-df-convert {\n",
              "      background-color: #E8F0FE;\n",
              "      border: none;\n",
              "      border-radius: 50%;\n",
              "      cursor: pointer;\n",
              "      display: none;\n",
              "      fill: #1967D2;\n",
              "      height: 32px;\n",
              "      padding: 0 0 0 0;\n",
              "      width: 32px;\n",
              "    }\n",
              "\n",
              "    .colab-df-convert:hover {\n",
              "      background-color: #E2EBFA;\n",
              "      box-shadow: 0px 1px 2px rgba(60, 64, 67, 0.3), 0px 1px 3px 1px rgba(60, 64, 67, 0.15);\n",
              "      fill: #174EA6;\n",
              "    }\n",
              "\n",
              "    .colab-df-buttons div {\n",
              "      margin-bottom: 4px;\n",
              "    }\n",
              "\n",
              "    [theme=dark] .colab-df-convert {\n",
              "      background-color: #3B4455;\n",
              "      fill: #D2E3FC;\n",
              "    }\n",
              "\n",
              "    [theme=dark] .colab-df-convert:hover {\n",
              "      background-color: #434B5C;\n",
              "      box-shadow: 0px 1px 3px 1px rgba(0, 0, 0, 0.15);\n",
              "      filter: drop-shadow(0px 1px 2px rgba(0, 0, 0, 0.3));\n",
              "      fill: #FFFFFF;\n",
              "    }\n",
              "  </style>\n",
              "\n",
              "    <script>\n",
              "      const buttonEl =\n",
              "        document.querySelector('#df-cdd96531-b41e-4386-8f30-feb0e3a488d7 button.colab-df-convert');\n",
              "      buttonEl.style.display =\n",
              "        google.colab.kernel.accessAllowed ? 'block' : 'none';\n",
              "\n",
              "      async function convertToInteractive(key) {\n",
              "        const element = document.querySelector('#df-cdd96531-b41e-4386-8f30-feb0e3a488d7');\n",
              "        const dataTable =\n",
              "          await google.colab.kernel.invokeFunction('convertToInteractive',\n",
              "                                                    [key], {});\n",
              "        if (!dataTable) return;\n",
              "\n",
              "        const docLinkHtml = 'Like what you see? Visit the ' +\n",
              "          '<a target=\"_blank\" href=https://colab.research.google.com/notebooks/data_table.ipynb>data table notebook</a>'\n",
              "          + ' to learn more about interactive tables.';\n",
              "        element.innerHTML = '';\n",
              "        dataTable['output_type'] = 'display_data';\n",
              "        await google.colab.output.renderOutput(dataTable, element);\n",
              "        const docLink = document.createElement('div');\n",
              "        docLink.innerHTML = docLinkHtml;\n",
              "        element.appendChild(docLink);\n",
              "      }\n",
              "    </script>\n",
              "  </div>\n",
              "\n",
              "\n",
              "<div id=\"df-bf0473d0-6960-49cb-ab7c-8ae9c6c74cfd\">\n",
              "  <button class=\"colab-df-quickchart\" onclick=\"quickchart('df-bf0473d0-6960-49cb-ab7c-8ae9c6c74cfd')\"\n",
              "            title=\"Suggest charts\"\n",
              "            style=\"display:none;\">\n",
              "\n",
              "<svg xmlns=\"http://www.w3.org/2000/svg\" height=\"24px\"viewBox=\"0 0 24 24\"\n",
              "     width=\"24px\">\n",
              "    <g>\n",
              "        <path d=\"M19 3H5c-1.1 0-2 .9-2 2v14c0 1.1.9 2 2 2h14c1.1 0 2-.9 2-2V5c0-1.1-.9-2-2-2zM9 17H7v-7h2v7zm4 0h-2V7h2v10zm4 0h-2v-4h2v4z\"/>\n",
              "    </g>\n",
              "</svg>\n",
              "  </button>\n",
              "\n",
              "<style>\n",
              "  .colab-df-quickchart {\n",
              "      --bg-color: #E8F0FE;\n",
              "      --fill-color: #1967D2;\n",
              "      --hover-bg-color: #E2EBFA;\n",
              "      --hover-fill-color: #174EA6;\n",
              "      --disabled-fill-color: #AAA;\n",
              "      --disabled-bg-color: #DDD;\n",
              "  }\n",
              "\n",
              "  [theme=dark] .colab-df-quickchart {\n",
              "      --bg-color: #3B4455;\n",
              "      --fill-color: #D2E3FC;\n",
              "      --hover-bg-color: #434B5C;\n",
              "      --hover-fill-color: #FFFFFF;\n",
              "      --disabled-bg-color: #3B4455;\n",
              "      --disabled-fill-color: #666;\n",
              "  }\n",
              "\n",
              "  .colab-df-quickchart {\n",
              "    background-color: var(--bg-color);\n",
              "    border: none;\n",
              "    border-radius: 50%;\n",
              "    cursor: pointer;\n",
              "    display: none;\n",
              "    fill: var(--fill-color);\n",
              "    height: 32px;\n",
              "    padding: 0;\n",
              "    width: 32px;\n",
              "  }\n",
              "\n",
              "  .colab-df-quickchart:hover {\n",
              "    background-color: var(--hover-bg-color);\n",
              "    box-shadow: 0 1px 2px rgba(60, 64, 67, 0.3), 0 1px 3px 1px rgba(60, 64, 67, 0.15);\n",
              "    fill: var(--button-hover-fill-color);\n",
              "  }\n",
              "\n",
              "  .colab-df-quickchart-complete:disabled,\n",
              "  .colab-df-quickchart-complete:disabled:hover {\n",
              "    background-color: var(--disabled-bg-color);\n",
              "    fill: var(--disabled-fill-color);\n",
              "    box-shadow: none;\n",
              "  }\n",
              "\n",
              "  .colab-df-spinner {\n",
              "    border: 2px solid var(--fill-color);\n",
              "    border-color: transparent;\n",
              "    border-bottom-color: var(--fill-color);\n",
              "    animation:\n",
              "      spin 1s steps(1) infinite;\n",
              "  }\n",
              "\n",
              "  @keyframes spin {\n",
              "    0% {\n",
              "      border-color: transparent;\n",
              "      border-bottom-color: var(--fill-color);\n",
              "      border-left-color: var(--fill-color);\n",
              "    }\n",
              "    20% {\n",
              "      border-color: transparent;\n",
              "      border-left-color: var(--fill-color);\n",
              "      border-top-color: var(--fill-color);\n",
              "    }\n",
              "    30% {\n",
              "      border-color: transparent;\n",
              "      border-left-color: var(--fill-color);\n",
              "      border-top-color: var(--fill-color);\n",
              "      border-right-color: var(--fill-color);\n",
              "    }\n",
              "    40% {\n",
              "      border-color: transparent;\n",
              "      border-right-color: var(--fill-color);\n",
              "      border-top-color: var(--fill-color);\n",
              "    }\n",
              "    60% {\n",
              "      border-color: transparent;\n",
              "      border-right-color: var(--fill-color);\n",
              "    }\n",
              "    80% {\n",
              "      border-color: transparent;\n",
              "      border-right-color: var(--fill-color);\n",
              "      border-bottom-color: var(--fill-color);\n",
              "    }\n",
              "    90% {\n",
              "      border-color: transparent;\n",
              "      border-bottom-color: var(--fill-color);\n",
              "    }\n",
              "  }\n",
              "</style>\n",
              "\n",
              "  <script>\n",
              "    async function quickchart(key) {\n",
              "      const quickchartButtonEl =\n",
              "        document.querySelector('#' + key + ' button');\n",
              "      quickchartButtonEl.disabled = true;  // To prevent multiple clicks.\n",
              "      quickchartButtonEl.classList.add('colab-df-spinner');\n",
              "      try {\n",
              "        const charts = await google.colab.kernel.invokeFunction(\n",
              "            'suggestCharts', [key], {});\n",
              "      } catch (error) {\n",
              "        console.error('Error during call to suggestCharts:', error);\n",
              "      }\n",
              "      quickchartButtonEl.classList.remove('colab-df-spinner');\n",
              "      quickchartButtonEl.classList.add('colab-df-quickchart-complete');\n",
              "    }\n",
              "    (() => {\n",
              "      let quickchartButtonEl =\n",
              "        document.querySelector('#df-bf0473d0-6960-49cb-ab7c-8ae9c6c74cfd button');\n",
              "      quickchartButtonEl.style.display =\n",
              "        google.colab.kernel.accessAllowed ? 'block' : 'none';\n",
              "    })();\n",
              "  </script>\n",
              "</div>\n",
              "\n",
              "    </div>\n",
              "  </div>\n"
            ],
            "application/vnd.google.colaboratory.intrinsic+json": {
              "type": "dataframe",
              "variable_name": "df",
              "summary": "{\n  \"name\": \"df\",\n  \"rows\": 73856,\n  \"fields\": [\n    {\n      \"column\": \"tconst\",\n      \"properties\": {\n        \"dtype\": \"string\",\n        \"num_unique_values\": 73856,\n        \"samples\": [\n          \"tt1777573\",\n          \"tt1867008\",\n          \"tt5652498\"\n        ],\n        \"semantic_type\": \"\",\n        \"description\": \"\"\n      }\n    },\n    {\n      \"column\": \"averagerating\",\n      \"properties\": {\n        \"dtype\": \"number\",\n        \"std\": 1.4749783548957056,\n        \"min\": 1.0,\n        \"max\": 10.0,\n        \"num_unique_values\": 91,\n        \"samples\": [\n          3.8,\n          7.7,\n          3.7\n        ],\n        \"semantic_type\": \"\",\n        \"description\": \"\"\n      }\n    },\n    {\n      \"column\": \"numvotes\",\n      \"properties\": {\n        \"dtype\": \"number\",\n        \"std\": 30294,\n        \"min\": 5,\n        \"max\": 1841066,\n        \"num_unique_values\": 7349,\n        \"samples\": [\n          7312,\n          2141,\n          1251\n        ],\n        \"semantic_type\": \"\",\n        \"description\": \"\"\n      }\n    }\n  ]\n}"
            }
          },
          "metadata": {},
          "execution_count": 4
        }
      ]
    },
    {
      "cell_type": "markdown",
      "source": [
        "~~VISUALIZATION"
      ],
      "metadata": {
        "id": "D6L9z1E_XWeG"
      }
    },
    {
      "cell_type": "markdown",
      "source": [
        ">Visualization 1: Box Office Performance by Genre\n",
        "\n",
        "Purpose: To show which genres have the highest average box office performance.\n",
        "\n",
        "Description: This bar chart illustrates the average box office revenue across different genres, helping stakeholders understand which genres are most lucrative."
      ],
      "metadata": {
        "id": "pe2preenXdxt"
      }
    },
    {
      "cell_type": "code",
      "source": [
        "import matplotlib.pyplot as plt"
      ],
      "metadata": {
        "id": "sMM-cl3msgP4"
      },
      "execution_count": null,
      "outputs": []
    },
    {
      "cell_type": "markdown",
      "source": [
        "Visualization 1: Correlation Between Star Power and Box Office Revenue\n",
        "Purpose: To visualize the relationship between star power (represented by IMDb rating) and box office revenue.*italicized text*"
      ],
      "metadata": {
        "id": "CAjIwBGdr5RC"
      }
    },
    {
      "cell_type": "markdown",
      "source": [
        "Purpose: To visualize the relationship between star power (represented by IMDb rating) and box office revenue.\n",
        "\n",
        "Description: This scatter plot highlights the correlation between IMDb rating (as a proxy for star power) and box office revenue, showing how star power impacts financial performance."
      ],
      "metadata": {
        "id": "7K8dsqRitrUG"
      }
    },
    {
      "cell_type": "code",
      "source": [
        "import pandas as pd\n",
        "import matplotlib.pyplot as plt\n",
        "\n",
        "# ... (Code to create merged_df, if needed) ...\n",
        "\n",
        "# Example:\n",
        "df1 = pd.DataFrame({'imdbRating': [7.5, 8.2, 6.3], 'BoxOffice': [100, 250, 50]})\n",
        "df2 = pd.DataFrame({'other_column': [1, 2, 3]})\n",
        "merged_df = pd.merge(df1, df2, left_index=True, right_index=True)\n",
        "\n",
        "# Plotting the scatter plot\n",
        "plt.figure(figsize=(4, 3))\n",
        "plt.scatter(merged_df['imdbRating'], merged_df['BoxOffice'], color='coral', alpha=0.7, edgecolors='k')\n",
        "plt.title('Correlation Between Star Power and Box Office Revenue')\n",
        "plt.xlabel('IMDb Rating')\n",
        "plt.ylabel('Box Office Revenue ($)')\n",
        "plt.grid(True, linestyle='--', alpha=0.6)\n",
        "plt.tight_layout()\n",
        "plt.show()"
      ],
      "metadata": {
        "colab": {
          "base_uri": "https://localhost:8080/",
          "height": 307
        },
        "id": "_88-AGeaTwYo",
        "outputId": "02c0c5c8-a659-4cec-e6b9-4ca00035a2b9"
      },
      "execution_count": null,
      "outputs": [
        {
          "output_type": "display_data",
          "data": {
            "text/plain": [
              "<Figure size 400x300 with 1 Axes>"
            ],
            "image/png": "[encoded data removed]"
          },
          "metadata": {}
        }
      ]
    },
    {
      "cell_type": "code",
      "source": [
        "print(merged_df.columns)"
      ],
      "metadata": {
        "colab": {
          "base_uri": "https://localhost:8080/"
        },
        "id": "XkKILuQ4WKeq",
        "outputId": "b05cf760-3c56-4d86-ba2a-27d694584551"
      },
      "execution_count": null,
      "outputs": [
        {
          "output_type": "stream",
          "name": "stdout",
          "text": [
            "Index(['imdbRating', 'BoxOffice', 'other_column'], dtype='object')\n"
          ]
        }
      ]
    },
    {
      "cell_type": "markdown",
      "source": [
        "Visualization 2: Box Office Performance by Genre\n",
        "Purpose: To show which genres have the highest average box office performance.*italicized text*"
      ],
      "metadata": {
        "id": "MJtd6On8rtPE"
      }
    },
    {
      "cell_type": "markdown",
      "source": [
        " Ratings vs. Box Office Revenue\n",
        "Purpose: To examine how critic and audience ratings correlate with box office revenue."
      ],
      "metadata": {
        "id": "jZWrKMSGsRvy"
      }
    },
    {
      "cell_type": "markdown",
      "source": [
        " Ratings vs. Box Office Revenue\n",
        "Purpose: To examine how critic and audience ratings correlate with box office revenue.\n",
        "\n",
        "Description: This combined scatter plot and regression line show the relationships between critic scores, audience scores, and box office revenue"
      ],
      "metadata": {
        "id": "3NLy5PuAtkC7"
      }
    },
    {
      "cell_type": "code",
      "source": [
        "import seaborn as sns\n",
        "df1 = pd.DataFrame({'critic_score': [7.5, 8.2, 6.3], 'Boxoffice': [100, 250, 50]})\n",
        "df2 = pd.DataFrame({'audience_score': [1, 2, 3]})\n",
        "merged_df = pd.merge(df1, df2, left_index=True, right_index=True)\n",
        "\n",
        "# Verify the column names in your DataFrame\n",
        "print(merged_df.columns)\n",
        "\n",
        "# Plotting the combined scatter plot with regression lines\n",
        "plt.figure(figsize=(4, 3))\n",
        "# Update 'BoxOffice' to the correct column name if it's different\n",
        "sns.regplot(x='critic_score', y='Boxoffice', data=merged_df, scatter_kws={'color': 'blue', 'alpha': 0.5}, line_kws={'color': 'blue', 'linewidth': 1.5}, label='Critic Score') # Update column name here\n",
        "sns.regplot(x='audience_score', y='Boxoffice', data=merged_df, scatter_kws={'color': 'green', 'alpha': 0.5}, line_kws={'color': 'green', 'linewidth': 1.5}, label='Audience Score') # Update column name here\n",
        "plt.title('Ratings vs. Box Office Revenue')\n",
        "plt.xlabel('Ratings')\n",
        "plt.ylabel('Box Office Revenue ($)')\n",
        "plt.legend()\n",
        "plt.grid(True, linestyle='--', alpha=0.5)\n",
        "plt.tight_layout()\n",
        "plt.show()"
      ],
      "metadata": {
        "colab": {
          "base_uri": "https://localhost:8080/",
          "height": 324
        },
        "id": "tyh4XXjVo2dT",
        "outputId": "fa04155f-70eb-4cf2-846a-5371fd97854b"
      },
      "execution_count": null,
      "outputs": [
        {
          "output_type": "stream",
          "name": "stdout",
          "text": [
            "Index(['critic_score', 'Boxoffice', 'audience_score'], dtype='object')\n"
          ]
        },
        {
          "output_type": "display_data",
          "data": {
            "text/plain": [
              "<Figure size 400x300 with 1 Axes>"
            ],
            "image/png": "[encoded data removed]"
          },
          "metadata": {}
        }
      ]
    },
    {
      "cell_type": "markdown",
      "source": [
        "Visualization 3: Box Office Performance by Genre\n",
        "Purpose: To show which genres have the highest average box office performance.\n",
        "\n",
        "Description: This bar chart illustrates the average box office revenue across different genres, helping stakeholders understand which genres are most lucrative."
      ],
      "metadata": {
        "id": "EsQmU_vOtVUr"
      }
    },
    {
      "cell_type": "code",
      "source": [
        "import matplotlib.pyplot as plt\n",
        "import pandas as pd\n",
        "\n",
        "df1 = pd.DataFrame({'Genre_Action': [7.5, 8.2, 6.3], 'BoxOffice': [100, 250, 50]})\n",
        "df2 = pd.DataFrame({'genre_performance': [1, 2, 3]})\n",
        "merged_df = pd.merge(df1, df2, left_index=True, right_index=True)\n",
        "\n",
        "\n",
        "\n",
        "# Data preparation for visualization\n",
        "genre_performance = merged_df.groupby('Genre_Action').agg({\n",
        "    'BoxOffice': 'mean'\n",
        "}).reset_index().sort_values(by='BoxOffice', ascending=False)\n",
        "\n",
        "# Plotting the bar chart\n",
        "plt.figure(figsize=(4, 3))\n",
        "plt.bar(genre_performance['Genre_Action'], genre_performance['BoxOffice'], color='skyblue')\n",
        "plt.title('Average Box Office Performance by Genre')\n",
        "plt.xlabel('Genre')\n",
        "plt.ylabel('Average Box Office Revenue ($)')\n",
        "plt.xticks(rotation=45, ha='right')\n",
        "plt.grid(axis='y', linestyle='--', alpha=0.7)\n",
        "plt.tight_layout()\n",
        "plt.show()\n"
      ],
      "metadata": {
        "colab": {
          "base_uri": "https://localhost:8080/",
          "height": 307
        },
        "id": "LVHTXZwupnkg",
        "outputId": "108d7272-035e-403d-beeb-f262b1eac628"
      },
      "execution_count": null,
      "outputs": [
        {
          "output_type": "display_data",
          "data": {
            "text/plain": [
              "<Figure size 400x300 with 1 Axes>"
            ],
            "image/png": "[encoded data removed]"
          },
          "metadata": {}
        }
      ]
    },
    {
      "cell_type": "code",
      "source": [
        "print(merged_df.columns)"
      ],
      "metadata": {
        "colab": {
          "base_uri": "https://localhost:8080/"
        },
        "id": "KzngJdHEpPcL",
        "outputId": "f1bc50b8-de3d-442c-86e6-a8e008491f33"
      },
      "execution_count": null,
      "outputs": [
        {
          "output_type": "stream",
          "name": "stdout",
          "text": [
            "Index(['critic_score', 'Boxoffice', 'audience_score'], dtype='object')\n"
          ]
        }
      ]
    },
    {
      "cell_type": "code",
      "source": [
        "import matplotlib.pyplot as plt\n",
        "import pandas as pd\n",
        "import seaborn as sns\n",
        "\n",
        "# Assuming 'merged_df' from your previous code is the dataset you want to use\n",
        "train_set = merged_df\n",
        "\n",
        "# Check the available columns in your DataFrame\n",
        "print(train_set.columns)\n",
        "\n",
        "# Replace 'imdbRating' and 'BoxOffice' with actual column names from your DataFrame\n",
        "plt.figure(figsize=(3,2))\n",
        "# Example: Assuming 'Genre_Action' and 'genre_performance' are the columns you want to plot\n",
        "sns.barplot(x='Genre_Action', y='genre_performance', data=train_set, palette='rainbow')\n",
        "plt.title(\"Correlation between Genre_Action and genre_performance\")\n",
        "plt.show()"
      ],
      "metadata": {
        "colab": {
          "base_uri": "https://localhost:8080/",
          "height": 380
        },
        "id": "9tbReiDOw-ID",
        "outputId": "a232ce57-9e03-4219-c6ed-feeff69f38c1"
      },
      "execution_count": null,
      "outputs": [
        {
          "output_type": "stream",
          "name": "stdout",
          "text": [
            "Index(['Genre_Action', 'BoxOffice', 'genre_performance'], dtype='object')\n"
          ]
        },
        {
          "output_type": "stream",
          "name": "stderr",
          "text": [
            "<ipython-input-5-f406c624ea6f>:14: FutureWarning: \n",
            "\n",
            "Passing `palette` without assigning `hue` is deprecated and will be removed in v0.14.0. Assign the `x` variable to `hue` and set `legend=False` for the same effect.\n",
            "\n",
            "  sns.barplot(x='Genre_Action', y='genre_performance', data=train_set, palette='rainbow')\n"
          ]
        },
        {
          "output_type": "display_data",
          "data": {
            "text/plain": [
              "<Figure size 300x200 with 1 Axes>"
            ],
            "image/png": "[encoded data removed]"
          },
          "metadata": {}
        }
      ]
    },
    {
      "source": [
        "import pandas as pd\n",
        "import seaborn as sns\n",
        "import matplotlib.pyplot as plt\n",
        "\n",
        "# Recreate the merged_df DataFrame (assuming df1 and df2 are available)\n",
        "df1 = pd.DataFrame({'Genre_Action': [7.5, 8.2, 6.3], 'BoxOffice': [100, 250, 50]})\n",
        "df2 = pd.DataFrame({'genre_performance': [1, 2, 3]})\n",
        "merged_df = pd.merge(df1, df2, left_index=True, right_index=True)\n",
        "\n",
        "# Calculate the correlation matrix\n",
        "correlation_matrix = merged_df.corr()\n",
        "\n",
        "# Display the correlation matrix\n",
        "print(\"Correlation Matrix:\")\n",
        "print(correlation_matrix)"
      ],
      "cell_type": "code",
      "metadata": {
        "colab": {
          "base_uri": "https://localhost:8080/"
        },
        "id": "vyADipgbIn4x",
        "outputId": "a28c504b-59f0-4089-d454-e5bacd01a692"
      },
      "execution_count": null,
      "outputs": [
        {
          "output_type": "stream",
          "name": "stdout",
          "text": [
            "Correlation Matrix:\n",
            "                   Genre_Action  BoxOffice  genre_performance\n",
            "Genre_Action           1.000000   0.908207          -0.624413\n",
            "BoxOffice              0.908207   1.000000          -0.240192\n",
            "genre_performance     -0.624413  -0.240192           1.000000\n"
          ]
        }
      ]
    },
    {
      "source": [
        "# Plot the correlation matrix using a heatmap\n",
        "import seaborn as sns # Import seaborn for heatmap\n",
        "import matplotlib.pyplot as plt # Import matplotlib for plotting\n",
        "\n",
        "# Recreate the merged_df DataFrame (assuming df1 and df2 are available)\n",
        "df1 = pd.DataFrame({'Genre_Action': [7.5, 8.2, 6.3], 'BoxOffice': [100, 250, 50]})\n",
        "df2 = pd.DataFrame({'genre_performance': [1, 2, 3]})\n",
        "merged_df = pd.merge(df1, df2, left_index=True, right_index=True)\n",
        "\n",
        "# Calculate the correlation matrix\n",
        "correlation_matrix = merged_df.corr() # Calculate the correlation matrix and assign it to a variable\n",
        "\n",
        "plt.figure(figsize=(2, 2))\n",
        "sns.heatmap(correlation_matrix, annot=True, cmap='coolwarm', fmt=\".2f\", linewidths=0.5, annot_kws={\"size\": 8})\n",
        "plt.title('Correlation Matrix')\n",
        "plt.show()"
      ],
      "cell_type": "code",
      "metadata": {
        "colab": {
          "base_uri": "https://localhost:8080/",
          "height": 359
        },
        "id": "P0YYkrAAyDWM",
        "outputId": "022fb353-fd25-4d92-e6e8-bc2d1d52eb64"
      },
      "execution_count": null,
      "outputs": [
        {
          "output_type": "display_data",
          "data": {
            "text/plain": [
              "<Figure size 200x200 with 2 Axes>"
            ],
            "image/png": "[encoded data removed]"
          },
          "metadata": {}
        }
      ]
    },
    {
      "cell_type": "code",
      "source": [
        "import numpy as np\n",
        "import matplotlib.pyplot as plt\n",
        "# Set seed for reproducability\n",
        "np.random.seed(100)\n",
        "\n",
        "# Generate a data set of 200 retirement age values\n",
        "x = 5*np.random.randn(200) + 65\n",
        "\n",
        "#Plot the histogram with hist() function\n",
        "plt.hist(x, bins = 30, color='indigo',edgecolor='red')\n",
        "plt.figure(figsize=(2, 2))\n",
        "plt.xlabel('film audition')\n",
        "plt.ylabel('Frequency of Values')\n",
        "plt.title('relationship between genre_performance,Genre_Action & BoxOffice')\n",
        "plt.show()"
      ],
      "metadata": {
        "colab": {
          "base_uri": "https://localhost:8080/",
          "height": 669
        },
        "id": "1zgV8qlhSnCl",
        "outputId": "6c452fff-fd6a-4d6b-a194-93c5a2c732a4"
      },
      "execution_count": null,
      "outputs": [
        {
          "output_type": "display_data",
          "data": {
            "text/plain": [
              "<Figure size 640x480 with 1 Axes>"
            ],
            "image/png": "[encoded data removed]"
          },
          "metadata": {}
        },
        {
          "output_type": "display_data",
          "data": {
            "text/plain": [
              "<Figure size 200x200 with 1 Axes>"
            ],
            "image/png": "[encoded data removed]"
          },
          "metadata": {}
        }
      ]
    },
    {
      "source": [
        "import matplotlib.pyplot as plt\n",
        "import numpy as np\n",
        "\n",
        "# Set seed for reproducibility\n",
        "np.random.seed(100)\n",
        "\n",
        "# Generate a data set of 200 retirement age values\n",
        "x = 5 * np.random.randn(200) + 65\n",
        "# Generate y values.  You'll need to decide how you want to calculate these.\n",
        "y = np.random.rand(200)\n",
        "\n",
        "plt.figure(figsize=(4, 2))\n",
        "\n",
        "# Use the bar() function to create a plot using the above values of x and y. Add a label.\n",
        "plt.bar(x, y, label='Sample Data')\n",
        "\n",
        "plt.xlabel('X Values - Categories')\n",
        "plt.ylabel('Y Values - Quantities')\n",
        "\n",
        "plt.title('relationship between genre_performance,Genre_Action & BoxOffice')\n",
        "plt.legend()\n",
        "\n",
        "# Output the final plot\n",
        "plt.show()"
      ],
      "cell_type": "code",
      "metadata": {
        "colab": {
          "base_uri": "https://localhost:8080/",
          "height": 256
        },
        "id": "cVt--NWE2ke-",
        "outputId": "48d9aac3-16bd-4e7d-ec39-a6999b203414"
      },
      "execution_count": null,
      "outputs": [
        {
          "output_type": "display_data",
          "data": {
            "text/plain": [
              "<Figure size 400x200 with 1 Axes>"
            ],
            "image/png": "[encoded data removed]"
          },
          "metadata": {}
        }
      ]
    },
    {
      "source": [
        "import matplotlib.pyplot as plt\n",
        "%matplotlib inline\n",
        "\n",
        "plt.style.use('ggplot') # for viewing a grid on plot\n",
        "x = [[7.5, 8.2, 6.3], [1, 2, 3]] # Added a comma to separate the lists\n",
        "y = [100, 250, 50]\n",
        "plt.figure(figsize=(4, 4))\n",
        "plt.boxplot(x)\n",
        "plt.title (\"BoxOffice\")\n",
        "plt.xlabel(\"genre_performance\")\n",
        "plt.ylabel(\"Genre_Action\")\n",
        "plt.show()"
      ],
      "cell_type": "code",
      "metadata": {
        "colab": {
          "base_uri": "https://localhost:8080/",
          "height": 415
        },
        "id": "mt9LT4__W8z0",
        "outputId": "5f0237de-08b0-4ec4-9aba-b293c4ab8627"
      },
      "execution_count": null,
      "outputs": [
        {
          "output_type": "display_data",
          "data": {
            "text/plain": [
              "<Figure size 400x400 with 1 Axes>"
            ],
            "image/png": "[encoded data removed]"
          },
          "metadata": {}
        }
      ]
    },
    {
      "cell_type": "markdown",
      "source": [
        "~~CODE QUALITY"
      ],
      "metadata": {
        "id": "HRa2b9BCvIIU"
      }
    },
    {
      "cell_type": "markdown",
      "source": [
        "1. Adherence to PEP 8 Standards\n",
        "PEP 8 is the style guide for Python code. You can check your code with tools like pylint or flake8.\n",
        "\n",
        "2. Readability and Documentation\n",
        "Comments, spacing, and meaningful variable names make code easier to read. Use function docstrings to explain what each function does.\n",
        "\n",
        "3. Code Execution\n",
        "Ensure all code runs without errors and only includes necessary components.\n",
        "\n",
        "4. Minimize Repetition\n",
        "Use functions and loops to avoid repetitive code.\n",
        "\n",
        "5. Proper Citation\n",
        "Cite any adapted code properly."
      ],
      "metadata": {
        "id": "1fbRDPt6vT2U"
      }
    },
    {
      "cell_type": "code",
      "source": [
        "import matplotlib.pyplot as plt\n",
        "import seaborn as sns\n",
        "import pandas as pd\n",
        "\n",
        "def prepare_genre_performance(df):\n",
        "    \"\"\"\n",
        "    Prepares the average box office performance by genre.\n",
        "\n",
        "    Parameters:\n",
        "    df (DataFrame): The merged DataFrame containing movie data.\n",
        "\n",
        "    Returns:\n",
        "    DataFrame: DataFrame with genres and their corresponding average box office performance.\n",
        "    \"\"\"\n",
        "    genre_performance = df.groupby('Genre_Action').agg({'BoxOffice': 'mean'}).reset_index().sort_values(by='BoxOffice', ascending=False)\n",
        "    return genre_performance\n",
        "\n",
        "def plot_genre_performance(df):\n",
        "    \"\"\"\n",
        "    Plots the average box office performance by genre.\n",
        "\n",
        "    Parameters:\n",
        "    df (DataFrame): DataFrame with genres and their corresponding average box office performance.\n",
        "    \"\"\"\n",
        "    plt.figure(figsize=(12, 8))\n",
        "    sns.barplot(x='BoxOffice', y='Genre_Action', data=df, palette='viridis')\n",
        "    plt.title('Average Box Office Performance by Genre')\n",
        "    plt.xlabel('Average Box Office Revenue ($)')\n",
        "    plt.ylabel('Genre')\n",
        "    plt.grid(axis='x', linestyle='--', alpha=0.7)\n",
        "    plt.tight_layout()\n",
        "    plt.show()\n",
        "\n",
        "def plot_star_power_vs_box_office(df):\n",
        "    \"\"\"\n",
        "    Plots the correlation between star power (IMDb rating) and box office revenue.\n",
        "\n",
        "    Parameters:\n",
        "    df (DataFrame): The merged DataFrame containing movie data.\n",
        "    \"\"\"\n",
        "    plt.figure(figsize=(6, 5))\n",
        "    plt.scatter(df['imdbRating'], df['BoxOffice'], color='coral', alpha=0.7, edgecolors='k')\n",
        "    plt.title('Correlation Between Star Power and Box Office Revenue')\n",
        "    plt.xlabel('IMDb Rating')\n",
        "    plt.ylabel('Box Office Revenue ($)')\n",
        "    plt.grid(True, linestyle='--', alpha=0.6)\n",
        "    plt.tight_layout()\n",
        "    plt.show()\n",
        "\n",
        "def plot_ratings_vs_box_office(df):\n",
        "    \"\"\"\n",
        "    Plots the correlation between ratings (critic and audience scores) and box office revenue.\n",
        "\n",
        "    Parameters:\n",
        "    df (DataFrame): The merged DataFrame containing movie data.\n",
        "    \"\"\"\n",
        "    plt.figure(figsize=(6, 5))\n",
        "    sns.regplot(x='critic_score', y='BoxOffice', data=df, scatter_kws={'color': 'blue', 'alpha': 0.5}, line_kws={'color': 'blue', 'linewidth': 1.5}, label='Critic Score')\n",
        "    sns.regplot(x='audience_score', y='BoxOffice', data=df, scatter_kws={'color': 'green', 'alpha': 0.5}, line_kws={'color': 'green', 'linewidth': 1.5}, label='Audience Score')\n",
        "    plt.title('Ratings vs. Box Office Revenue')\n",
        "    plt.xlabel('Ratings')\n",
        "    plt.ylabel('Box Office Revenue ($)')\n",
        "    plt.legend()\n",
        "    plt.grid(True, linestyle='--', alpha=0.5)\n",
        "    plt.tight_layout()\n",
        "    plt.show()\n",
        "\n",
        "# Ensure the merged DataFrame contains the necessary columns\n",
        "print(merged_df.columns)\n",
        "\n",
        "# Visualization 1: Box Office Performance by Genre\n",
        "if 'Genre_Action' in merged_df.columns:\n",
        "    genre_performance = prepare_genre_performance(merged_df)\n",
        "    plot_genre_performance(genre_performance)\n",
        "else:\n",
        "    print(\"Column 'Genre_Action' not found in the DataFrame.\")\n",
        "\n",
        "# Visualization 2: Correlation Between Star Power and Box Office Revenue\n",
        "if 'imdbRating' in merged_df.columns and 'BoxOffice' in merged_df.columns:\n",
        "    plot_star_power_vs_box_office(merged_df)\n",
        "else:\n",
        "    print(\"Columns 'imdbRating' and/or 'BoxOffice' not found in the DataFrame.\")\n",
        "\n",
        "# Visualization 3: Ratings vs. Box Office Revenue\n",
        "if 'critic_score' in merged_df.columns and 'audience_score' in merged_df.columns and 'BoxOffice' in merged_df.columns:\n",
        "    plot_ratings_vs_box_office(merged_df)\n",
        "else:\n",
        "    print(\"Columns 'critic_score', 'audience_score', and/or 'BoxOffice' not found in the DataFrame.\")\n"
      ],
      "metadata": {
        "colab": {
          "base_uri": "https://localhost:8080/",
          "height": 559
        },
        "id": "Y0ecWRtWyByk",
        "outputId": "7be6da27-b5e3-439f-f3fe-5c375bb2214e"
      },
      "execution_count": null,
      "outputs": [
        {
          "output_type": "stream",
          "name": "stdout",
          "text": [
            "Index(['imdbRating', 'BoxOffice', 'other_column'], dtype='object')\n",
            "Column 'Genre_Action' not found in the DataFrame.\n"
          ]
        },
        {
          "output_type": "display_data",
          "data": {
            "text/plain": [
              "<Figure size 600x500 with 1 Axes>"
            ],
            "image/png": "[encoded data removed]"
          },
          "metadata": {}
        },
        {
          "output_type": "stream",
          "name": "stdout",
          "text": [
            "Columns 'critic_score', 'audience_score', and/or 'BoxOffice' not found in the DataFrame.\n"
          ]
        }
      ]
    },
    {
      "cell_type": "markdown",
      "source": [
        "Explanation\n",
        "1. Function Definitions: The code defines functions for data preparation and plotting. This helps in reducing code repetition and makes the code easier to maintain.\n",
        "2. Docstrings: Each function includes a docstring explaining its purpose, parameters, and return values.\n",
        "3. Column Check: Before plotting, the code checks if the necessary columns are present in the DataFrame.\n",
        "4. PEP 8 Compliance: The code follows PEP 8 guidelines, ensuring readability and consistency.\n",
        "5. Comments: Comments are used to explain the purpose of the code blocks.\n",
        "\n",
        "By following these guidelines, the code is well-organized, easy to read, and maintainable. This ensures that stakeholders can understand the visualizations and the insights they provide.\n",
        "\n",
        "\n",
        "\n",
        "\n",
        "\n",
        "\n"
      ],
      "metadata": {
        "id": "xKZKSlGLyfku"
      }
    },
    {
      "cell_type": "markdown",
      "source": [
        "~~GITHUB REPOSITORY\n"
      ],
      "metadata": {
        "id": "DIcUnQgXzfI7"
      }
    },
    {
      "cell_type": "markdown",
      "source": [
        "1. Repository Structure\n",
        "Organize your repository logically with clear and consistent naming conventions. Here is an example structure:"
      ],
      "metadata": {
        "id": "jLEEKLdKzm5X"
      }
    },
    {
      "cell_type": "markdown",
      "source": [
        "project-root/\n",
        "├── data/\n",
        "│   ├── raw/\n",
        "│   ├── processed/\n",
        "├── notebooks/\n",
        "│   ├── analysis.ipynb\n",
        "├── scripts/\n",
        "│   ├── data_preparation.py\n",
        "│   ├── visualizations.py\n",
        "├── results/\n",
        "│   ├── figures/\n",
        "│   ├── reports/\n",
        "├── .gitignore\n",
        "├── README.md\n",
        "├── requirements.txt\n",
        "├── LICENSE\n"
      ],
      "metadata": {
        "id": "iLjKOGnb3zwO"
      }
    },
    {
      "cell_type": "markdown",
      "source": [
        "2. README.md\n",
        "Your README.md should provide a comprehensive overview of the project. Here’s an example of what to include:"
      ],
      "metadata": {
        "id": "0m68g9Jmz1bn"
      }
    },
    {
      "cell_type": "markdown",
      "source": [
        "# Film Analysis Project\n",
        "\n",
        "## Project Overview\n",
        "This project aims to analyze the types of films currently doing the best at the box office and translate these findings into actionable insights for Microsoft to help in their film creation endeavors.\n",
        "\n",
        "## Data Science Steps\n",
        "1. **Data Collection**: Gather data from various sources such as IMDb, Box Office Mojo, and Rotten Tomatoes.\n",
        "2. **Data Cleaning**: Preprocess the data to handle missing values, standardize formats, and create necessary features.\n",
        "3. **Exploratory Data Analysis (EDA)**: Explore the data through visualizations to understand trends and patterns.\n",
        "4. **Feature Engineering**: Create additional features that may be useful for analysis.\n",
        "5. **Modeling and Analysis**: Use statistical models to derive insights and support recommendations.\n",
        "6. **Visualization**: Create visualizations to communicate findings.\n",
        "\n",
        "## Repository Navigation\n",
        "- **data/**: Contains raw and processed data.\n",
        "  - `raw/`: Unprocessed data files.\n",
        "  - `processed/`: Data files after cleaning and preprocessing.\n",
        "- **notebooks/**: Jupyter notebooks for analysis and exploration.\n",
        "  - `analysis.ipynb`: Main notebook for data analysis.\n",
        "- **scripts/**: Python scripts for data preparation and visualization.\n",
        "  - `data_preparation.py`: Script for data cleaning and preprocessing.\n",
        "  - `visualizations.py`: Script for generating visualizations.\n",
        "- **results/**: Contains results, figures, and reports.\n",
        "  - `figures/`: Generated figures and plots.\n",
        "  - `reports/`: Analysis reports and summaries.\n",
        "- **.gitignore**: Lists files and folders to be ignored by Git.\n",
        "- **README.md**: Project summary and navigation guide.\n",
        "- **requirements.txt**: List of dependencies required to run the project.\n",
        "- **LICENSE**: License for the project.\n",
        "\n",
        "## Presentation and Sources\n",
        "- **Presentation**: [Link to presentation](URL)\n",
        "- **Data Sources**:\n",
        "  - IMDb: [IMDb](https://www.imdb.com)\n",
        "  - Box Office Mojo: [Box Office Mojo](https://www.boxofficemojo.com)\n",
        "  - Rotten Tomatoes: [Rotten Tomatoes](https://www.rottentomatoes.com)\n",
        "\n",
        "## Instructions for Use\n",
        "1. Clone the repository:\n",
        "    ```bash\n",
        "    git clone https://github.com/yourusername/film-analysis-project.git\n",
        "    ```\n",
        "2. Navigate to the project directory:\n",
        "    ```bash\n",
        "    cd film-analysis-project\n",
        "    ```\n",
        "3. Install the required dependencies:\n",
        "    ```bash\n",
        "    pip install -r requirements.txt\n",
        "    ```\n",
        "4. Run the analysis notebook:\n",
        "    ```bash\n",
        "    jupyter notebook notebooks/analysis.ipynb\n",
        "    ```\n",
        "\n",
        "## License\n",
        "This project is licensed under the MIT License. See the [LICENSE](LICENSE) file for details.\n"
      ],
      "metadata": {
        "id": "SHRzb96t38nb"
      }
    },
    {
      "cell_type": "markdown",
      "source": [
        "3. .gitignore\n",
        "Create a .gitignore file to list files and folders that should not be pushed to GitHub, such as large datasets or sensitive information."
      ],
      "metadata": {
        "id": "VctRzXrm0IGI"
      }
    },
    {
      "cell_type": "markdown",
      "source": [
        "# Ignore all data files except in the data directory\n",
        "*.csv\n",
        "*.json\n",
        "\n",
        "# Ignore data folders\n",
        "data/raw/\n",
        "data/processed/\n",
        "\n",
        "# Ignore Jupyter Notebook checkpoints\n",
        ".ipynb_checkpoints\n",
        "\n",
        "# Ignore environment files\n",
        ".env\n",
        "\n",
        "# Ignore Python cache files\n",
        "__pycache__/\n",
        "*.py[cod]\n",
        "*.so\n",
        "\n",
        "# Ignore TensorFlow checkpoints"
      ],
      "metadata": {
        "id": "VU92klf84Pvy"
      }
    },
    {
      "cell_type": "markdown",
      "source": [
        "4. Commit History\n",
        "Ensure you commit changes regularly with clear and informative commit messages. Here’s an example of good commit messages:\n",
        "\n"
      ],
      "metadata": {
        "id": "qcf0RD4k0Q04"
      }
    },
    {
      "cell_type": "markdown",
      "source": [
        "Initial commit with project structure\n",
        "Add data collection script for IMDb data\n",
        "Implement data cleaning functions\n",
        "Create EDA notebook with initial visualizations\n",
        "Add feature engineering script\n",
        "Update README with project overview and instructions\n"
      ],
      "metadata": {
        "id": "6AMZA3t24VeE"
      }
    },
    {
      "cell_type": "markdown",
      "source": [
        "5. Requirements File\n",
        "Create a requirements.txt file to list the dependencies required for your project."
      ],
      "metadata": {
        "id": "gp7ziXK10moV"
      }
    },
    {
      "cell_type": "markdown",
      "source": [
        "pandas\n",
        "numpy\n",
        "matplotlib\n",
        "seaborn\n",
        "jupyter\n"
      ],
      "metadata": {
        "id": "7JjpdXFr4aIX"
      }
    },
    {
      "cell_type": "markdown",
      "source": [
        "6. LICENSE\n",
        "Include a LICENSE file to specify the license under which your project is distributed. Here’s an example for the MIT License:"
      ],
      "metadata": {
        "id": "R71oOEyg0wuQ"
      }
    },
    {
      "cell_type": "markdown",
      "source": [
        "MIT License\n",
        "\n",
        "Permission is hereby granted, free of charge, to any person obtaining a copy of this software and associated documentation files (the \"Software\"), to deal in the Software without restriction, including without limitation the rights to use, copy, modify, merge, publish, distribute, sublicense, and/or sell copies of the Software, and to permit persons to whom the Software is furnished to do so, subject to the following conditions:\n",
        "\n",
        "... [rest of the license text]\n"
      ],
      "metadata": {
        "id": "C7yK0HRp4gsQ"
      }
    },
    {
      "cell_type": "markdown",
      "source": [
        "By following these best practices, you’ll create a professional and well-organized GitHub repository that is easy to navigate and understand. This will facilitate collaboration and ensure that your project is presented clearly and effectively to stakeholders."
      ],
      "metadata": {
        "id": "PIUy1pMx05wo"
      }
    },
    {
      "cell_type": "markdown",
      "source": [
        ">Conclusion\n",
        "\n",
        "Microsoft should focus on producing films in high-performing genres such as Action, Drama, and Comedy. Leveraging star power and ensuring high critic and audience scores are key factors that correlate with higher box office revenues.\n",
        "\n",
        ">Recommendations\n",
        "\n",
        "Prioritize High-Performing Genres: Focus on Action, Drama, and Comedy to maximize box office potential.\n",
        "Leverage Star Power: Cast well-known and highly-rated actors to attract larger audiences.\n",
        "Ensure High Quality: Invest in high-quality content to achieve high critic and audience scores, driving better box office performance.\n",
        "\n",
        "\n",
        "\n",
        "\n",
        "\n"
      ],
      "metadata": {
        "id": "v2eiCCzIjw8e"
      }
    }
  ]
}