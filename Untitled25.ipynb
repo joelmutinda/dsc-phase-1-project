{
  "nbformat": 4,
  "nbformat_minor": 0,
  "metadata": {
    "colab": {
      "provenance": [],
      "authorship_tag": "ABX9TyPFzN7bUsmNd9EUYKY131rq",
      "include_colab_link": true
    },
    "kernelspec": {
      "name": "python3",
      "display_name": "Python 3"
    },
    "language_info": {
      "name": "python"
    }
  },
  "cells": [
    {
      "cell_type": "markdown",
      "metadata": {
        "id": "view-in-github",
        "colab_type": "text"
      },
      "source": [
        "<a href=\"https://colab.research.google.com/github/joelmutinda/dsc-phase-1-project/blob/master/Untitled25.ipynb\" target=\"_parent\"><img src=\"https://colab.research.google.com/assets/colab-badge.svg\" alt=\"Open In Colab\"/></a>"
      ]
    },
    {
      "cell_type": "markdown",
      "source": [
        "Loading the zip file"
      ],
      "metadata": {
        "id": "W_hUnh5cQdz_"
      }
    },
    {
      "source": [
        "import pandas as pd\n",
        "import zipfile #Removed the extra space\n",
        "\n",
        "# Open the zip file\n",
        "with zipfile.ZipFile('DATA.zip') as z:\n",
        "    # Get a list of files in the zip\n",
        "    files = z.namelist()\n",
        "    # Filter for CSV files (adjust if your file has a different extension)\n",
        "    csv_files = [f for f in files if f.endswith('.csv')]"
      ],
      "cell_type": "code",
      "metadata": {
        "id": "nEKSQ18NMHM9"
      },
      "execution_count": 25,
      "outputs": []
    },
    {
      "source": [
        "import pandas as pd\n",
        "import zipfile\n",
        "\n",
        "# Open the zip file\n",
        "with zipfile.ZipFile('DATA.zip') as z:\n",
        "    # Get a list of files in the zip\n",
        "    files = z.namelist()\n",
        "    # Filter for CSV files (adjust if your file has a different extension)\n",
        "    csv_files = [f for f in files if f.endswith('.csv')]\n",
        "\n",
        "    #Read the csv file within the with statement\n",
        "    df = pd.read_csv(z.open(csv_files[0]))\n",
        "\n",
        "# Now you can work with the DataFrame 'df' outside the with block\n",
        "print(df.head())"
      ],
      "cell_type": "code",
      "metadata": {
        "colab": {
          "base_uri": "https://localhost:8080/"
        },
        "id": "ABPF5lhkPPre",
        "outputId": "05c5102d-7307-421d-b232-73566442458b"
      },
      "execution_count": 24,
      "outputs": [
        {
          "output_type": "stream",
          "name": "stdout",
          "text": [
            "   OBJECTID       SUBCOUNTY_NAME DISTRICT_NAME    POP        Area Karamoja  \\\n",
            "0       263              KACHERI        KOTIDO  17244  1067176155        Y   \n",
            "1       264               KOTIDO        KOTIDO  52771   597575188        Y   \n",
            "2       265  KOTIDO TOWN COUNCIL        KOTIDO  27389    23972401        Y   \n",
            "3       266         NAKAPERIMORU        KOTIDO  38775   419111591        Y   \n",
            "4       267           PANYANGARA        KOTIDO  65704   880955930        Y   \n",
            "\n",
            "   S_Yield_Ha   M_Yield_Ha  Crop_Area_Ha     S_Area_Ha   M_Area_Ha  \\\n",
            "0  354.207411  1137.467019   7023.533691   6434.342449  528.124229   \n",
            "1  367.890523  1162.996687  13587.990760  12455.592640  824.767081   \n",
            "2  369.314177  1167.005832   1656.531855   1520.322052    8.561644   \n",
            "3  283.324569   852.366578   7087.823334   6761.488901   45.721712   \n",
            "4  373.836926  1283.859882  10398.249390  10111.198130  172.611914   \n",
            "\n",
            "     S_Prod_Tot     M_Prod_Tot  \n",
            "0  2.279092e+06  600723.892900  \n",
            "1  4.582294e+06  959201.382500  \n",
            "2  5.614765e+05    9991.488268  \n",
            "3  1.915696e+06   38971.659080  \n",
            "4  3.779939e+06  221609.511400  \n"
          ]
        }
      ]
    },
    {
      "source": [
        "import pandas as pd\n",
        "import zipfile\n",
        "\n",
        "# Open the zip file\n",
        "with zipfile.ZipFile('DATA.zip') as z:\n",
        "    # Get a list of files in the zip\n",
        "    files = z.namelist()\n",
        "    # Filter for CSV files (adjust if your file has a different extension)\n",
        "    csv_files = [f for f in files if f.endswith('.csv')]\n",
        "\n",
        "    #Read the csv file within the with statement\n",
        "    df = pd.read_csv(z.open(csv_files[0]))\n",
        "\n",
        "# Now you can work with the DataFrame 'df' outside the with block\n",
        "print(df.shape) # Removed the parentheses since df.shape is an attribute"
      ],
      "cell_type": "code",
      "metadata": {
        "colab": {
          "base_uri": "https://localhost:8080/"
        },
        "id": "Xl4KuEuwPw8B",
        "outputId": "8b7c2279-f65a-4622-d274-51fbbcb3ac73"
      },
      "execution_count": 30,
      "outputs": [
        {
          "output_type": "stream",
          "name": "stdout",
          "text": [
            "(52, 13)\n"
          ]
        }
      ]
    },
    {
      "source": [
        "import pandas as pd\n",
        "import zipfile\n",
        "\n",
        "def extract_all_csv_from_zip(zip_path):\n",
        "    \"\"\"\n",
        "    Extracts all CSV files from a ZIP archive and returns them as a dictionary of DataFrames.\n",
        "\n",
        "    Args:\n",
        "        zip_path (str): Path to the ZIP file.\n",
        "\n",
        "    Returns:\n",
        "        dict: A dictionary where keys are file names and values are DataFrames containing the data.\n",
        "    \"\"\"\n",
        "    dataframes = {}\n",
        "\n",
        "    # Open the zip file\n",
        "    with zipfile.ZipFile(zip_path, 'r') as z:\n",
        "        # Get a list of all files in the zip\n",
        "        files = z.namelist()\n",
        "        # Filter for CSV files\n",
        "        csv_files = [f for f in files if f.endswith('.csv')]\n",
        "\n",
        "        # Read each CSV file into a DataFrame and store in the dictionary\n",
        "        for csv_file in csv_files:\n",
        "            # Use an encoding that can handle the file. Try 'latin-1' first, if that doesn't work try others like 'iso-8859-1'.\n",
        "            df = pd.read_csv(z.open(csv_file), encoding='latin-1')\n",
        "            dataframes[csv_file] = df\n",
        "\n",
        "    return dataframes\n",
        "\n",
        "# Example usage\n",
        "zip_path = 'DATA.zip'\n",
        "dataframes_dict = extract_all_csv_from_zip(zip_path)\n",
        "\n",
        "# Print the first few rows of each DataFrame\n",
        "for file_name, df in dataframes_dict.items():\n",
        "    print(f\"\\nData from {file_name}:\")\n",
        "    print(df.head())"
      ],
      "cell_type": "code",
      "metadata": {
        "colab": {
          "base_uri": "https://localhost:8080/"
        },
        "id": "n9Na52U0THYG",
        "outputId": "772af98c-52e9-40a0-e3f0-396634be1f09"
      },
      "execution_count": 40,
      "outputs": [
        {
          "output_type": "stream",
          "name": "stdout",
          "text": [
            "\n",
            "Data from DATA/TABLES/Uganda_Karamoja_Subcounty_Crop_Yield_Population.csv:\n",
            "   OBJECTID       SUBCOUNTY_NAME DISTRICT_NAME    POP        Area Karamoja  \\\n",
            "0       263              KACHERI        KOTIDO  17244  1067176155        Y   \n",
            "1       264               KOTIDO        KOTIDO  52771   597575188        Y   \n",
            "2       265  KOTIDO TOWN COUNCIL        KOTIDO  27389    23972401        Y   \n",
            "3       266         NAKAPERIMORU        KOTIDO  38775   419111591        Y   \n",
            "4       267           PANYANGARA        KOTIDO  65704   880955930        Y   \n",
            "\n",
            "   S_Yield_Ha   M_Yield_Ha  Crop_Area_Ha     S_Area_Ha   M_Area_Ha  \\\n",
            "0  354.207411  1137.467019   7023.533691   6434.342449  528.124229   \n",
            "1  367.890523  1162.996687  13587.990760  12455.592640  824.767081   \n",
            "2  369.314177  1167.005832   1656.531855   1520.322052    8.561644   \n",
            "3  283.324569   852.366578   7087.823334   6761.488901   45.721712   \n",
            "4  373.836926  1283.859882  10398.249390  10111.198130  172.611914   \n",
            "\n",
            "     S_Prod_Tot     M_Prod_Tot  \n",
            "0  2.279092e+06  600723.892900  \n",
            "1  4.582294e+06  959201.382500  \n",
            "2  5.614765e+05    9991.488268  \n",
            "3  1.915696e+06   38971.659080  \n",
            "4  3.779939e+06  221609.511400  \n",
            "\n",
            "Data from __MACOSX/DATA/TABLES/._Uganda_Karamoja_Subcounty_Crop_Yield_Population.csv:\n",
            "Empty DataFrame\n",
            "Columns: [Unnamed: 0]\n",
            "Index: []\n",
            "\n",
            "Data from DATA/TABLES/Uganda_Karamoja_District_Crop_Yield_Population.csv:\n",
            "   OBJECTID     NAME     POP        Area  S_Yield_Ha  M_Yield_Ha  \\\n",
            "0        92     ABIM   90385  2771977106         449        1040   \n",
            "1        96   AMUDAT  101790  1643582836         205        1297   \n",
            "2        20  KAABONG  627057  7373606003         279         945   \n",
            "3        85   KOTIDO  243157  3641539808         331        1148   \n",
            "4         5   MOROTO  127811  3570160948         128         355   \n",
            "\n",
            "   Crop_Area_Ha     S_Area_Ha    M_Area_Ha  S_Prod_Tot  M_Prod_Tot  \n",
            "0   5470.068394   3277.295971  1848.621855     1471506     1922567  \n",
            "1   5765.443719   2973.423860  2733.661014      609552     3545558  \n",
            "2  28121.672530  20544.194960  7394.416334     5731830     6987723  \n",
            "3  53032.649450  50247.443900  1751.372284    16631904     2010575  \n",
            "4   5954.814048   4741.748776  1190.050606      606944      422468  \n",
            "\n",
            "Data from __MACOSX/DATA/TABLES/._Uganda_Karamoja_District_Crop_Yield_Population.csv:\n",
            "Empty DataFrame\n",
            "Columns: [Unnamed: 0]\n",
            "Index: []\n"
          ]
        }
      ]
    },
    {
      "cell_type": "markdown",
      "source": [
        "#PERFOMING DATA ENGINEERING THAT INCLUDES DATA CLEANING#"
      ],
      "metadata": {
        "id": "QbJ9oP6reQbT"
      }
    },
    {
      "cell_type": "markdown",
      "source": [
        "Python Code: Data Extraction and Cleaning"
      ],
      "metadata": {
        "id": "F2cW-6Y2QYMr"
      }
    },
    {
      "cell_type": "code",
      "source": [
        "import pandas as pd\n",
        "import zipfile\n",
        "\n",
        "def extract_csv_from_zip(zip_path):\n",
        "    \"\"\"\n",
        "    Extracts the first CSV file from a ZIP archive and returns it as a DataFrame.\n",
        "\n",
        "    Args:\n",
        "        zip_path (str): Path to the ZIP file.\n",
        "\n",
        "    Returns:\n",
        "        pd.DataFrame: DataFrame containing the data from the first CSV file in the ZIP archive.\n",
        "    \"\"\"\n",
        "    with zipfile.ZipFile(zip_path, 'r') as z:\n",
        "        # Get a list of all files in the zip\n",
        "        files = z.namelist()\n",
        "\n",
        "        # Fi\n"
      ],
      "metadata": {
        "id": "5uqkGhYLQL6Z"
      },
      "execution_count": 58,
      "outputs": []
    },
    {
      "source": [
        "import pandas as pd\n",
        "import zipfile\n",
        "\n",
        "# Open the zip file\n",
        "with zipfile.ZipFile('DATA.zip') as z:\n",
        "    # Get a list of files in the zip\n",
        "    files = z.namelist()\n",
        "\n",
        "    # Filter for CSV files\n",
        "    csv_files = [f for f in files if f.endswith('.csv')]\n",
        "\n",
        "    # Initialize a dictionary to hold DataFrames\n",
        "    dataframes = {}\n",
        "\n",
        "    # Loop through CSV files and read each into a DataFrame\n",
        "    for file in csv_files:\n",
        "        # Use the encoding parameter to specify the correct encoding\n",
        "        dataframes[file] = pd.read_csv(z.open(file), encoding='latin-1') # Try 'latin-1' or 'cp1252' if 'latin-1' doesn't work\n",
        "\n",
        "# Now 'dataframes' contains a DataFrame for each CSV file\n",
        "for filename, df in dataframes.items():\n",
        "    print(f\"{filename}: {df.shape}\")"
      ],
      "cell_type": "code",
      "metadata": {
        "colab": {
          "base_uri": "https://localhost:8080/"
        },
        "id": "e3IW1X2eQ2o1",
        "outputId": "42d5ee4a-1abd-4d4b-a2b6-20f69101c525"
      },
      "execution_count": 33,
      "outputs": [
        {
          "output_type": "stream",
          "name": "stdout",
          "text": [
            "DATA/TABLES/Uganda_Karamoja_Subcounty_Crop_Yield_Population.csv: (52, 13)\n",
            "__MACOSX/DATA/TABLES/._Uganda_Karamoja_Subcounty_Crop_Yield_Population.csv: (0, 1)\n",
            "DATA/TABLES/Uganda_Karamoja_District_Crop_Yield_Population.csv: (7, 11)\n",
            "__MACOSX/DATA/TABLES/._Uganda_Karamoja_District_Crop_Yield_Population.csv: (0, 1)\n"
          ]
        }
      ]
    },
    {
      "cell_type": "markdown",
      "source": [
        "CHECKING MISSING VALUES"
      ],
      "metadata": {
        "id": "HJckVKvxRcJ-"
      }
    },
    {
      "cell_type": "code",
      "source": [
        "# Check for missing values in each column\n",
        "missing_values = df.isnull().sum()\n",
        "print(\"Missing values in each column:\")\n",
        "print(missing_values)\n",
        "\n",
        "# Example of handling missing values (optional)\n",
        "# Filling missing values with a specific value (e.g., 0)\n",
        "df_filled = df.fillna(0)\n",
        "\n",
        "# Dropping rows with any missing values\n",
        "df_cleaned = df.dropna()\n",
        "\n",
        "# Continue with cleaned data\n",
        "print(df_cleaned.head())\n"
      ],
      "metadata": {
        "colab": {
          "base_uri": "https://localhost:8080/"
        },
        "id": "z1aKAm6hR2Sk",
        "outputId": "ccf1ac03-4256-44bb-aad8-8aee522c09c4"
      },
      "execution_count": 35,
      "outputs": [
        {
          "output_type": "stream",
          "name": "stdout",
          "text": [
            "Missing values in each column:\n",
            "Unnamed: 0    0\n",
            "dtype: int64\n",
            "Empty DataFrame\n",
            "Columns: [Unnamed: 0]\n",
            "Index: []\n"
          ]
        }
      ]
    },
    {
      "cell_type": "markdown",
      "source": [
        "CHECKING FOR DUPLICATES\n"
      ],
      "metadata": {
        "id": "r9hEwxhCRgpU"
      }
    },
    {
      "cell_type": "code",
      "source": [
        "import pandas as pd\n",
        "import zipfile\n",
        "\n",
        "# Open the zip file\n",
        "with zipfile.ZipFile('DATA.zip') as z:\n",
        "    # Get a list of files in the zip\n",
        "    files = z.namelist()\n",
        "    # Filter for CSV files (adjust if your file has a different extension)\n",
        "    csv_files = [f for f in files if f.endswith('.csv')]\n",
        "\n",
        "    # Read the CSV file within the with statement\n",
        "    df = pd.read_csv(z.open(csv_files[0]))\n",
        "\n",
        "# Now you can work with the DataFrame 'df' outside the with block\n",
        "print(\"First 5 rows of the DataFrame:\")\n",
        "print(df.head())\n",
        "\n",
        "# Check for duplicates\n",
        "duplicates = df.duplicated()\n",
        "\n",
        "print(\"\\nNumber of duplicate rows:\")\n",
        "print(duplicates.sum())\n",
        "\n",
        "if duplicates.sum() > 0:\n",
        "    print(\"\\nDuplicate rows:\")\n",
        "    print(df[duplicates])\n",
        "else:\n",
        "    print(\"\\nNo duplicate rows found.\")\n"
      ],
      "metadata": {
        "colab": {
          "base_uri": "https://localhost:8080/"
        },
        "id": "3AUVMHPSRkEp",
        "outputId": "4718bb8c-94c2-40ca-d9c8-1e25da629fa8"
      },
      "execution_count": 36,
      "outputs": [
        {
          "output_type": "stream",
          "name": "stdout",
          "text": [
            "First 5 rows of the DataFrame:\n",
            "   OBJECTID       SUBCOUNTY_NAME DISTRICT_NAME    POP        Area Karamoja  \\\n",
            "0       263              KACHERI        KOTIDO  17244  1067176155        Y   \n",
            "1       264               KOTIDO        KOTIDO  52771   597575188        Y   \n",
            "2       265  KOTIDO TOWN COUNCIL        KOTIDO  27389    23972401        Y   \n",
            "3       266         NAKAPERIMORU        KOTIDO  38775   419111591        Y   \n",
            "4       267           PANYANGARA        KOTIDO  65704   880955930        Y   \n",
            "\n",
            "   S_Yield_Ha   M_Yield_Ha  Crop_Area_Ha     S_Area_Ha   M_Area_Ha  \\\n",
            "0  354.207411  1137.467019   7023.533691   6434.342449  528.124229   \n",
            "1  367.890523  1162.996687  13587.990760  12455.592640  824.767081   \n",
            "2  369.314177  1167.005832   1656.531855   1520.322052    8.561644   \n",
            "3  283.324569   852.366578   7087.823334   6761.488901   45.721712   \n",
            "4  373.836926  1283.859882  10398.249390  10111.198130  172.611914   \n",
            "\n",
            "     S_Prod_Tot     M_Prod_Tot  \n",
            "0  2.279092e+06  600723.892900  \n",
            "1  4.582294e+06  959201.382500  \n",
            "2  5.614765e+05    9991.488268  \n",
            "3  1.915696e+06   38971.659080  \n",
            "4  3.779939e+06  221609.511400  \n",
            "\n",
            "Number of duplicate rows:\n",
            "0\n",
            "\n",
            "No duplicate rows found.\n"
          ]
        }
      ]
    },
    {
      "cell_type": "markdown",
      "source": [
        "CHECKING FOR MISSING VALUES REMAINING"
      ],
      "metadata": {
        "id": "1ofN1YPBfvOE"
      }
    },
    {
      "cell_type": "code",
      "source": [
        "import pandas as pd\n",
        "import zipfile\n",
        "\n",
        "# Open the zip file\n",
        "with zipfile.ZipFile('DATA.zip') as z:\n",
        "    # Get a list of files in the zip\n",
        "    files = z.namelist()\n",
        "    # Filter for CSV files\n",
        "    csv_files = [f for f in files if f.endswith('.csv')]\n",
        "\n",
        "    if not csv_files:\n",
        "        raise FileNotFoundError(\"No CSV files found in the zip archive.\")\n",
        "\n",
        "    # Read the first CSV file\n",
        "    with z.open(csv_files[0]) as f:\n",
        "        df = pd.read_csv(f)\n",
        "\n",
        "# Basic data cleaning checks\n",
        "print(\"First few rows of the DataFrame:\")\n",
        "print(df.head())\n",
        "\n",
        "print(\"\\nDataFrame info:\")\n",
        "print(df.info())\n",
        "\n",
        "print(\"\\nChecking for missing values:\")\n",
        "print(df.isnull().sum())\n"
      ],
      "metadata": {
        "colab": {
          "base_uri": "https://localhost:8080/"
        },
        "id": "m1yoiu0HXKbc",
        "outputId": "95fc008a-a03e-40fd-aad7-f755cb7a338f"
      },
      "execution_count": 60,
      "outputs": [
        {
          "output_type": "stream",
          "name": "stdout",
          "text": [
            "First few rows of the DataFrame:\n",
            "   OBJECTID       SUBCOUNTY_NAME DISTRICT_NAME    POP        Area Karamoja  \\\n",
            "0       263              KACHERI        KOTIDO  17244  1067176155        Y   \n",
            "1       264               KOTIDO        KOTIDO  52771   597575188        Y   \n",
            "2       265  KOTIDO TOWN COUNCIL        KOTIDO  27389    23972401        Y   \n",
            "3       266         NAKAPERIMORU        KOTIDO  38775   419111591        Y   \n",
            "4       267           PANYANGARA        KOTIDO  65704   880955930        Y   \n",
            "\n",
            "   S_Yield_Ha   M_Yield_Ha  Crop_Area_Ha     S_Area_Ha   M_Area_Ha  \\\n",
            "0  354.207411  1137.467019   7023.533691   6434.342449  528.124229   \n",
            "1  367.890523  1162.996687  13587.990760  12455.592640  824.767081   \n",
            "2  369.314177  1167.005832   1656.531855   1520.322052    8.561644   \n",
            "3  283.324569   852.366578   7087.823334   6761.488901   45.721712   \n",
            "4  373.836926  1283.859882  10398.249390  10111.198130  172.611914   \n",
            "\n",
            "     S_Prod_Tot     M_Prod_Tot  \n",
            "0  2.279092e+06  600723.892900  \n",
            "1  4.582294e+06  959201.382500  \n",
            "2  5.614765e+05    9991.488268  \n",
            "3  1.915696e+06   38971.659080  \n",
            "4  3.779939e+06  221609.511400  \n",
            "\n",
            "DataFrame info:\n",
            "<class 'pandas.core.frame.DataFrame'>\n",
            "RangeIndex: 52 entries, 0 to 51\n",
            "Data columns (total 13 columns):\n",
            " #   Column          Non-Null Count  Dtype  \n",
            "---  ------          --------------  -----  \n",
            " 0   OBJECTID        52 non-null     int64  \n",
            " 1   SUBCOUNTY_NAME  52 non-null     object \n",
            " 2   DISTRICT_NAME   52 non-null     object \n",
            " 3   POP             52 non-null     int64  \n",
            " 4   Area            52 non-null     int64  \n",
            " 5   Karamoja        52 non-null     object \n",
            " 6   S_Yield_Ha      52 non-null     float64\n",
            " 7   M_Yield_Ha      52 non-null     float64\n",
            " 8   Crop_Area_Ha    52 non-null     float64\n",
            " 9   S_Area_Ha       52 non-null     float64\n",
            " 10  M_Area_Ha       52 non-null     float64\n",
            " 11  S_Prod_Tot      52 non-null     float64\n",
            " 12  M_Prod_Tot      52 non-null     float64\n",
            "dtypes: float64(7), int64(3), object(3)\n",
            "memory usage: 5.4+ KB\n",
            "None\n",
            "\n",
            "Checking for missing values:\n",
            "OBJECTID          0\n",
            "SUBCOUNTY_NAME    0\n",
            "DISTRICT_NAME     0\n",
            "POP               0\n",
            "Area              0\n",
            "Karamoja          0\n",
            "S_Yield_Ha        0\n",
            "M_Yield_Ha        0\n",
            "Crop_Area_Ha      0\n",
            "S_Area_Ha         0\n",
            "M_Area_Ha         0\n",
            "S_Prod_Tot        0\n",
            "M_Prod_Tot        0\n",
            "dtype: int64\n"
          ]
        }
      ]
    },
    {
      "cell_type": "markdown",
      "source": [
        "CLEANING DATA"
      ],
      "metadata": {
        "id": "qBdlObcYf1EG"
      }
    },
    {
      "cell_type": "code",
      "source": [
        "import pandas as pd\n",
        "import zipfile\n",
        "\n",
        "# Open the zip file\n",
        "with zipfile.ZipFile('DATA.zip') as z:\n",
        "    # Get a list of files in the zip\n",
        "    files = z.namelist()\n",
        "    # Filter for CSV files\n",
        "    csv_files = [f for f in files if f.endswith('.csv')]\n",
        "\n",
        "    if not csv_files:\n",
        "        raise FileNotFoundError(\"No CSV files found in the zip archive.\")\n",
        "\n",
        "    # Read the first CSV file\n",
        "    with z.open(csv_files[0]) as f:\n",
        "        df = pd.read_csv(f)\n",
        "\n",
        "# Display initial information\n",
        "print(\"First few rows of the DataFrame:\")\n",
        "print(df.head())\n",
        "\n",
        "print(\"\\nDataFrame info:\")\n",
        "print(df.info())\n",
        "\n",
        "print(\"\\nChecking for missing values:\")\n",
        "print(df.isnull().sum())\n",
        "\n",
        "# Data Cleaning Steps\n",
        "\n",
        "# 1. Handle missing values\n",
        "# Example: Fill missing values with a placeholder or method\n",
        "df.fillna(method='ffill', inplace=True)  # Forward fill\n",
        "\n",
        "# Alternatively, you can drop rows or columns with missing values\n",
        "# df.dropna(inplace=True)  # Drop rows with any missing values\n",
        "# df.dropna(axis=1, inplace=True)  # Drop columns with any missing values\n",
        "\n",
        "# 2. Remove duplicate rows\n",
        "df.drop_duplicates(inplace=True)\n",
        "\n",
        "# 3. Convert data types if needed\n",
        "# Example: Convert a column to numeric\n",
        "# df['column_name'] = pd.to_numeric(df['column_name'], errors='coerce')\n",
        "\n",
        "# 4. Handle incorrect data types\n",
        "# Example: Convert a column to a datetime format\n",
        "# df['date_column'] = pd.to_datetime(df['date_column'], errors='coerce')\n",
        "\n",
        "# Display cleaned DataFrame information\n",
        "print(\"\\nDataFrame info after cleaning:\")\n",
        "print(df.info())\n",
        "\n",
        "print(\"\\nFirst few rows of the cleaned DataFrame:\")\n",
        "print(df.head())\n",
        "\n",
        "# Optional: Save the cleaned DataFrame to a new CSV file\n",
        "df.to_csv('cleaned_data.csv', index=False)\n"
      ],
      "metadata": {
        "colab": {
          "base_uri": "https://localhost:8080/"
        },
        "id": "eJ5PH6g4XcOf",
        "outputId": "56a32d3d-41d2-43cf-9266-ef3fea2f7dc0"
      },
      "execution_count": 56,
      "outputs": [
        {
          "output_type": "stream",
          "name": "stdout",
          "text": [
            "First few rows of the DataFrame:\n",
            "   OBJECTID       SUBCOUNTY_NAME DISTRICT_NAME    POP        Area Karamoja  \\\n",
            "0       263              KACHERI        KOTIDO  17244  1067176155        Y   \n",
            "1       264               KOTIDO        KOTIDO  52771   597575188        Y   \n",
            "2       265  KOTIDO TOWN COUNCIL        KOTIDO  27389    23972401        Y   \n",
            "3       266         NAKAPERIMORU        KOTIDO  38775   419111591        Y   \n",
            "4       267           PANYANGARA        KOTIDO  65704   880955930        Y   \n",
            "\n",
            "   S_Yield_Ha   M_Yield_Ha  Crop_Area_Ha     S_Area_Ha   M_Area_Ha  \\\n",
            "0  354.207411  1137.467019   7023.533691   6434.342449  528.124229   \n",
            "1  367.890523  1162.996687  13587.990760  12455.592640  824.767081   \n",
            "2  369.314177  1167.005832   1656.531855   1520.322052    8.561644   \n",
            "3  283.324569   852.366578   7087.823334   6761.488901   45.721712   \n",
            "4  373.836926  1283.859882  10398.249390  10111.198130  172.611914   \n",
            "\n",
            "     S_Prod_Tot     M_Prod_Tot  \n",
            "0  2.279092e+06  600723.892900  \n",
            "1  4.582294e+06  959201.382500  \n",
            "2  5.614765e+05    9991.488268  \n",
            "3  1.915696e+06   38971.659080  \n",
            "4  3.779939e+06  221609.511400  \n",
            "\n",
            "DataFrame info:\n",
            "<class 'pandas.core.frame.DataFrame'>\n",
            "RangeIndex: 52 entries, 0 to 51\n",
            "Data columns (total 13 columns):\n",
            " #   Column          Non-Null Count  Dtype  \n",
            "---  ------          --------------  -----  \n",
            " 0   OBJECTID        52 non-null     int64  \n",
            " 1   SUBCOUNTY_NAME  52 non-null     object \n",
            " 2   DISTRICT_NAME   52 non-null     object \n",
            " 3   POP             52 non-null     int64  \n",
            " 4   Area            52 non-null     int64  \n",
            " 5   Karamoja        52 non-null     object \n",
            " 6   S_Yield_Ha      52 non-null     float64\n",
            " 7   M_Yield_Ha      52 non-null     float64\n",
            " 8   Crop_Area_Ha    52 non-null     float64\n",
            " 9   S_Area_Ha       52 non-null     float64\n",
            " 10  M_Area_Ha       52 non-null     float64\n",
            " 11  S_Prod_Tot      52 non-null     float64\n",
            " 12  M_Prod_Tot      52 non-null     float64\n",
            "dtypes: float64(7), int64(3), object(3)\n",
            "memory usage: 5.4+ KB\n",
            "None\n",
            "\n",
            "Checking for missing values:\n",
            "OBJECTID          0\n",
            "SUBCOUNTY_NAME    0\n",
            "DISTRICT_NAME     0\n",
            "POP               0\n",
            "Area              0\n",
            "Karamoja          0\n",
            "S_Yield_Ha        0\n",
            "M_Yield_Ha        0\n",
            "Crop_Area_Ha      0\n",
            "S_Area_Ha         0\n",
            "M_Area_Ha         0\n",
            "S_Prod_Tot        0\n",
            "M_Prod_Tot        0\n",
            "dtype: int64\n",
            "\n",
            "DataFrame info after cleaning:\n",
            "<class 'pandas.core.frame.DataFrame'>\n",
            "RangeIndex: 52 entries, 0 to 51\n",
            "Data columns (total 13 columns):\n",
            " #   Column          Non-Null Count  Dtype  \n",
            "---  ------          --------------  -----  \n",
            " 0   OBJECTID        52 non-null     int64  \n",
            " 1   SUBCOUNTY_NAME  52 non-null     object \n",
            " 2   DISTRICT_NAME   52 non-null     object \n",
            " 3   POP             52 non-null     int64  \n",
            " 4   Area            52 non-null     int64  \n",
            " 5   Karamoja        52 non-null     object \n",
            " 6   S_Yield_Ha      52 non-null     float64\n",
            " 7   M_Yield_Ha      52 non-null     float64\n",
            " 8   Crop_Area_Ha    52 non-null     float64\n",
            " 9   S_Area_Ha       52 non-null     float64\n",
            " 10  M_Area_Ha       52 non-null     float64\n",
            " 11  S_Prod_Tot      52 non-null     float64\n",
            " 12  M_Prod_Tot      52 non-null     float64\n",
            "dtypes: float64(7), int64(3), object(3)\n",
            "memory usage: 5.4+ KB\n",
            "None\n",
            "\n",
            "First few rows of the cleaned DataFrame:\n",
            "   OBJECTID       SUBCOUNTY_NAME DISTRICT_NAME    POP        Area Karamoja  \\\n",
            "0       263              KACHERI        KOTIDO  17244  1067176155        Y   \n",
            "1       264               KOTIDO        KOTIDO  52771   597575188        Y   \n",
            "2       265  KOTIDO TOWN COUNCIL        KOTIDO  27389    23972401        Y   \n",
            "3       266         NAKAPERIMORU        KOTIDO  38775   419111591        Y   \n",
            "4       267           PANYANGARA        KOTIDO  65704   880955930        Y   \n",
            "\n",
            "   S_Yield_Ha   M_Yield_Ha  Crop_Area_Ha     S_Area_Ha   M_Area_Ha  \\\n",
            "0  354.207411  1137.467019   7023.533691   6434.342449  528.124229   \n",
            "1  367.890523  1162.996687  13587.990760  12455.592640  824.767081   \n",
            "2  369.314177  1167.005832   1656.531855   1520.322052    8.561644   \n",
            "3  283.324569   852.366578   7087.823334   6761.488901   45.721712   \n",
            "4  373.836926  1283.859882  10398.249390  10111.198130  172.611914   \n",
            "\n",
            "     S_Prod_Tot     M_Prod_Tot  \n",
            "0  2.279092e+06  600723.892900  \n",
            "1  4.582294e+06  959201.382500  \n",
            "2  5.614765e+05    9991.488268  \n",
            "3  1.915696e+06   38971.659080  \n",
            "4  3.779939e+06  221609.511400  \n"
          ]
        },
        {
          "output_type": "stream",
          "name": "stderr",
          "text": [
            "<ipython-input-56-89a1c262b2e1>:32: FutureWarning: DataFrame.fillna with 'method' is deprecated and will raise in a future version. Use obj.ffill() or obj.bfill() instead.\n",
            "  df.fillna(method='ffill', inplace=True)  # Forward fill\n"
          ]
        }
      ]
    },
    {
      "cell_type": "markdown",
      "source": [
        "CLEANED DATA WITH SAVING"
      ],
      "metadata": {
        "id": "IK8Kg_hxf7w0"
      }
    },
    {
      "cell_type": "code",
      "source": [
        "import pandas as pd\n",
        "import zipfile\n",
        "\n",
        "# Open the zip file\n",
        "with zipfile.ZipFile('DATA.zip') as z:\n",
        "    # Get a list of files in the zip\n",
        "    files = z.namelist()\n",
        "    # Filter for CSV files\n",
        "    csv_files = [f for f in files if f.endswith('.csv')]\n",
        "\n",
        "    if not csv_files:\n",
        "        raise FileNotFoundError(\"No CSV files found in the zip archive.\")\n",
        "\n",
        "    # Read the first CSV file\n",
        "    with z.open(csv_files[0]) as f:\n",
        "        df = pd.read_csv(f)\n",
        "\n",
        "# Display initial information\n",
        "print(\"First few rows of the DataFrame:\")\n",
        "print(df.head())\n",
        "\n",
        "print(\"\\nDataFrame info:\")\n",
        "print(df.info())\n",
        "\n",
        "print(\"\\nChecking for missing values:\")\n",
        "print(df.isnull().sum())\n",
        "\n",
        "# Data Cleaning Steps\n",
        "\n",
        "# 1. Handle missing values\n",
        "# Example: Fill missing values with a placeholder or method\n",
        "df.fillna(method='ffill', inplace=True)  # Forward fill\n",
        "\n",
        "# Alternatively, you can drop rows or columns with missing values\n",
        "# df.dropna(inplace=True)  # Drop rows with any missing values\n",
        "# df.dropna(axis=1, inplace=True)  # Drop columns with any missing values\n",
        "\n",
        "# 2. Remove duplicate rows\n",
        "df.drop_duplicates(inplace=True)\n",
        "\n",
        "# 3. Convert data types if needed\n",
        "# Example: Convert a column to numeric\n",
        "# df['column_name'] = pd.to_numeric(df['column_name'], errors='coerce')\n",
        "\n",
        "# 4. Handle incorrect data types\n",
        "# Example: Convert a column to a datetime format\n",
        "# df['date_column'] = pd.to_datetime(df['date_column'], errors='coerce')\n",
        "\n",
        "# Display cleaned DataFrame information\n",
        "print(\"\\nDataFrame info after cleaning:\")\n",
        "print(df.info())\n",
        "\n",
        "print(\"\\nFirst few rows of the cleaned DataFrame:\")\n",
        "print(df.head())\n",
        "\n",
        "# Save the cleaned DataFrame to a new CSV file\n",
        "df.to_csv('cleaned_data.csv', index=False)\n",
        "print(\"\\nCleaned data has been saved to 'cleaned_data.csv'.\")\n"
      ],
      "metadata": {
        "colab": {
          "base_uri": "https://localhost:8080/"
        },
        "id": "pJk-oVw8X9D8",
        "outputId": "9eb98302-8a31-49e5-e202-a0ac733298da"
      },
      "execution_count": 61,
      "outputs": [
        {
          "output_type": "stream",
          "name": "stdout",
          "text": [
            "First few rows of the DataFrame:\n",
            "   OBJECTID       SUBCOUNTY_NAME DISTRICT_NAME    POP        Area Karamoja  \\\n",
            "0       263              KACHERI        KOTIDO  17244  1067176155        Y   \n",
            "1       264               KOTIDO        KOTIDO  52771   597575188        Y   \n",
            "2       265  KOTIDO TOWN COUNCIL        KOTIDO  27389    23972401        Y   \n",
            "3       266         NAKAPERIMORU        KOTIDO  38775   419111591        Y   \n",
            "4       267           PANYANGARA        KOTIDO  65704   880955930        Y   \n",
            "\n",
            "   S_Yield_Ha   M_Yield_Ha  Crop_Area_Ha     S_Area_Ha   M_Area_Ha  \\\n",
            "0  354.207411  1137.467019   7023.533691   6434.342449  528.124229   \n",
            "1  367.890523  1162.996687  13587.990760  12455.592640  824.767081   \n",
            "2  369.314177  1167.005832   1656.531855   1520.322052    8.561644   \n",
            "3  283.324569   852.366578   7087.823334   6761.488901   45.721712   \n",
            "4  373.836926  1283.859882  10398.249390  10111.198130  172.611914   \n",
            "\n",
            "     S_Prod_Tot     M_Prod_Tot  \n",
            "0  2.279092e+06  600723.892900  \n",
            "1  4.582294e+06  959201.382500  \n",
            "2  5.614765e+05    9991.488268  \n",
            "3  1.915696e+06   38971.659080  \n",
            "4  3.779939e+06  221609.511400  \n",
            "\n",
            "DataFrame info:\n",
            "<class 'pandas.core.frame.DataFrame'>\n",
            "RangeIndex: 52 entries, 0 to 51\n",
            "Data columns (total 13 columns):\n",
            " #   Column          Non-Null Count  Dtype  \n",
            "---  ------          --------------  -----  \n",
            " 0   OBJECTID        52 non-null     int64  \n",
            " 1   SUBCOUNTY_NAME  52 non-null     object \n",
            " 2   DISTRICT_NAME   52 non-null     object \n",
            " 3   POP             52 non-null     int64  \n",
            " 4   Area            52 non-null     int64  \n",
            " 5   Karamoja        52 non-null     object \n",
            " 6   S_Yield_Ha      52 non-null     float64\n",
            " 7   M_Yield_Ha      52 non-null     float64\n",
            " 8   Crop_Area_Ha    52 non-null     float64\n",
            " 9   S_Area_Ha       52 non-null     float64\n",
            " 10  M_Area_Ha       52 non-null     float64\n",
            " 11  S_Prod_Tot      52 non-null     float64\n",
            " 12  M_Prod_Tot      52 non-null     float64\n",
            "dtypes: float64(7), int64(3), object(3)\n",
            "memory usage: 5.4+ KB\n",
            "None\n",
            "\n",
            "Checking for missing values:\n",
            "OBJECTID          0\n",
            "SUBCOUNTY_NAME    0\n",
            "DISTRICT_NAME     0\n",
            "POP               0\n",
            "Area              0\n",
            "Karamoja          0\n",
            "S_Yield_Ha        0\n",
            "M_Yield_Ha        0\n",
            "Crop_Area_Ha      0\n",
            "S_Area_Ha         0\n",
            "M_Area_Ha         0\n",
            "S_Prod_Tot        0\n",
            "M_Prod_Tot        0\n",
            "dtype: int64\n",
            "\n",
            "DataFrame info after cleaning:\n",
            "<class 'pandas.core.frame.DataFrame'>\n",
            "RangeIndex: 52 entries, 0 to 51\n",
            "Data columns (total 13 columns):\n",
            " #   Column          Non-Null Count  Dtype  \n",
            "---  ------          --------------  -----  \n",
            " 0   OBJECTID        52 non-null     int64  \n",
            " 1   SUBCOUNTY_NAME  52 non-null     object \n",
            " 2   DISTRICT_NAME   52 non-null     object \n",
            " 3   POP             52 non-null     int64  \n",
            " 4   Area            52 non-null     int64  \n",
            " 5   Karamoja        52 non-null     object \n",
            " 6   S_Yield_Ha      52 non-null     float64\n",
            " 7   M_Yield_Ha      52 non-null     float64\n",
            " 8   Crop_Area_Ha    52 non-null     float64\n",
            " 9   S_Area_Ha       52 non-null     float64\n",
            " 10  M_Area_Ha       52 non-null     float64\n",
            " 11  S_Prod_Tot      52 non-null     float64\n",
            " 12  M_Prod_Tot      52 non-null     float64\n",
            "dtypes: float64(7), int64(3), object(3)\n",
            "memory usage: 5.4+ KB\n",
            "None\n",
            "\n",
            "First few rows of the cleaned DataFrame:\n",
            "   OBJECTID       SUBCOUNTY_NAME DISTRICT_NAME    POP        Area Karamoja  \\\n",
            "0       263              KACHERI        KOTIDO  17244  1067176155        Y   \n",
            "1       264               KOTIDO        KOTIDO  52771   597575188        Y   \n",
            "2       265  KOTIDO TOWN COUNCIL        KOTIDO  27389    23972401        Y   \n",
            "3       266         NAKAPERIMORU        KOTIDO  38775   419111591        Y   \n",
            "4       267           PANYANGARA        KOTIDO  65704   880955930        Y   \n",
            "\n",
            "   S_Yield_Ha   M_Yield_Ha  Crop_Area_Ha     S_Area_Ha   M_Area_Ha  \\\n",
            "0  354.207411  1137.467019   7023.533691   6434.342449  528.124229   \n",
            "1  367.890523  1162.996687  13587.990760  12455.592640  824.767081   \n",
            "2  369.314177  1167.005832   1656.531855   1520.322052    8.561644   \n",
            "3  283.324569   852.366578   7087.823334   6761.488901   45.721712   \n",
            "4  373.836926  1283.859882  10398.249390  10111.198130  172.611914   \n",
            "\n",
            "     S_Prod_Tot     M_Prod_Tot  \n",
            "0  2.279092e+06  600723.892900  \n",
            "1  4.582294e+06  959201.382500  \n",
            "2  5.614765e+05    9991.488268  \n",
            "3  1.915696e+06   38971.659080  \n",
            "4  3.779939e+06  221609.511400  \n",
            "\n",
            "Cleaned data has been saved to 'cleaned_data.csv'.\n"
          ]
        },
        {
          "output_type": "stream",
          "name": "stderr",
          "text": [
            "<ipython-input-61-bca2310fb1f8>:32: FutureWarning: DataFrame.fillna with 'method' is deprecated and will raise in a future version. Use obj.ffill() or obj.bfill() instead.\n",
            "  df.fillna(method='ffill', inplace=True)  # Forward fill\n"
          ]
        }
      ]
    },
    {
      "cell_type": "markdown",
      "source": [
        "#RESEARCH QUESTIONS AND THEIR OBJECTIVES#"
      ],
      "metadata": {
        "id": "Qt7VwqkjdthC"
      }
    },
    {
      "cell_type": "markdown",
      "source": [
        "1. Research Question:\n",
        "How does the average yield of sorghum and maize compare to their total productivity across different subcounties?\n",
        "\n",
        "Objective:\n",
        "\n",
        "To evaluate the relationship between the average yield (S_Yield_Ha for sorghum and M_Yield_Ha for maize) and total productivity (S_Prod_Tot for sorghum and M_Prod_Tot for maize) across subcounties.\n",
        "To identify patterns or discrepancies in yield versus productivity, providing insights into areas where productivity may be disproportionately high or low relative to yield.\n",
        "2. Research Question:\n",
        "How do changes in crop area relate to variations in average yield for sorghum and maize across different subcounties?\n",
        "\n",
        "Objective:\n",
        "\n",
        "To analyze the impact of total crop area (S_Area_Ha for sorghum and M_Area_Ha for maize) on average yields (S_Yield_Ha and M_Yield_Ha).\n",
        "To determine if larger crop areas correspond to higher or lower yields and assess the efficiency of land use for sorghum and maize.\n",
        "3. Research Question:\n",
        "What is the comparative productivity of sorghum versus maize in different subcounties, and how does it relate to the crop area?\n",
        "\n",
        "Objective:\n",
        "\n",
        "To compare total productivity for sorghum (S_Prod_Tot) and maize (M_Prod_Tot) within subcounties.\n",
        "To understand how crop area (S_Area_Ha and M_Area_Ha) influences productivity levels, and identify regions where one crop is significantly more productive than the other.\n",
        "4. Research Question:\n",
        "How does the total population of a subcounty correlate with the total crop area dedicated to sorghum and maize?\n",
        "\n",
        "Objective:\n",
        "\n",
        "To explore the relationship between total population (POP) and total crop area (Crop_Area_Ha) for both sorghum (S_Area_Ha) and maize (M_Area_Ha).\n",
        "To determine if higher population densities correspond with larger or smaller crop areas, and assess how population dynamics might influence agricultural land use."
      ],
      "metadata": {
        "id": "CqxWHJlfdoHF"
      }
    },
    {
      "cell_type": "markdown",
      "source": [
        "#VISUAL REPRESENTATION IN THE TABLEAU"
      ],
      "metadata": {
        "id": "uNsfhW9Bg1OY"
      }
    },
    {
      "cell_type": "markdown",
      "source": [
        "To effectively address the research questions and create visually appealing and insightful visualizations in Tableau, consider using the following types:\n",
        "\n",
        "1. Comparison of Average Yield vs. Total Productivity\n",
        "Visualizations:\n",
        "\n",
        "Scatter Plot:\n",
        "Description: A scatter plot allows you to compare S_Yield_Ha (average sorghum yield) and M_Yield_Ha (average maize yield) against S_Prod_Tot (total sorghum productivity) and M_Prod_Tot (total maize productivity). This will visually show the correlation and distribution of yield versus productivity.\n",
        "Enhancements: Use color coding to differentiate between sorghum and maize, and add trend lines to indicate general relationships.\n",
        "Map Overlay:\n",
        "Description: Overlay the scatter plot on a map of Uganda using subcounty boundaries to visualize how yield and productivity are distributed geographically.\n",
        "2. Changes in Crop Area vs. Average Yield\n",
        "Visualizations:\n",
        "\n",
        "Dual-Axis Bar and Line Chart:\n",
        "Description: Create a bar chart to show S_Area_Ha (total sorghum crop area) and M_Area_Ha (total maize crop area) alongside a line chart representing S_Yield_Ha and M_Yield_Ha (average yields). This dual-axis chart allows you to compare crop area and yield on the same timeline or for the same subcounties.\n",
        "Enhancements: Use different colors for bars and lines to differentiate between crops, and include tooltips to provide detailed data points.\n",
        "3. Productivity of Sorghum vs. Maize\n",
        "Visualizations:\n",
        "\n",
        "Stacked Bar Chart:\n",
        "Description: Use a stacked bar chart to compare S_Prod_Tot (total sorghum productivity) and M_Prod_Tot (total maize productivity) by subcounty. This chart will show the relative productivity of each crop within the same subcounties.\n",
        "Enhancements: Add labels to display exact productivity values and use color coding to differentiate between sorghum and maize.\n",
        "Map View:\n",
        "Description: Create a map view showing S_Prod_Tot and M_Prod_Tot with varying colors or sizes to represent productivity levels geographically.\n",
        "4. Population vs. Crop Area\n",
        "Visualizations:\n",
        "\n",
        "Bubble Map:\n",
        "Description: A bubble map can represent POP (total population) on the x-axis and Crop_Area_Ha (total crop area) on the y-axis, with bubble size indicating S_Area_Ha (sorghum) and M_Area_Ha (maize). This visualization shows the relationship between population and crop area while highlighting the size of the crop area.\n",
        "Enhancements: Use color gradients to represent different levels of crop area and population, and include interactive filters to explore specific subcounties.\n",
        "\n",
        "These visualizations will not only make your analysis engaging but also provide clear insights into the relationships between the variables. Each type is designed to highlight specific aspects of the data, making it easier to identify patterns and trends."
      ],
      "metadata": {
        "id": "YIyJz-uRgtUF"
      }
    },
    {
      "cell_type": "markdown",
      "source": [
        "#RECOMMENDATIONS"
      ],
      "metadata": {
        "id": "ZmF5asruiDSv"
      }
    },
    {
      "cell_type": "markdown",
      "source": [
        "Utilize the satellite-based yield monitoring tool to validate yield predictions, refine measurement accuracy, and assess correlations with environmental stressors. Leverage these insights to enhance decision-making and optimize resource allocation, ultimately improving food security efforts in Karamoja."
      ],
      "metadata": {
        "id": "uLsmXsGuiB0A"
      }
    },
    {
      "cell_type": "markdown",
      "source": [
        "#CONCLUSION"
      ],
      "metadata": {
        "id": "xzsWxiqqh1cB"
      }
    },
    {
      "cell_type": "markdown",
      "source": [
        "The satellite-based yield monitoring tool for Karamoja effectively identifies yield patterns and productivity levels. By comparing satellite data with actual yields, analyzing accuracy factors, and correlating yields with environmental stressors, the tool provides valuable insights for NGOs. This enhances decision-making and resource allocation, contributing to improved food security in the region.\n"
      ],
      "metadata": {
        "id": "11iggYAchLUW"
      }
    }
  ]
}